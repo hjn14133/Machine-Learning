{
  "nbformat": 4,
  "nbformat_minor": 0,
  "metadata": {
    "colab": {
      "name": "XGB_Regression_Yield.ipynb",
      "provenance": [],
      "authorship_tag": "ABX9TyP/Lg0mzh7D06mcARXmsqKL",
      "include_colab_link": true
    },
    "kernelspec": {
      "name": "python3",
      "display_name": "Python 3"
    },
    "language_info": {
      "name": "python"
    }
  },
  "cells": [
    {
      "cell_type": "markdown",
      "metadata": {
        "id": "view-in-github",
        "colab_type": "text"
      },
      "source": [
        "<a href=\"https://colab.research.google.com/github/hjn14133/Machine-Learning/blob/main/XGB_Regression_Yield.ipynb\" target=\"_parent\"><img src=\"https://colab.research.google.com/assets/colab-badge.svg\" alt=\"Open In Colab\"/></a>"
      ]
    },
    {
      "cell_type": "code",
      "metadata": {
        "id": "uJB0f0n_4_uR"
      },
      "source": [
        "import numpy as np # linear algebra\n",
        "import pandas as pd # data processing, CSV file I/O (e.g. pd.read_csv)\n",
        "import sklearn\n",
        "\n",
        "from sklearn import preprocessing\n",
        "import xgboost as xgb\n",
        "from sklearn.model_selection import GridSearchCV\n",
        "from sklearn import linear_model\n",
        "from sklearn.model_selection import train_test_split\n",
        "from xgboost.sklearn import XGBRegressor\n",
        "from sklearn.metrics import mean_squared_error\n",
        "import seaborn as sns\n",
        "from sklearn.tree import DecisionTreeRegressor\n",
        "from sklearn.feature_selection import RFE\n",
        "from math import log\n",
        "import matplotlib\n",
        "import matplotlib.pyplot as plt"
      ],
      "execution_count": null,
      "outputs": []
    },
    {
      "cell_type": "code",
      "metadata": {
        "id": "TSNQ_jh56XCB"
      },
      "source": [
        "df = pd.read_csv(\"FT_join_JH_cleaned.csv\")\n"
      ],
      "execution_count": 5,
      "outputs": []
    },
    {
      "cell_type": "code",
      "metadata": {
        "id": "SZdVksZY6fSo"
      },
      "source": [
        "X = df[['DISTANCE', 'Heading','Elevation', 'AppliedRat']]\n",
        "y = df['VRYIELDBAL']\n",
        "\n",
        "# y = df['Loan_Rat']"
      ],
      "execution_count": 6,
      "outputs": []
    },
    {
      "cell_type": "code",
      "metadata": {
        "id": "bdGbRBFHbs4D"
      },
      "source": [
        "# Perform data splitting using 80/20 ratio\n",
        "X_train, X_test, Y_train, Y_test = train_test_split(X, y, test_size=0.2)"
      ],
      "execution_count": 8,
      "outputs": []
    },
    {
      "cell_type": "code",
      "metadata": {
        "colab": {
          "base_uri": "https://localhost:8080/"
        },
        "id": "ARZmQOXdb2Rh",
        "outputId": "41935c69-91d1-40a2-e590-040a9bdf712e"
      },
      "source": [
        "# Various hyper-parameters to tune\n",
        "xgb1 = XGBRegressor()\n",
        "parameters = {'nthread':[4], #when use hyperthread, xgboost may become slower\n",
        "              'objective':['reg:linear'],\n",
        "              'learning_rate': [.03, 0.05, .07], #so called `eta` value\n",
        "              'max_depth': [3, 4, 5, 6, 7, 8,  9, 10],\n",
        "              'min_child_weight': [1, 2, 3, 4, 5, 6],\n",
        "              'silent': [0, 1],\n",
        "              'subsample': [0.5, 0.75, 1],\n",
        "              'colsample_bytree': [0.5, 0.7, 1],\n",
        "              'n_estimators': [500, 1000, 1500]}\n",
        "\n",
        "xgb_grid = GridSearchCV(xgb1,\n",
        "                        parameters,\n",
        "                        cv = 2,\n",
        "                        n_jobs = 5,\n",
        "                        verbose=True)\n",
        "\n",
        "xgb_grid.fit(X_train, Y_train)\n",
        "\n",
        "print(xgb_grid.best_score_)\n",
        "print(xgb_grid.best_params_)"
      ],
      "execution_count": null,
      "outputs": [
        {
          "output_type": "stream",
          "name": "stdout",
          "text": [
            "Fitting 2 folds for each of 7776 candidates, totalling 15552 fits\n"
          ]
        },
        {
          "output_type": "stream",
          "name": "stderr",
          "text": [
            "[Parallel(n_jobs=5)]: Using backend LokyBackend with 5 concurrent workers.\n",
            "[Parallel(n_jobs=5)]: Done  40 tasks      | elapsed:  1.5min\n",
            "[Parallel(n_jobs=5)]: Done 190 tasks      | elapsed:  6.5min\n"
          ]
        }
      ]
    },
    {
      "cell_type": "code",
      "metadata": {
        "colab": {
          "base_uri": "https://localhost:8080/"
        },
        "id": "P8-PC038h73y",
        "outputId": "d9b7e3f0-e59b-468d-bacb-3db7a6427ae6"
      },
      "source": [
        "parameters = {'objective':['reg:squarederror'],\n",
        "              'booster':['gbtree', 'gblinear'],\n",
        "              'learning_rate': [0.1],\n",
        "              'max_depth': [7,10,15,20],\n",
        "              'min_child_weight': [10,15,20,25],\n",
        "              'colsample_bytree': [0.8, 0.9, 1],\n",
        "              'n_estimators': [300,400,500,600],\n",
        "              \"reg_alpha\" : [0.5,0.2,1],\n",
        "              \"reg_lambda\" : [2,3,5],\n",
        "              \"gamma\" : [1,2,3]}\n",
        "\n",
        "xgb_model = XGBRegressor(random_state=30)\n",
        "\n",
        "grid_xgb = RandomizedSearchCV(xgb_model,parameters, cv=5, n_iter=10, scoring='neg_mean_absolute_error', verbose=3, n_jobs=12)\n",
        "\n",
        "grid_xgb.fit(X_train, Y_train, verbose = 1)"
      ],
      "execution_count": 14,
      "outputs": [
        {
          "output_type": "stream",
          "name": "stdout",
          "text": [
            "[17:09:28] WARNING: /workspace/src/objective/regression_obj.cu:152: reg:linear is now deprecated in favor of reg:squarederror.\n",
            "[0]\tvalidation_0-rmse:1.96471\n",
            "[1]\tvalidation_0-rmse:1.79651\n",
            "[2]\tvalidation_0-rmse:1.65131\n",
            "[3]\tvalidation_0-rmse:1.51857\n",
            "[4]\tvalidation_0-rmse:1.40005\n",
            "[5]\tvalidation_0-rmse:1.29596\n",
            "[6]\tvalidation_0-rmse:1.20307\n",
            "[7]\tvalidation_0-rmse:1.12194\n",
            "[8]\tvalidation_0-rmse:1.055\n",
            "[9]\tvalidation_0-rmse:0.991827\n",
            "[10]\tvalidation_0-rmse:0.93871\n",
            "[11]\tvalidation_0-rmse:0.889797\n",
            "[12]\tvalidation_0-rmse:0.851514\n",
            "[13]\tvalidation_0-rmse:0.812633\n",
            "[14]\tvalidation_0-rmse:0.779928\n",
            "[15]\tvalidation_0-rmse:0.75573\n",
            "[16]\tvalidation_0-rmse:0.729076\n",
            "[17]\tvalidation_0-rmse:0.70761\n",
            "[18]\tvalidation_0-rmse:0.691847\n",
            "[19]\tvalidation_0-rmse:0.673776\n",
            "[20]\tvalidation_0-rmse:0.65852\n",
            "[21]\tvalidation_0-rmse:0.645296\n",
            "[22]\tvalidation_0-rmse:0.633999\n",
            "[23]\tvalidation_0-rmse:0.62579\n",
            "[24]\tvalidation_0-rmse:0.619412\n",
            "[25]\tvalidation_0-rmse:0.613927\n",
            "[26]\tvalidation_0-rmse:0.609061\n",
            "[27]\tvalidation_0-rmse:0.600535\n",
            "[28]\tvalidation_0-rmse:0.596961\n",
            "[29]\tvalidation_0-rmse:0.593496\n",
            "[30]\tvalidation_0-rmse:0.587506\n",
            "[31]\tvalidation_0-rmse:0.585138\n",
            "[32]\tvalidation_0-rmse:0.581723\n",
            "[33]\tvalidation_0-rmse:0.578696\n",
            "[34]\tvalidation_0-rmse:0.57319\n",
            "[35]\tvalidation_0-rmse:0.571236\n",
            "[36]\tvalidation_0-rmse:0.569444\n",
            "[37]\tvalidation_0-rmse:0.566474\n",
            "[38]\tvalidation_0-rmse:0.563291\n",
            "[39]\tvalidation_0-rmse:0.559773\n",
            "[40]\tvalidation_0-rmse:0.558163\n",
            "[41]\tvalidation_0-rmse:0.556778\n",
            "[42]\tvalidation_0-rmse:0.555844\n",
            "[43]\tvalidation_0-rmse:0.554772\n",
            "[44]\tvalidation_0-rmse:0.553541\n",
            "[45]\tvalidation_0-rmse:0.551099\n",
            "[46]\tvalidation_0-rmse:0.550382\n",
            "[47]\tvalidation_0-rmse:0.54965\n",
            "[48]\tvalidation_0-rmse:0.547276\n",
            "[49]\tvalidation_0-rmse:0.546438\n",
            "[50]\tvalidation_0-rmse:0.545518\n",
            "[51]\tvalidation_0-rmse:0.544277\n",
            "[52]\tvalidation_0-rmse:0.543692\n",
            "[53]\tvalidation_0-rmse:0.543119\n",
            "[54]\tvalidation_0-rmse:0.542501\n",
            "[55]\tvalidation_0-rmse:0.541636\n",
            "[56]\tvalidation_0-rmse:0.540191\n",
            "[57]\tvalidation_0-rmse:0.539701\n",
            "[58]\tvalidation_0-rmse:0.539295\n",
            "[59]\tvalidation_0-rmse:0.537585\n",
            "[60]\tvalidation_0-rmse:0.536597\n",
            "[61]\tvalidation_0-rmse:0.536575\n",
            "[62]\tvalidation_0-rmse:0.535462\n",
            "[63]\tvalidation_0-rmse:0.535284\n",
            "[64]\tvalidation_0-rmse:0.535129\n",
            "[65]\tvalidation_0-rmse:0.534796\n",
            "[66]\tvalidation_0-rmse:0.533297\n",
            "[67]\tvalidation_0-rmse:0.531805\n",
            "[68]\tvalidation_0-rmse:0.530433\n",
            "[69]\tvalidation_0-rmse:0.529644\n",
            "[70]\tvalidation_0-rmse:0.529774\n",
            "[71]\tvalidation_0-rmse:0.529471\n",
            "[72]\tvalidation_0-rmse:0.528818\n",
            "[73]\tvalidation_0-rmse:0.528624\n",
            "[74]\tvalidation_0-rmse:0.528665\n",
            "[75]\tvalidation_0-rmse:0.527647\n",
            "[76]\tvalidation_0-rmse:0.526533\n",
            "[77]\tvalidation_0-rmse:0.525555\n",
            "[78]\tvalidation_0-rmse:0.525181\n",
            "[79]\tvalidation_0-rmse:0.524789\n",
            "[80]\tvalidation_0-rmse:0.524753\n",
            "[81]\tvalidation_0-rmse:0.524028\n",
            "[82]\tvalidation_0-rmse:0.523731\n",
            "[83]\tvalidation_0-rmse:0.522841\n",
            "[84]\tvalidation_0-rmse:0.522603\n",
            "[85]\tvalidation_0-rmse:0.52242\n",
            "[86]\tvalidation_0-rmse:0.522246\n",
            "[87]\tvalidation_0-rmse:0.522203\n",
            "[88]\tvalidation_0-rmse:0.521989\n",
            "[89]\tvalidation_0-rmse:0.52177\n",
            "[90]\tvalidation_0-rmse:0.521236\n",
            "[91]\tvalidation_0-rmse:0.521338\n",
            "[92]\tvalidation_0-rmse:0.521354\n",
            "[93]\tvalidation_0-rmse:0.521037\n",
            "[94]\tvalidation_0-rmse:0.520959\n",
            "[95]\tvalidation_0-rmse:0.520931\n",
            "[96]\tvalidation_0-rmse:0.521105\n",
            "[97]\tvalidation_0-rmse:0.520958\n",
            "[98]\tvalidation_0-rmse:0.520448\n",
            "[99]\tvalidation_0-rmse:0.520291\n"
          ]
        },
        {
          "output_type": "execute_result",
          "data": {
            "text/plain": [
              "XGBRegressor(base_score=0.5, booster='gbtree', colsample_bylevel=1,\n",
              "             colsample_bynode=1, colsample_bytree=1, early_stopping_rounds=10,\n",
              "             gamma=0, importance_type='gain', learning_rate=0.1,\n",
              "             max_delta_step=0, max_depth=6, min_child_weight=1, missing=None,\n",
              "             n_estimators=100, n_jobs=-1, nthread=None, objective='reg:linear',\n",
              "             random_state=42, reg_alpha=0, reg_lambda=1, scale_pos_weight=1,\n",
              "             seed=None, silent=None, subsample=1, verbosity=1)"
            ]
          },
          "metadata": {},
          "execution_count": 14
        }
      ]
    },
    {
      "cell_type": "code",
      "metadata": {
        "id": "RRKhkbs0iFef"
      },
      "source": [
        "predictions = model.predict(X_test)"
      ],
      "execution_count": 17,
      "outputs": []
    },
    {
      "cell_type": "code",
      "metadata": {
        "colab": {
          "base_uri": "https://localhost:8080/"
        },
        "id": "1UptuIqxf1aV",
        "outputId": "6b9ab89c-a4c9-4320-9f06-40c2f4be2e4e"
      },
      "source": [
        "gb.best_params_"
      ],
      "execution_count": 11,
      "outputs": [
        {
          "output_type": "execute_result",
          "data": {
            "text/plain": [
              "{'colsample_bytree': 1.0,\n",
              " 'gamma': 0.5,\n",
              " 'max_depth': 4,\n",
              " 'min_child_weight': 5,\n",
              " 'subsample': 0.8}"
            ]
          },
          "metadata": {},
          "execution_count": 11
        }
      ]
    },
    {
      "cell_type": "code",
      "metadata": {
        "colab": {
          "base_uri": "https://localhost:8080/"
        },
        "id": "RsOtQedsgAY_",
        "outputId": "b36178e6-d001-4700-8f9c-3a5d6aee1dc7"
      },
      "source": [
        "gb.best_score_"
      ],
      "execution_count": 12,
      "outputs": [
        {
          "output_type": "execute_result",
          "data": {
            "text/plain": [
              "0.6391436530878731"
            ]
          },
          "metadata": {},
          "execution_count": 12
        }
      ]
    },
    {
      "cell_type": "code",
      "metadata": {
        "id": "Yh-M1_9CgAwB"
      },
      "source": [
        ""
      ],
      "execution_count": null,
      "outputs": []
    }
  ]
}