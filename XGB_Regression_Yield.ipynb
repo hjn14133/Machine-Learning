{
  "nbformat": 4,
  "nbformat_minor": 0,
  "metadata": {
    "colab": {
      "name": "XGB_Regression_Yield.ipynb",
      "provenance": [],
      "authorship_tag": "ABX9TyP5p0N6iXES0S+EPHYaFO/u",
      "include_colab_link": true
    },
    "kernelspec": {
      "name": "python3",
      "display_name": "Python 3"
    },
    "language_info": {
      "name": "python"
    }
  },
  "cells": [
    {
      "cell_type": "markdown",
      "metadata": {
        "id": "view-in-github",
        "colab_type": "text"
      },
      "source": [
        "<a href=\"https://colab.research.google.com/github/hjn14133/Machine-Learning/blob/main/XGB_Regression_Yield.ipynb\" target=\"_parent\"><img src=\"https://colab.research.google.com/assets/colab-badge.svg\" alt=\"Open In Colab\"/></a>"
      ]
    },
    {
      "cell_type": "code",
      "metadata": {
        "id": "uJB0f0n_4_uR"
      },
      "source": [
        "import numpy as np # linear algebra\n",
        "import pandas as pd # data processing, CSV file I/O (e.g. pd.read_csv)\n",
        "import sklearn\n",
        "\n",
        "from sklearn import preprocessing\n",
        "import xgboost as xgb\n",
        "from sklearn.model_selection import GridSearchCV\n",
        "from sklearn import linear_model\n",
        "from sklearn.model_selection import train_test_split\n",
        "from xgboost.sklearn import XGBRegressor\n",
        "from sklearn.metrics import mean_squared_error\n",
        "import seaborn as sns\n",
        "from sklearn.tree import DecisionTreeRegressor\n",
        "from sklearn.feature_selection import RFE\n",
        "from math import log\n",
        "import matplotlib\n",
        "import matplotlib.pyplot as plt"
      ],
      "execution_count": null,
      "outputs": []
    },
    {
      "cell_type": "code",
      "metadata": {
        "id": "TSNQ_jh56XCB"
      },
      "source": [
        "df = pd.read_csv(\"FT_join_JH_cleaned.csv\")\n"
      ],
      "execution_count": 5,
      "outputs": []
    },
    {
      "cell_type": "code",
      "metadata": {
        "id": "SZdVksZY6fSo"
      },
      "source": [
        "X = df[['DISTANCE', 'Heading','Elevation', 'AppliedRat']]\n",
        "y = df['VRYIELDBAL']\n",
        "\n",
        "# y = df['Loan_Rat']"
      ],
      "execution_count": 6,
      "outputs": []
    },
    {
      "cell_type": "code",
      "metadata": {
        "id": "bdGbRBFHbs4D"
      },
      "source": [
        "# Perform data splitting using 80/20 ratio\n",
        "X_train, X_test, Y_train, Y_test = train_test_split(X, y, test_size=0.2)"
      ],
      "execution_count": 8,
      "outputs": []
    },
    {
      "cell_type": "code",
      "metadata": {
        "colab": {
          "base_uri": "https://localhost:8080/"
        },
        "id": "FRwGPw2oLvNn",
        "outputId": "0af4e9f7-d843-47fc-83f3-51b934ce3cf3"
      },
      "source": [
        "xgb = XGBRegressor(random_state=1)\n",
        "xgb.fit(X_train, Y_train)\n",
        "Y_preds = xgb.predict(X_test)\n",
        "\n",
        "print('Training Coefficient of R^2 : %.3f'%xgb.score(X_train, Y_train))\n",
        "print('Test Coefficient of R^2 : %.3f'%xgb.score(X_test, Y_test))\n",
        "\n",
        "xgb.get_params()"
      ],
      "execution_count": 29,
      "outputs": [
        {
          "output_type": "stream",
          "name": "stdout",
          "text": [
            "[20:13:14] WARNING: /workspace/src/objective/regression_obj.cu:152: reg:linear is now deprecated in favor of reg:squarederror.\n",
            "Training Coefficient of R^2 : 0.623\n",
            "Test Coefficient of R^2 : 0.587\n"
          ]
        },
        {
          "output_type": "execute_result",
          "data": {
            "text/plain": [
              "{'base_score': 0.5,\n",
              " 'booster': 'gbtree',\n",
              " 'colsample_bylevel': 1,\n",
              " 'colsample_bynode': 1,\n",
              " 'colsample_bytree': 1,\n",
              " 'gamma': 0,\n",
              " 'importance_type': 'gain',\n",
              " 'learning_rate': 0.1,\n",
              " 'max_delta_step': 0,\n",
              " 'max_depth': 3,\n",
              " 'min_child_weight': 1,\n",
              " 'missing': None,\n",
              " 'n_estimators': 100,\n",
              " 'n_jobs': 1,\n",
              " 'nthread': None,\n",
              " 'objective': 'reg:linear',\n",
              " 'random_state': 1,\n",
              " 'reg_alpha': 0,\n",
              " 'reg_lambda': 1,\n",
              " 'scale_pos_weight': 1,\n",
              " 'seed': None,\n",
              " 'silent': None,\n",
              " 'subsample': 1,\n",
              " 'verbosity': 1}"
            ]
          },
          "metadata": {},
          "execution_count": 29
        }
      ]
    },
    {
      "cell_type": "code",
      "metadata": {
        "colab": {
          "base_uri": "https://localhost:8080/"
        },
        "id": "ARZmQOXdb2Rh",
        "outputId": "75ed5a86-6913-4a64-877a-4fb3ef534b4c"
      },
      "source": [
        "# Various hyper-parameters to tune\n",
        "xgb1 = XGBRegressor()\n",
        "parameters = {'nthread':[1], #when use hyperthread, xgboost may become slower\n",
        "              'booster':['gbtree'],\n",
        "              'objective':['reg:linear'],\n",
        "              'learning_rate': [0.05, 0.1,0.2, 0.3], #so called `eta` value [0.01-0.2]\n",
        "              'max_depth': [3, 4, 5, 6], #6, [3, 10]\n",
        "              #'min_child_weight': [1, 2, 3], #1, too high-under-fitting\n",
        "              #'silent': [0, 1],\n",
        "              #'subsample': [0.5, 0.75, 1],\n",
        "              #'colsample_bytree': [0.5, 0.7, 1],\n",
        "              'n_estimators': [300, 500, 1000]}\n",
        "\n",
        "xgb_grid = GridSearchCV(xgb1,\n",
        "                        parameters,\n",
        "                        cv = 2,\n",
        "                        n_jobs = 5,\n",
        "                        verbose=True)\n",
        "\n",
        "xgb_grid.fit(X_train, Y_train)\n",
        "\n",
        "print('Train R^2 Score : %.3f'%xgb_grid.best_estimator_.score(X_train, Y_train))\n",
        "print('Test R^2 Score : %.3f'%xgb_grid.best_estimator_.score(X_test, Y_test))\n",
        "print('Best R^2 Score Through Grid Search : %.3f'%xgb_grid.best_score_)\n",
        "print('Best Parameters : ',xgb_grid.best_params_)\n",
        "\n",
        "print(xgb_grid.best_score_)\n",
        "print(xgb_grid.best_params_)"
      ],
      "execution_count": 28,
      "outputs": [
        {
          "output_type": "stream",
          "name": "stdout",
          "text": [
            "Fitting 2 folds for each of 48 candidates, totalling 96 fits\n"
          ]
        },
        {
          "output_type": "stream",
          "name": "stderr",
          "text": [
            "[Parallel(n_jobs=5)]: Using backend LokyBackend with 5 concurrent workers.\n",
            "[Parallel(n_jobs=5)]: Done  40 tasks      | elapsed:  1.0min\n",
            "[Parallel(n_jobs=5)]: Done  96 out of  96 | elapsed:  2.6min finished\n"
          ]
        },
        {
          "output_type": "stream",
          "name": "stdout",
          "text": [
            "[20:08:36] WARNING: /workspace/src/objective/regression_obj.cu:152: reg:linear is now deprecated in favor of reg:squarederror.\n",
            "Train R^2 Score : 0.852\n",
            "Test R^2 Score : 0.698\n",
            "Best R^2 Score Through Grid Search : 0.672\n",
            "Best Parameters :  {'booster': 'gbtree', 'learning_rate': 0.05, 'max_depth': 6, 'n_estimators': 500, 'nthread': 1, 'objective': 'reg:linear'}\n",
            "0.6720831736515014\n",
            "{'booster': 'gbtree', 'learning_rate': 0.05, 'max_depth': 6, 'n_estimators': 500, 'nthread': 1, 'objective': 'reg:linear'}\n"
          ]
        }
      ]
    }
  ]
}