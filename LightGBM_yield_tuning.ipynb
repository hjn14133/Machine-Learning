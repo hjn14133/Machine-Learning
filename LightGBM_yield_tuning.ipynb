{
  "nbformat": 4,
  "nbformat_minor": 0,
  "metadata": {
    "colab": {
      "name": "LightGBM_yield_tuning.ipynb",
      "provenance": [],
      "authorship_tag": "ABX9TyOessFHZ3Cut0Hn2DdNsAMe",
      "include_colab_link": true
    },
    "kernelspec": {
      "name": "python3",
      "display_name": "Python 3"
    },
    "language_info": {
      "name": "python"
    }
  },
  "cells": [
    {
      "cell_type": "markdown",
      "metadata": {
        "id": "view-in-github",
        "colab_type": "text"
      },
      "source": [
        "<a href=\"https://colab.research.google.com/github/hjn14133/Machine-Learning/blob/main/LightGBM_yield_tuning.ipynb\" target=\"_parent\"><img src=\"https://colab.research.google.com/assets/colab-badge.svg\" alt=\"Open In Colab\"/></a>"
      ]
    },
    {
      "cell_type": "code",
      "metadata": {
        "id": "7uKcFhO93Kbi"
      },
      "source": [
        "# Initial Setup\n",
        "import numpy as np # linear algebra\n",
        "import pandas as pd # data processing, CSV file I/O (e.g. pd.read_csv)\n",
        "import matplotlib.pyplot as plt # data visualization\n",
        "import seaborn as sns # statistical data visualization\n",
        "from sklearn import metrics"
      ],
      "execution_count": 1,
      "outputs": []
    },
    {
      "cell_type": "code",
      "metadata": {
        "id": "EoMExP7t3NMZ"
      },
      "source": [
        "# Importing the dataset\n",
        "df = pd.read_csv(\"FT_join_JH_cleaned.csv\")\n",
        "\n",
        "#Select columns\n",
        "X = df[['DISTANCE', 'Heading','Elevation', 'AppliedRat']]\n",
        "y = df['VRYIELDBAL']"
      ],
      "execution_count": 2,
      "outputs": []
    },
    {
      "cell_type": "code",
      "metadata": {
        "id": "7QluHJmX3Nzj"
      },
      "source": [
        "# split the dataset into the training set and test set\n",
        "from sklearn.model_selection import train_test_split\n",
        "X_train, X_test, y_train, y_test = train_test_split(X, y, test_size = 0.2, \n",
        "                                                    random_state = 0)"
      ],
      "execution_count": 3,
      "outputs": []
    },
    {
      "cell_type": "code",
      "metadata": {
        "colab": {
          "base_uri": "https://localhost:8080/"
        },
        "id": "rZiVFHzv2Z2Q",
        "outputId": "5488f6a5-4867-4e70-cb25-88b774fd1609"
      },
      "source": [
        "import time\n",
        "start = time.time()\n",
        "from sklearn.model_selection import RandomizedSearchCV\n",
        "import lightgbm as lgb\n",
        "from sklearn.metrics import mean_absolute_error, mean_squared_error, r2_score\n",
        "lgb=lgb.LGBMRegressor(objective = 'regression')\n",
        "parameters = {'num_leaves':[20,30,40,60,80], \n",
        "              'min_child_samples':[5, 10, 15, 20, 25],\n",
        "              'learning_rate':[0.01, 0.05,0.1,0.2],\n",
        "              'reg_alpha':[0,0.01,0.03]}\n",
        "\n",
        "clf=RandomizedSearchCV(lgb,parameters,scoring='r2',n_iter=100)\n",
        "clf.fit(X=X_train, y=y_train)\n",
        "print(clf.best_params_)\n",
        "predicted=clf.predict(X_test)\n",
        "print('MAE of Regression of the result is:')\n",
        "print(mean_absolute_error(y_test, predicted))\n",
        "end = time.time()\n",
        "print('Execution time is:')\n",
        "print(end - start)"
      ],
      "execution_count": 4,
      "outputs": [
        {
          "output_type": "stream",
          "name": "stdout",
          "text": [
            "{'reg_alpha': 0.03, 'num_leaves': 60, 'min_child_samples': 10, 'learning_rate': 0.1}\n",
            "MAE of Regression of the result is:\n",
            "0.3769595089834778\n",
            "Execution time is:\n",
            "94.09699773788452\n"
          ]
        }
      ]
    },
    {
      "cell_type": "code",
      "metadata": {
        "colab": {
          "base_uri": "https://localhost:8080/"
        },
        "id": "oIEv4-gB3R3k",
        "outputId": "561c600a-89fe-4466-f640-e0c40ff3b6b4"
      },
      "source": [
        "print('Training Coefficient of R^2 : %.3f'%clf.score(X_train, y_train))\n",
        "print('Test Coefficient of R^2 : %.3f'%clf.score(X_test, y_test))"
      ],
      "execution_count": 5,
      "outputs": [
        {
          "output_type": "stream",
          "name": "stdout",
          "text": [
            "Training Coefficient of R^2 : 0.828\n",
            "Test Coefficient of R^2 : 0.659\n"
          ]
        }
      ]
    },
    {
      "cell_type": "code",
      "metadata": {
        "colab": {
          "base_uri": "https://localhost:8080/"
        },
        "id": "QzqDkRyM3a2C",
        "outputId": "69a44666-7bae-4803-c3cb-d8f5a83e90db"
      },
      "source": [
        "# Calculate the absolute errors\n",
        "errors = abs(predicted - y_test)\n",
        "# Print out the mean absolute error (mae)\n",
        "print('Mean Absolute Error:', round(np.mean(errors), 2), '.')\n",
        "\n",
        "\n",
        "# Calculate mean absolute percentage error (MAPE)\n",
        "mape = 100 * (errors / y_test)\n",
        "# Calculate and display accuracy\n",
        "accuracy = 100 - np.mean(mape)\n",
        "print('Accuracy:', round(accuracy, 2), '%.')"
      ],
      "execution_count": 7,
      "outputs": [
        {
          "output_type": "stream",
          "name": "stdout",
          "text": [
            "Mean Absolute Error: 0.38 .\n",
            "Accuracy: 68.41 %.\n"
          ]
        }
      ]
    },
    {
      "cell_type": "code",
      "metadata": {
        "colab": {
          "base_uri": "https://localhost:8080/"
        },
        "id": "Kc-dpQwX3daW",
        "outputId": "4959b321-901d-43e6-9959-81964f0c9a69"
      },
      "source": [
        "# Print result of MAE\n",
        "print(metrics.mean_absolute_error(y_test, predicted))\n",
        "# Print result of MSE\n",
        "print(metrics.mean_squared_error(y_test, predicted))\n",
        "\n",
        "# Print result of RMSE\n",
        "print(np.sqrt(metrics.mean_squared_error(y_test, predicted)))"
      ],
      "execution_count": 8,
      "outputs": [
        {
          "output_type": "stream",
          "name": "stdout",
          "text": [
            "0.3769595089834778\n",
            "0.28137528970774883\n",
            "0.5304481970067848\n"
          ]
        }
      ]
    },
    {
      "cell_type": "code",
      "metadata": {
        "id": "qzs4MKuE35M3"
      },
      "source": [
        ""
      ],
      "execution_count": null,
      "outputs": []
    }
  ]
}