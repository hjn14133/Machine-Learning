{
  "nbformat": 4,
  "nbformat_minor": 0,
  "metadata": {
    "colab": {
      "name": "Bagging_Regression_Yield.ipynb",
      "provenance": [],
      "authorship_tag": "ABX9TyPkan/3IMJlrDQOhx79VpPc",
      "include_colab_link": true
    },
    "kernelspec": {
      "name": "python3",
      "display_name": "Python 3"
    },
    "language_info": {
      "name": "python"
    }
  },
  "cells": [
    {
      "cell_type": "markdown",
      "metadata": {
        "id": "view-in-github",
        "colab_type": "text"
      },
      "source": [
        "<a href=\"https://colab.research.google.com/github/hjn14133/Machine-Learning/blob/main/Bagging_Regression_Yield.ipynb\" target=\"_parent\"><img src=\"https://colab.research.google.com/assets/colab-badge.svg\" alt=\"Open In Colab\"/></a>"
      ]
    },
    {
      "cell_type": "code",
      "metadata": {
        "id": "LGvKZXZ-3_rF"
      },
      "source": [
        "import numpy as np\n",
        "import pandas as pd\n",
        "\n",
        "import sklearn\n",
        "from sklearn import ensemble, datasets, tree\n",
        "from sklearn.neighbors import KNeighborsClassifier, KNeighborsRegressor\n",
        "from sklearn.linear_model import LinearRegression, LogisticRegression\n",
        "from sklearn.model_selection import GridSearchCV\n",
        "from sklearn.model_selection import train_test_split\n",
        "import sys\n",
        "import warnings\n",
        "\n",
        "warnings.filterwarnings(\"ignore\")"
      ],
      "execution_count": 1,
      "outputs": []
    },
    {
      "cell_type": "code",
      "metadata": {
        "id": "x6SFvkc35qns"
      },
      "source": [
        "df = pd.read_csv(\"FT_join_JH_cleaned.csv\")\n",
        "\n",
        "X = df[['DISTANCE', 'Heading','Elevation', 'AppliedRat']]\n",
        "y = df['VRYIELDBAL']\n",
        "\n",
        "# y = df['Loan_Rat']"
      ],
      "execution_count": 3,
      "outputs": []
    },
    {
      "cell_type": "code",
      "metadata": {
        "id": "FPhtlCR26Rd4"
      },
      "source": [
        "# Perform data splitting using 80/20 ratio\n",
        "X_train, X_test, Y_train, Y_test = train_test_split(X, y, test_size=0.2)"
      ],
      "execution_count": 4,
      "outputs": []
    },
    {
      "cell_type": "code",
      "metadata": {
        "colab": {
          "base_uri": "https://localhost:8080/"
        },
        "id": "S_L9bUpY6fR8",
        "outputId": "c092c474-80b3-47f8-ebe4-011410696b6e"
      },
      "source": [
        "from sklearn.ensemble import BaggingRegressor\n",
        "\n",
        "bag_regressor = BaggingRegressor(random_state=1)\n",
        "bag_regressor.fit(X_train, Y_train)"
      ],
      "execution_count": 5,
      "outputs": [
        {
          "output_type": "execute_result",
          "data": {
            "text/plain": [
              "BaggingRegressor(base_estimator=None, bootstrap=True, bootstrap_features=False,\n",
              "                 max_features=1.0, max_samples=1.0, n_estimators=10,\n",
              "                 n_jobs=None, oob_score=False, random_state=1, verbose=0,\n",
              "                 warm_start=False)"
            ]
          },
          "metadata": {},
          "execution_count": 5
        }
      ]
    },
    {
      "cell_type": "code",
      "metadata": {
        "colab": {
          "base_uri": "https://localhost:8080/"
        },
        "id": "Am-dWyY96j5Y",
        "outputId": "1bfd0f17-8914-40ce-daf4-00a799d57f8a"
      },
      "source": [
        "Y_preds = bag_regressor.predict(X_test)\n",
        "\n",
        "print(Y_preds[:10])\n",
        "print(Y_test[:10])\n",
        "\n",
        "print('Training Coefficient of R^2 : %.3f'%bag_regressor.score(X_train, Y_train))\n",
        "print('Test Coefficient of R^2 : %.3f'%bag_regressor.score(X_test, Y_test))\n",
        "\n",
        "bag_regressor.get_params()"
      ],
      "execution_count": 6,
      "outputs": [
        {
          "output_type": "stream",
          "name": "stdout",
          "text": [
            "[2.82717383 1.64773207 3.44802164 2.88678295 3.17925313 3.92721023\n",
            " 1.28796147 0.99366359 3.66777374 1.70646882]\n",
            "4755     2.650791\n",
            "11830    1.178584\n",
            "1980     3.350966\n",
            "3036     3.002728\n",
            "853      3.852232\n",
            "2028     3.329378\n",
            "12419    0.677427\n",
            "10144    1.625142\n",
            "1889     3.387610\n",
            "11323    1.367832\n",
            "Name: VRYIELDBAL, dtype: float64\n",
            "Training Coefficient of R^2 : 0.936\n",
            "Test Coefficient of R^2 : 0.655\n"
          ]
        },
        {
          "output_type": "execute_result",
          "data": {
            "text/plain": [
              "{'base_estimator': None,\n",
              " 'bootstrap': True,\n",
              " 'bootstrap_features': False,\n",
              " 'max_features': 1.0,\n",
              " 'max_samples': 1.0,\n",
              " 'n_estimators': 10,\n",
              " 'n_jobs': None,\n",
              " 'oob_score': False,\n",
              " 'random_state': 1,\n",
              " 'verbose': 0,\n",
              " 'warm_start': False}"
            ]
          },
          "metadata": {},
          "execution_count": 6
        }
      ]
    },
    {
      "cell_type": "code",
      "metadata": {
        "colab": {
          "base_uri": "https://localhost:8080/"
        },
        "id": "0LMy3l0gPkoi",
        "outputId": "9c79662e-3260-4ff9-c5a7-b1819aa8f105"
      },
      "source": [
        "# Calculate the absolute errors\n",
        "errors = abs(Y_preds - Y_test)\n",
        "# Print out the mean absolute error (mae)\n",
        "print('Mean Absolute Error:', round(np.mean(errors), 2), '.')\n",
        "\n",
        "\n",
        "# Calculate mean absolute percentage error (MAPE)\n",
        "mape = 100 * (errors / Y_test)\n",
        "# Calculate and display accuracy\n",
        "accuracy = 100 - np.mean(mape)\n",
        "print('Accuracy:', round(accuracy, 2), '%.')"
      ],
      "execution_count": 7,
      "outputs": [
        {
          "output_type": "stream",
          "name": "stdout",
          "text": [
            "Mean Absolute Error: 0.4 .\n",
            "Accuracy: 72.02 %.\n"
          ]
        }
      ]
    },
    {
      "cell_type": "code",
      "metadata": {
        "colab": {
          "base_uri": "https://localhost:8080/",
          "height": 231
        },
        "id": "6D1zalyySR5-",
        "outputId": "9113aeeb-b10f-4737-e310-6383e537a3bf"
      },
      "source": [
        "# get importance\n",
        "importance = bag_regressor.feature_importances_\n",
        "# summarize feature importance\n",
        "for i,v in enumerate(importance):\n",
        "\tprint('Feature: %0d, Score: %.5f' % (i,v))\n",
        "# plot feature importance\n",
        "pyplot.bar([x for x in range(len(importance))], importance)\n",
        "pyplot.show()"
      ],
      "execution_count": 9,
      "outputs": [
        {
          "output_type": "error",
          "ename": "AttributeError",
          "evalue": "ignored",
          "traceback": [
            "\u001b[0;31m---------------------------------------------------------------------------\u001b[0m",
            "\u001b[0;31mAttributeError\u001b[0m                            Traceback (most recent call last)",
            "\u001b[0;32m<ipython-input-9-369781360690>\u001b[0m in \u001b[0;36m<module>\u001b[0;34m()\u001b[0m\n\u001b[1;32m      1\u001b[0m \u001b[0;31m# get importance\u001b[0m\u001b[0;34m\u001b[0m\u001b[0;34m\u001b[0m\u001b[0;34m\u001b[0m\u001b[0m\n\u001b[0;32m----> 2\u001b[0;31m \u001b[0mimportance\u001b[0m \u001b[0;34m=\u001b[0m \u001b[0mbag_regressor\u001b[0m\u001b[0;34m.\u001b[0m\u001b[0mfeature_importances_\u001b[0m\u001b[0;34m\u001b[0m\u001b[0;34m\u001b[0m\u001b[0m\n\u001b[0m\u001b[1;32m      3\u001b[0m \u001b[0;31m# summarize feature importance\u001b[0m\u001b[0;34m\u001b[0m\u001b[0;34m\u001b[0m\u001b[0;34m\u001b[0m\u001b[0m\n\u001b[1;32m      4\u001b[0m \u001b[0;32mfor\u001b[0m \u001b[0mi\u001b[0m\u001b[0;34m,\u001b[0m\u001b[0mv\u001b[0m \u001b[0;32min\u001b[0m \u001b[0menumerate\u001b[0m\u001b[0;34m(\u001b[0m\u001b[0mimportance\u001b[0m\u001b[0;34m)\u001b[0m\u001b[0;34m:\u001b[0m\u001b[0;34m\u001b[0m\u001b[0;34m\u001b[0m\u001b[0m\n\u001b[1;32m      5\u001b[0m         \u001b[0mprint\u001b[0m\u001b[0;34m(\u001b[0m\u001b[0;34m'Feature: %0d, Score: %.5f'\u001b[0m \u001b[0;34m%\u001b[0m \u001b[0;34m(\u001b[0m\u001b[0mi\u001b[0m\u001b[0;34m,\u001b[0m\u001b[0mv\u001b[0m\u001b[0;34m)\u001b[0m\u001b[0;34m)\u001b[0m\u001b[0;34m\u001b[0m\u001b[0;34m\u001b[0m\u001b[0m\n",
            "\u001b[0;31mAttributeError\u001b[0m: 'BaggingRegressor' object has no attribute 'feature_importances_'"
          ]
        }
      ]
    },
    {
      "cell_type": "code",
      "metadata": {
        "colab": {
          "base_uri": "https://localhost:8080/"
        },
        "id": "-Jc59-Tn7R6C",
        "outputId": "513ea60d-fbe3-42c5-c6c2-8573a37eb0c7"
      },
      "source": [
        "params = {'base_estimator': [None, LinearRegression(), KNeighborsRegressor()],\n",
        "          'n_estimators': [5, 10, 100, 500, 1000],\n",
        "          #'max_samples': [1.0, 2],\n",
        "          'max_features': [0.5, 1.0, 2],\n",
        "          'bootstrap': [True],\n",
        "          'bootstrap_features': [False]}\n",
        "\n",
        "bagging_regressor_grid = GridSearchCV(BaggingRegressor(random_state=1, n_jobs=-1), param_grid =params, cv=3, n_jobs=-1, verbose=1)\n",
        "bagging_regressor_grid.fit(X_train, Y_train)\n",
        "\n",
        "print('Train R^2 Score : %.3f'%bagging_regressor_grid.best_estimator_.score(X_train, Y_train))\n",
        "print('Test R^2 Score : %.3f'%bagging_regressor_grid.best_estimator_.score(X_test, Y_test))\n",
        "print('Best R^2 Score Through Grid Search : %.3f'%bagging_regressor_grid.best_score_)\n",
        "print('Best Parameters : ',bagging_regressor_grid.best_params_)"
      ],
      "execution_count": 17,
      "outputs": [
        {
          "output_type": "stream",
          "name": "stdout",
          "text": [
            "Fitting 3 folds for each of 45 candidates, totalling 135 fits\n"
          ]
        },
        {
          "output_type": "stream",
          "name": "stderr",
          "text": [
            "[Parallel(n_jobs=-1)]: Using backend LokyBackend with 2 concurrent workers.\n",
            "[Parallel(n_jobs=-1)]: Done  46 tasks      | elapsed:  3.1min\n",
            "[Parallel(n_jobs=-1)]: Done 135 out of 135 | elapsed:  6.4min finished\n"
          ]
        },
        {
          "output_type": "stream",
          "name": "stdout",
          "text": [
            "Train R^2 Score : 0.956\n",
            "Test R^2 Score : 0.670\n",
            "Best R^2 Score Through Grid Search : 0.657\n",
            "Best Parameters :  {'base_estimator': None, 'bootstrap': True, 'bootstrap_features': False, 'max_features': 1.0, 'n_estimators': 1000}\n"
          ]
        }
      ]
    },
    {
      "cell_type": "code",
      "metadata": {
        "colab": {
          "base_uri": "https://localhost:8080/"
        },
        "id": "jUqaT0IIRm61",
        "outputId": "0f6ccee4-36e2-4f5f-b437-9ecb560219ed"
      },
      "source": [
        "Y_preds_grid = bagging_regressor_grid.best_estimator_.predict(X_test)\n",
        "\n",
        "# Calculate the absolute errors\n",
        "error_grid = abs(Y_preds_grid - Y_test)\n",
        "# Print out the mean absolute error (mae)\n",
        "print('Mean Absolute Error:', round(np.mean(error_grid), 2), '.')\n",
        "\n",
        "\n",
        "# Calculate mean absolute percentage error (MAPE)\n",
        "mape_grid = 100 * (error_grid / Y_test)\n",
        "# Calculate and display accuracy\n",
        "accuracy_grid = 100 - np.mean(mape_grid)\n",
        "print('Accuracy:', round(accuracy_grid, 2), '%.')"
      ],
      "execution_count": 21,
      "outputs": [
        {
          "output_type": "stream",
          "name": "stdout",
          "text": [
            "Mean Absolute Error: 0.37 .\n",
            "Accuracy: 74.3 %.\n"
          ]
        }
      ]
    }
  ]
}