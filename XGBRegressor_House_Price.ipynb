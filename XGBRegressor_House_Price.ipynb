{
  "nbformat": 4,
  "nbformat_minor": 0,
  "metadata": {
    "colab": {
      "name": "XGBRegressor_House_Price.ipynb",
      "provenance": [],
      "authorship_tag": "ABX9TyOpVA4G/Q1mi2UbpTyyaVyq",
      "include_colab_link": true
    },
    "kernelspec": {
      "name": "python3",
      "display_name": "Python 3"
    },
    "language_info": {
      "name": "python"
    }
  },
  "cells": [
    {
      "cell_type": "markdown",
      "metadata": {
        "id": "view-in-github",
        "colab_type": "text"
      },
      "source": [
        "<a href=\"https://colab.research.google.com/github/hjn14133/Machine-Learning/blob/main/XGBRegressor_House_Price.ipynb\" target=\"_parent\"><img src=\"https://colab.research.google.com/assets/colab-badge.svg\" alt=\"Open In Colab\"/></a>"
      ]
    },
    {
      "cell_type": "code",
      "metadata": {
        "id": "Gevm-__ZL_5v"
      },
      "source": [
        "# Import packages\n",
        "import numpy as np\n",
        "import pandas as pd\n",
        "\n",
        "import matplotlib.pyplot as plt\n",
        "import seaborn as sns\n",
        "\n",
        "import os\n",
        "\n",
        "import warnings\n",
        "warnings.filterwarnings(\"ignore\")"
      ],
      "execution_count": 1,
      "outputs": []
    },
    {
      "cell_type": "code",
      "metadata": {
        "colab": {
          "base_uri": "https://localhost:8080/"
        },
        "id": "MEdsitOsMiZ7",
        "outputId": "6fb98c7a-fc4f-49f8-e678-c40735df670c"
      },
      "source": [
        "# Load House Price dataset - train and test\n",
        "train = pd.read_csv(\"train.csv\")\n",
        "test = pd.read_csv(\"test.csv\")\n",
        "\n",
        "print('Train %s\\nTest %s' % (train.shape, test.shape))"
      ],
      "execution_count": 3,
      "outputs": [
        {
          "output_type": "stream",
          "name": "stdout",
          "text": [
            "Train (1460, 81)\n",
            "Test (1459, 80)\n"
          ]
        }
      ]
    },
    {
      "cell_type": "code",
      "metadata": {
        "colab": {
          "base_uri": "https://localhost:8080/"
        },
        "id": "AGIZ7pnuM602",
        "outputId": "b09e1b25-9dd9-4750-dbe2-a903b221e6a5"
      },
      "source": [
        "# Separate Target feature\n",
        "ft_pred = list(set(train.columns) - set(test.columns))\n",
        "\n",
        "ft_pred"
      ],
      "execution_count": 4,
      "outputs": [
        {
          "output_type": "execute_result",
          "data": {
            "text/plain": [
              "['SalePrice']"
            ]
          },
          "metadata": {},
          "execution_count": 4
        }
      ]
    },
    {
      "cell_type": "code",
      "metadata": {
        "colab": {
          "base_uri": "https://localhost:8080/",
          "height": 297
        },
        "id": "Apkt7_tDNRZp",
        "outputId": "b054659f-a182-4107-f3b8-b9ef333428af"
      },
      "source": [
        "train[ft_pred].describe()"
      ],
      "execution_count": 5,
      "outputs": [
        {
          "output_type": "execute_result",
          "data": {
            "text/html": [
              "<div>\n",
              "<style scoped>\n",
              "    .dataframe tbody tr th:only-of-type {\n",
              "        vertical-align: middle;\n",
              "    }\n",
              "\n",
              "    .dataframe tbody tr th {\n",
              "        vertical-align: top;\n",
              "    }\n",
              "\n",
              "    .dataframe thead th {\n",
              "        text-align: right;\n",
              "    }\n",
              "</style>\n",
              "<table border=\"1\" class=\"dataframe\">\n",
              "  <thead>\n",
              "    <tr style=\"text-align: right;\">\n",
              "      <th></th>\n",
              "      <th>SalePrice</th>\n",
              "    </tr>\n",
              "  </thead>\n",
              "  <tbody>\n",
              "    <tr>\n",
              "      <th>count</th>\n",
              "      <td>1460.000000</td>\n",
              "    </tr>\n",
              "    <tr>\n",
              "      <th>mean</th>\n",
              "      <td>180921.195890</td>\n",
              "    </tr>\n",
              "    <tr>\n",
              "      <th>std</th>\n",
              "      <td>79442.502883</td>\n",
              "    </tr>\n",
              "    <tr>\n",
              "      <th>min</th>\n",
              "      <td>34900.000000</td>\n",
              "    </tr>\n",
              "    <tr>\n",
              "      <th>25%</th>\n",
              "      <td>129975.000000</td>\n",
              "    </tr>\n",
              "    <tr>\n",
              "      <th>50%</th>\n",
              "      <td>163000.000000</td>\n",
              "    </tr>\n",
              "    <tr>\n",
              "      <th>75%</th>\n",
              "      <td>214000.000000</td>\n",
              "    </tr>\n",
              "    <tr>\n",
              "      <th>max</th>\n",
              "      <td>755000.000000</td>\n",
              "    </tr>\n",
              "  </tbody>\n",
              "</table>\n",
              "</div>"
            ],
            "text/plain": [
              "           SalePrice\n",
              "count    1460.000000\n",
              "mean   180921.195890\n",
              "std     79442.502883\n",
              "min     34900.000000\n",
              "25%    129975.000000\n",
              "50%    163000.000000\n",
              "75%    214000.000000\n",
              "max    755000.000000"
            ]
          },
          "metadata": {},
          "execution_count": 5
        }
      ]
    },
    {
      "cell_type": "code",
      "metadata": {
        "colab": {
          "base_uri": "https://localhost:8080/",
          "height": 312
        },
        "id": "RVQxQnI0NVzu",
        "outputId": "bb18e582-fcf4-417a-a8df-21ef5a502a23"
      },
      "source": [
        "# Scatterplot GrLivArea vs SalePrice\n",
        "plt.scatter(train['GrLivArea'], train['SalePrice'], \n",
        "            color = 'blue', alpha=0.5)\n",
        "plt.title(\"LotArea vs SalePrice\")\n",
        "plt.legend(loc='best')\n",
        "plt.xlabel(\"GrLivArea\")\n",
        "plt.ylabel(\"SalePrice\")\n",
        "plt.show()"
      ],
      "execution_count": 6,
      "outputs": [
        {
          "output_type": "stream",
          "name": "stderr",
          "text": [
            "No handles with labels found to put in legend.\n"
          ]
        },
        {
          "output_type": "display_data",
          "data": {
            "image/png": "[encoded data removed]",
            "text/plain": [
              "<Figure size 432x288 with 1 Axes>"
            ]
          },
          "metadata": {
            "needs_background": "light"
          }
        }
      ]
    },
    {
      "cell_type": "code",
      "metadata": {
        "id": "z_8XoslQN9AL"
      },
      "source": [
        "# Fill NaN values\n",
        "#save and drop id\n",
        "train_id = train[\"Id\"]\n",
        "train.drop(columns='Id',inplace=True)\n",
        "\n",
        "test_id = test[\"Id\"]\n",
        "test.drop(columns='Id',inplace=True)\n",
        "\n",
        "#select object columns\n",
        "obj_col = train.columns[train.dtypes == 'object'].values\n",
        "\n",
        "#select non object columns\n",
        "num_col = train.columns[train.dtypes != 'object'].values\n",
        "num_col_test = test.columns[test.dtypes != 'object'].values\n",
        "\n",
        "#replace null value in obj columns with None\n",
        "train[obj_col] = train[obj_col].fillna('None')\n",
        "test[obj_col] = test[obj_col].fillna('None')\n",
        "\n",
        "#replace null value in numeric columns with 0\n",
        "train[num_col] = train[num_col].fillna(0)\n",
        "test[num_col_test] = test[num_col_test].fillna(0)\n",
        "\n",
        "train_001 = train\n",
        "test_001 = test"
      ],
      "execution_count": 7,
      "outputs": []
    },
    {
      "cell_type": "code",
      "metadata": {
        "id": "GWtHXNi8Pb30"
      },
      "source": [
        "pip install --upgrade category_encoders\n"
      ],
      "execution_count": null,
      "outputs": []
    },
    {
      "cell_type": "code",
      "metadata": {
        "id": "A4cStoT_PIQ-"
      },
      "source": [
        "# Encoding Ordinal Features\n",
        "import category_encoders as ce\n",
        "\n",
        "#Ordinal features\n",
        "ordinal_features = [\"ExterQual\",\"ExterCond\",\"BsmtQual\",\"BsmtCond\",\"BsmtExposure\", \"BsmtFinType1\",\"BsmtFinType2\",\n",
        "                    \"HeatingQC\",\"Electrical\",\"KitchenQual\", \"FireplaceQu\",\"GarageQual\",\"GarageCond\",\"PoolQC\"]\n",
        "\n",
        "#Split X,y\n",
        "train_002_X = train_001.drop(ft_pred, axis=1)\n",
        "train_002_y = train_001[ft_pred]\n",
        "\n",
        "ce_one_hot = ce.OrdinalEncoder(cols = ordinal_features)\n",
        "\n",
        "train_003 = pd.concat([ce_one_hot.fit_transform(train_002_X), train_002_y], axis=1, sort=False)\n",
        "test_003  = ce_one_hot.transform(test_001)"
      ],
      "execution_count": 11,
      "outputs": []
    },
    {
      "cell_type": "code",
      "metadata": {
        "id": "mpIW4KAkPtwK"
      },
      "source": [
        "# Encode nominal features\n",
        "#Nominal features\n",
        "nominal_features = [x for x in obj_col if x not in ordinal_features]\n",
        "\n",
        "#Transfer object to int\n",
        "from sklearn.preprocessing import LabelEncoder\n",
        "labelencoder = LabelEncoder()\n",
        "\n",
        "#for loop nominal feature column\n",
        "for i in train_003[nominal_features].columns:\n",
        "    #fit and transform each column and assign to itself\n",
        "    train_003[i] = labelencoder.fit_transform(train_003[i])\n",
        "    \n",
        "#for loop nominal feature column\n",
        "for i in test_003[nominal_features].columns:\n",
        "    #fit and transform each column and assign to itself\n",
        "    test_003[i] = labelencoder.fit_transform(test_003[i])\n",
        "    \n",
        "#Get dummy variable for nominal features\n",
        "train_005 = pd.get_dummies(train_003,columns=nominal_features,drop_first=True)\n",
        "test_005 = pd.get_dummies(test_003,columns=nominal_features,drop_first=True)\n"
      ],
      "execution_count": 12,
      "outputs": []
    },
    {
      "cell_type": "code",
      "metadata": {
        "colab": {
          "base_uri": "https://localhost:8080/"
        },
        "id": "1p_wN0foP0k0",
        "outputId": "26b5d254-c15a-4e56-812a-01b295615940"
      },
      "source": [
        "#Only for test set\n",
        "#Check if any null values\n",
        "print(train_005.isnull().any().sum())\n",
        "print(test_005.isnull().any().sum())\n",
        "\n",
        "#Get missing columns in the training test\n",
        "missing_cols = set(train_005.drop(columns=\"SalePrice\").columns) - set(test_005.columns)\n",
        "\n",
        "#Add a missing column in test set with default value equal to 0\n",
        "for cols in missing_cols:\n",
        "    test_005[cols] = 0\n",
        "    \n",
        "#Ensure the order of column in the test set is in the same order than in train set\n",
        "test_005 = test_005[train_005.drop(columns=\"SalePrice\").columns]"
      ],
      "execution_count": 13,
      "outputs": [
        {
          "output_type": "stream",
          "name": "stdout",
          "text": [
            "0\n",
            "0\n"
          ]
        }
      ]
    },
    {
      "cell_type": "code",
      "metadata": {
        "id": "x4YitA9GP355"
      },
      "source": [
        "# Feature Engineering\n",
        "#TotalBath\n",
        "train_005['TotalBath'] = (train_005['FullBath'] + train_005['HalfBath'] + train_005['BsmtFullBath'] + train_005['BsmtHalfBath'])\n",
        "test_005['TotalBath']  = (test_005['FullBath']  + test_005['HalfBath']  + test_005['BsmtFullBath']  + test_005['BsmtHalfBath'])\n",
        "\n",
        "#TotalPorch\n",
        "train_005['TotalPorch'] = (train_005['OpenPorchSF'] + train_005['3SsnPorch'] + train_005['EnclosedPorch'] + train_005['ScreenPorch'] + train_005['WoodDeckSF'])\n",
        "test_005['TotalPorch']  = (test_005['OpenPorchSF']  + test_005['3SsnPorch']  + test_005['EnclosedPorch']  + test_005['ScreenPorch']    + test_005['WoodDeckSF'])\n",
        "\n",
        "#Modeling happen during the sale year\n",
        "train_005[\"RecentRemodel\"] = (train_005[\"YearRemodAdd\"] == train_005[\"YrSold\"]) * 1\n",
        "test_005[\"RecentRemodel\"]  = (test_005[\"YearRemodAdd\"]  == test_005[\"YrSold\"]) * 1\n",
        "\n",
        "#House sold in the year it was built\n",
        "train_005[\"NewHouse\"] = (train_005[\"YearBuilt\"] == train_005[\"YrSold\"]) * 1\n",
        "test_005[\"NewHouse\"]  = (test_005[\"YearBuilt\"]  == test_005[\"YrSold\"]) * 1\n",
        "\n",
        "#HasPool\n",
        "train_005['HasPool'] = train_005['PoolArea'].apply(lambda x: 1 if x > 0 else 0)\n",
        "test_005['HasPool']  = test_005['PoolArea'].apply(lambda x: 1 if x > 0 else 0)\n",
        "\n",
        "#HasFireplaces\n",
        "train_005['HasFirePlace'] = train_005['Fireplaces'].apply(lambda x: 1 if x > 0 else 0)\n",
        "test_005['HasFirePlace']  = test_005['Fireplaces'].apply(lambda x: 1 if x > 0 else 0)\n",
        "\n",
        "#Has2ndFloor\n",
        "train_005['Has2ndFloor'] = train_005['2ndFlrSF'].apply(lambda x: 1 if x > 0 else 0)\n",
        "test_005['Has2ndFloor']  = test_005['2ndFlrSF'].apply(lambda x: 1 if x > 0 else 0)\n",
        "\n",
        "#HasGarage\n",
        "train_005['HasGarage'] = train_005['GarageArea'].apply(lambda x: 1 if x > 0 else 0)\n",
        "test_005['HasGarage']  = test_005['GarageArea'].apply(lambda x: 1 if x > 0 else 0)\n",
        "\n",
        "#HasBsmnt\n",
        "train_005['HasBsmnt'] = train_005['TotalBsmtSF'].apply(lambda x: 1 if x > 0 else 0)\n",
        "test_005['HasBsmnt']  = test_005['TotalBsmtSF'].apply(lambda x: 1 if x > 0 else 0)"
      ],
      "execution_count": 14,
      "outputs": []
    },
    {
      "cell_type": "code",
      "metadata": {
        "id": "_kOIHGHBP8Vf"
      },
      "source": [
        "# Fit models\n",
        "from sklearn.model_selection import train_test_split\n",
        "\n",
        "X = train_005.drop(columns='SalePrice')\n",
        "y = train_005['SalePrice']\n",
        "\n",
        "# split train data to train and validation\n",
        "X_train, X_val, y_train, y_val = train_test_split(X, y, test_size = 0.25,\n",
        "                                                  random_state = 0)"
      ],
      "execution_count": 15,
      "outputs": []
    },
    {
      "cell_type": "code",
      "metadata": {
        "colab": {
          "base_uri": "https://localhost:8080/"
        },
        "id": "mwYRYSc6Qdk9",
        "outputId": "f7716cb7-8fc8-4c58-a242-5570f1de87b0"
      },
      "source": [
        "X_train.shape, X_val.shape"
      ],
      "execution_count": 16,
      "outputs": [
        {
          "output_type": "execute_result",
          "data": {
            "text/plain": [
              "((1095, 222), (365, 222))"
            ]
          },
          "metadata": {},
          "execution_count": 16
        }
      ]
    },
    {
      "cell_type": "code",
      "metadata": {
        "colab": {
          "base_uri": "https://localhost:8080/"
        },
        "id": "WSSlr9QoR8Ag",
        "outputId": "6b24e0e1-bee2-44c5-c71e-55a982c16ecc"
      },
      "source": [
        "pip install --upgrade Imputer"
      ],
      "execution_count": 18,
      "outputs": [
        {
          "output_type": "stream",
          "name": "stdout",
          "text": [
            "\u001b[31mERROR: Could not find a version that satisfies the requirement Imputer (from versions: none)\u001b[0m\n",
            "\u001b[31mERROR: No matching distribution found for Imputer\u001b[0m\n"
          ]
        }
      ]
    },
    {
      "cell_type": "code",
      "metadata": {
        "id": "1Kx5h8dcQiot"
      },
      "source": [
        "# XGBoost Regressor\n",
        "from xgboost import XGBRegressor\n",
        "from xgboost import XGBRFRegressor\n",
        "from sklearn.model_selection import GridSearchCV\n",
        "\n",
        "from sklearn.metrics import mean_squared_error\n",
        "from sklearn.metrics import mean_absolute_error\n",
        "\n",
        "#from sklearn.preprocessing import Imputer\n",
        "from sklearn.impute import SimpleImputer\n",
        "\n",
        "\n",
        "\n"
      ],
      "execution_count": 19,
      "outputs": []
    },
    {
      "cell_type": "code",
      "metadata": {
        "id": "ijc5z0tIR6yh"
      },
      "source": [
        "# XGBoost hyper-parameter tuning\n",
        "def hyperParameterTuning(X_train, y_train):\n",
        "  param_tuning = {\n",
        "      'learning_rate': [0.01, 0.1],\n",
        "      'max_depth': [3, 5, 7, 10],\n",
        "      'min_child_weight': [1, 3, 5],\n",
        "      'subsample': [0.5, 0.7],\n",
        "      'colsample_bytree': [0.5, 0.7],\n",
        "      'n_estimators':[100, 200, 500],\n",
        "      'objective':['reg:squarederror']\n",
        "  }\n",
        "  xgb_model = XGBRegressor()\n",
        "\n",
        "  gsearch = GridSearchCV(estimator = xgb_model,\n",
        "                        param_grid = param_tuning,                        \n",
        "                        #scoring = 'neg_mean_absolute_error', #MAE\n",
        "                        #scoring = 'neg_mean_squared_error',  #MSE\n",
        "                        cv = 5,\n",
        "                        n_jobs = -1,\n",
        "                        verbose = 1)\n",
        "\n",
        "  gsearch.fit(X_train,y_train)\n",
        "\n",
        "  return gsearch.best_params_\n"
      ],
      "execution_count": 22,
      "outputs": []
    },
    {
      "cell_type": "code",
      "metadata": {
        "colab": {
          "base_uri": "https://localhost:8080/"
        },
        "id": "CftWBSA3TK_s",
        "outputId": "d9c24f9b-7c44-4957-d293-67dd958380ff"
      },
      "source": [
        "# Get the best params for next steps (32 mins in total)\n",
        "hyperParameterTuning(X_train, y_train)"
      ],
      "execution_count": 23,
      "outputs": [
        {
          "output_type": "stream",
          "name": "stdout",
          "text": [
            "Fitting 5 folds for each of 288 candidates, totalling 1440 fits\n"
          ]
        },
        {
          "output_type": "stream",
          "name": "stderr",
          "text": [
            "[Parallel(n_jobs=-1)]: Using backend LokyBackend with 2 concurrent workers.\n",
            "[Parallel(n_jobs=-1)]: Done  46 tasks      | elapsed:   29.0s\n",
            "[Parallel(n_jobs=-1)]: Done 196 tasks      | elapsed:  2.8min\n",
            "[Parallel(n_jobs=-1)]: Done 446 tasks      | elapsed:  7.8min\n",
            "[Parallel(n_jobs=-1)]: Done 796 tasks      | elapsed: 14.9min\n",
            "[Parallel(n_jobs=-1)]: Done 1246 tasks      | elapsed: 25.5min\n",
            "[Parallel(n_jobs=-1)]: Done 1440 out of 1440 | elapsed: 32.1min finished\n"
          ]
        },
        {
          "output_type": "execute_result",
          "data": {
            "text/plain": [
              "{'colsample_bytree': 0.7,\n",
              " 'learning_rate': 0.01,\n",
              " 'max_depth': 10,\n",
              " 'min_child_weight': 5,\n",
              " 'n_estimators': 500,\n",
              " 'objective': 'reg:squarederror',\n",
              " 'subsample': 0.5}"
            ]
          },
          "metadata": {},
          "execution_count": 23
        }
      ]
    },
    {
      "cell_type": "code",
      "metadata": {
        "colab": {
          "base_uri": "https://localhost:8080/"
        },
        "id": "OmTUjBHGhkqR",
        "outputId": "e670696e-4106-49e1-cbd2-3bbcb6688753"
      },
      "source": [
        "# XGBoost Regressor\n",
        "from xgboost import XGBRegressor\n",
        "from xgboost import XGBRFRegressor\n",
        "from sklearn.model_selection import GridSearchCV\n",
        "\n",
        "from sklearn.metrics import mean_squared_error\n",
        "from sklearn.metrics import mean_absolute_error\n",
        "\n",
        "#from sklearn.preprocessing import Imputer\n",
        "from sklearn.impute import SimpleImputer\n",
        "\n",
        "# Best Fit for the XGBoost Regressor\n",
        "xgb_model = XGBRegressor(\n",
        "    colsample_bytree= 0.7,\n",
        "    learning_rate= 0.01,\n",
        "    max_depth= 10,\n",
        "    min_child_weight= 5,\n",
        "    n_estimators= 500,\n",
        "    objective= 'reg:squarederror',\n",
        "    subsample= 0.5)\n",
        "\n",
        "%time xgb_model.fit(X_train, y_train, early_stopping_rounds= 5, eval_set=[(X_val, y_val)], verbose = False)\n",
        "#xgb_model.fit(X_train, y_train)\n",
        "y_pred_xgb = xgb_model.predict(X_val)\n",
        "\n",
        "mae_xgb = mean_absolute_error(y_val, y_pred_xgb)\n",
        "\n",
        "print(\"MAE: \", mae_xgb)\n"
      ],
      "execution_count": 40,
      "outputs": [
        {
          "output_type": "stream",
          "name": "stdout",
          "text": [
            "CPU times: user 6.38 s, sys: 39.5 ms, total: 6.42 s\n",
            "Wall time: 6.39 s\n",
            "MAE:  15890.71352739726\n"
          ]
        }
      ]
    },
    {
      "cell_type": "code",
      "metadata": {
        "colab": {
          "base_uri": "https://localhost:8080/",
          "height": 281
        },
        "id": "yHP8BRDol0nX",
        "outputId": "5c4ba8cb-86e9-4eeb-e64d-43828ef86a0d"
      },
      "source": [
        "#Plot Real vs Predict\n",
        "plt.scatter(X_val['GrLivArea'] * 0.092903, y_val,          color='blue', label='Real',    alpha=0.5)\n",
        "plt.scatter(X_val['GrLivArea'] * 0.092903, y_pred_xgb,  color='red' , label='Predict', alpha=0.5)\n",
        "plt.title(\"Real vs Predict\")\n",
        "plt.legend(loc='best')\n",
        "plt.show()"
      ],
      "execution_count": 39,
      "outputs": [
        {
          "output_type": "display_data",
          "data": {
            "image/png": "[encoded data removed]",
            "text/plain": [
              "<Figure size 432x288 with 1 Axes>"
            ]
          },
          "metadata": {
            "needs_background": "light"
          }
        }
      ]
    },
    {
      "cell_type": "code",
      "metadata": {
        "id": "84uGXBtqmDFW"
      },
      "source": [
        "# Predict Test and Submission\n",
        "X_test = test_005\n",
        "\n",
        "# Use the model to make predictions\n",
        "y_pred_test = xgb_model.predict(X_test)\n",
        "\n",
        "submission = pd.DataFrame({'Id':test_id,'SalePrice':y_pred_test})\n",
        "\n",
        "# Save results\n",
        "submission.to_csv(\"submission.csv\",index=False)"
      ],
      "execution_count": 41,
      "outputs": []
    }
  ]
}