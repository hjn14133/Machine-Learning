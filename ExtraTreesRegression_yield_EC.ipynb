{
  "nbformat": 4,
  "nbformat_minor": 0,
  "metadata": {
    "colab": {
      "name": "ExtraTreesRegression_yield_EC.ipynb",
      "provenance": [],
      "authorship_tag": "ABX9TyO0T0DZ5Qtcu8EXbp+1O00S",
      "include_colab_link": true
    },
    "kernelspec": {
      "name": "python3",
      "display_name": "Python 3"
    },
    "language_info": {
      "name": "python"
    }
  },
  "cells": [
    {
      "cell_type": "markdown",
      "metadata": {
        "id": "view-in-github",
        "colab_type": "text"
      },
      "source": [
        "<a href=\"https://colab.research.google.com/github/hjn14133/Machine-Learning/blob/main/ExtraTreesRegression_yield_EC.ipynb\" target=\"_parent\"><img src=\"https://colab.research.google.com/assets/colab-badge.svg\" alt=\"Open In Colab\"/></a>"
      ]
    },
    {
      "cell_type": "code",
      "execution_count": 1,
      "metadata": {
        "id": "JHWwdh-U_8_M"
      },
      "outputs": [],
      "source": [
        "# Initial Setup\n",
        "import numpy as np # linear algebra\n",
        "import pandas as pd # data processing, CSV file I/O (e.g. pd.read_csv)\n",
        "import matplotlib.pyplot as plt # data visualization\n",
        "import seaborn as sns # statistical data visualization\n",
        "from sklearn import metrics"
      ]
    },
    {
      "cell_type": "code",
      "source": [
        "# Read in data and display first 5 rows\n",
        "df = pd.read_csv('FT_EC_SP_JOIN_2020.csv')"
      ],
      "metadata": {
        "id": "ZbYXPCkbAFfM"
      },
      "execution_count": 2,
      "outputs": []
    },
    {
      "cell_type": "code",
      "source": [
        "# Load data set\n",
        "X = df[['Elevation', 'AppliedRat', 'EC_0_2', 'DISTANCE_1', 'Heading_1']]\n",
        "y1 = df['VRYIELDBAL']\n",
        "y2 = df['Loan_Rat']\n",
        "\n",
        "print('The shape of our features is:', X.shape)"
      ],
      "metadata": {
        "colab": {
          "base_uri": "https://localhost:8080/"
        },
        "id": "NYGiSS-cASir",
        "outputId": "b748c7f9-6315-432a-829a-44bd57e89b0f"
      },
      "execution_count": 3,
      "outputs": [
        {
          "output_type": "stream",
          "name": "stdout",
          "text": [
            "The shape of our features is: (5720, 5)\n"
          ]
        }
      ]
    },
    {
      "cell_type": "code",
      "source": [
        "# Descriptive statistics for each column\n",
        "X.describe()"
      ],
      "metadata": {
        "colab": {
          "base_uri": "https://localhost:8080/",
          "height": 300
        },
        "id": "rTYnAhrDAahM",
        "outputId": "2f1a1f4b-8ad1-41cd-d68e-2a8a43ada3ca"
      },
      "execution_count": 4,
      "outputs": [
        {
          "output_type": "execute_result",
          "data": {
            "text/html": [
              "\n",
              "  <div id=\"df-9b7b73e9-72d8-49c4-aa99-26eed75417ab\">\n",
              "    <div class=\"colab-df-container\">\n",
              "      <div>\n",
              "<style scoped>\n",
              "    .dataframe tbody tr th:only-of-type {\n",
              "        vertical-align: middle;\n",
              "    }\n",
              "\n",
              "    .dataframe tbody tr th {\n",
              "        vertical-align: top;\n",
              "    }\n",
              "\n",
              "    .dataframe thead th {\n",
              "        text-align: right;\n",
              "    }\n",
              "</style>\n",
              "<table border=\"1\" class=\"dataframe\">\n",
              "  <thead>\n",
              "    <tr style=\"text-align: right;\">\n",
              "      <th></th>\n",
              "      <th>Elevation</th>\n",
              "      <th>AppliedRat</th>\n",
              "      <th>EC_0_2</th>\n",
              "      <th>DISTANCE_1</th>\n",
              "      <th>Heading_1</th>\n",
              "    </tr>\n",
              "  </thead>\n",
              "  <tbody>\n",
              "    <tr>\n",
              "      <th>count</th>\n",
              "      <td>5720.000000</td>\n",
              "      <td>5720.000000</td>\n",
              "      <td>5720.000000</td>\n",
              "      <td>5720.000000</td>\n",
              "      <td>5720.000000</td>\n",
              "    </tr>\n",
              "    <tr>\n",
              "      <th>mean</th>\n",
              "      <td>165.194536</td>\n",
              "      <td>25863.892487</td>\n",
              "      <td>5.015344</td>\n",
              "      <td>6.860106</td>\n",
              "      <td>94.270339</td>\n",
              "    </tr>\n",
              "    <tr>\n",
              "      <th>std</th>\n",
              "      <td>1.881384</td>\n",
              "      <td>4915.607774</td>\n",
              "      <td>1.456430</td>\n",
              "      <td>0.897423</td>\n",
              "      <td>97.592399</td>\n",
              "    </tr>\n",
              "    <tr>\n",
              "      <th>min</th>\n",
              "      <td>160.791272</td>\n",
              "      <td>0.000000</td>\n",
              "      <td>1.660000</td>\n",
              "      <td>0.449588</td>\n",
              "      <td>0.001562</td>\n",
              "    </tr>\n",
              "    <tr>\n",
              "      <th>25%</th>\n",
              "      <td>163.822608</td>\n",
              "      <td>22565.271410</td>\n",
              "      <td>4.030000</td>\n",
              "      <td>6.901559</td>\n",
              "      <td>0.378750</td>\n",
              "    </tr>\n",
              "    <tr>\n",
              "      <th>50%</th>\n",
              "      <td>165.165567</td>\n",
              "      <td>24807.229870</td>\n",
              "      <td>4.900000</td>\n",
              "      <td>6.978460</td>\n",
              "      <td>1.050156</td>\n",
              "    </tr>\n",
              "    <tr>\n",
              "      <th>75%</th>\n",
              "      <td>166.551927</td>\n",
              "      <td>30371.657450</td>\n",
              "      <td>5.880000</td>\n",
              "      <td>7.032793</td>\n",
              "      <td>180.325234</td>\n",
              "    </tr>\n",
              "    <tr>\n",
              "      <th>max</th>\n",
              "      <td>169.551115</td>\n",
              "      <td>76489.633240</td>\n",
              "      <td>11.140000</td>\n",
              "      <td>14.165783</td>\n",
              "      <td>359.992157</td>\n",
              "    </tr>\n",
              "  </tbody>\n",
              "</table>\n",
              "</div>\n",
              "      <button class=\"colab-df-convert\" onclick=\"convertToInteractive('df-9b7b73e9-72d8-49c4-aa99-26eed75417ab')\"\n",
              "              title=\"Convert this dataframe to an interactive table.\"\n",
              "              style=\"display:none;\">\n",
              "        \n",
              "  <svg xmlns=\"http://www.w3.org/2000/svg\" height=\"24px\"viewBox=\"0 0 24 24\"\n",
              "       width=\"24px\">\n",
              "    <path d=\"M0 0h24v24H0V0z\" fill=\"none\"/>\n",
              "    <path d=\"M18.56 5.44l.94 2.06.94-2.06 2.06-.94-2.06-.94-.94-2.06-.94 2.06-2.06.94zm-11 1L8.5 8.5l.94-2.06 2.06-.94-2.06-.94L8.5 2.5l-.94 2.06-2.06.94zm10 10l.94 2.06.94-2.06 2.06-.94-2.06-.94-.94-2.06-.94 2.06-2.06.94z\"/><path d=\"M17.41 7.96l-1.37-1.37c-.4-.4-.92-.59-1.43-.59-.52 0-1.04.2-1.43.59L10.3 9.45l-7.72 7.72c-.78.78-.78 2.05 0 2.83L4 21.41c.39.39.9.59 1.41.59.51 0 1.02-.2 1.41-.59l7.78-7.78 2.81-2.81c.8-.78.8-2.07 0-2.86zM5.41 20L4 18.59l7.72-7.72 1.47 1.35L5.41 20z\"/>\n",
              "  </svg>\n",
              "      </button>\n",
              "      \n",
              "  <style>\n",
              "    .colab-df-container {\n",
              "      display:flex;\n",
              "      flex-wrap:wrap;\n",
              "      gap: 12px;\n",
              "    }\n",
              "\n",
              "    .colab-df-convert {\n",
              "      background-color: #E8F0FE;\n",
              "      border: none;\n",
              "      border-radius: 50%;\n",
              "      cursor: pointer;\n",
              "      display: none;\n",
              "      fill: #1967D2;\n",
              "      height: 32px;\n",
              "      padding: 0 0 0 0;\n",
              "      width: 32px;\n",
              "    }\n",
              "\n",
              "    .colab-df-convert:hover {\n",
              "      background-color: #E2EBFA;\n",
              "      box-shadow: 0px 1px 2px rgba(60, 64, 67, 0.3), 0px 1px 3px 1px rgba(60, 64, 67, 0.15);\n",
              "      fill: #174EA6;\n",
              "    }\n",
              "\n",
              "    [theme=dark] .colab-df-convert {\n",
              "      background-color: #3B4455;\n",
              "      fill: #D2E3FC;\n",
              "    }\n",
              "\n",
              "    [theme=dark] .colab-df-convert:hover {\n",
              "      background-color: #434B5C;\n",
              "      box-shadow: 0px 1px 3px 1px rgba(0, 0, 0, 0.15);\n",
              "      filter: drop-shadow(0px 1px 2px rgba(0, 0, 0, 0.3));\n",
              "      fill: #FFFFFF;\n",
              "    }\n",
              "  </style>\n",
              "\n",
              "      <script>\n",
              "        const buttonEl =\n",
              "          document.querySelector('#df-9b7b73e9-72d8-49c4-aa99-26eed75417ab button.colab-df-convert');\n",
              "        buttonEl.style.display =\n",
              "          google.colab.kernel.accessAllowed ? 'block' : 'none';\n",
              "\n",
              "        async function convertToInteractive(key) {\n",
              "          const element = document.querySelector('#df-9b7b73e9-72d8-49c4-aa99-26eed75417ab');\n",
              "          const dataTable =\n",
              "            await google.colab.kernel.invokeFunction('convertToInteractive',\n",
              "                                                     [key], {});\n",
              "          if (!dataTable) return;\n",
              "\n",
              "          const docLinkHtml = 'Like what you see? Visit the ' +\n",
              "            '<a target=\"_blank\" href=https://colab.research.google.com/notebooks/data_table.ipynb>data table notebook</a>'\n",
              "            + ' to learn more about interactive tables.';\n",
              "          element.innerHTML = '';\n",
              "          dataTable['output_type'] = 'display_data';\n",
              "          await google.colab.output.renderOutput(dataTable, element);\n",
              "          const docLink = document.createElement('div');\n",
              "          docLink.innerHTML = docLinkHtml;\n",
              "          element.appendChild(docLink);\n",
              "        }\n",
              "      </script>\n",
              "    </div>\n",
              "  </div>\n",
              "  "
            ],
            "text/plain": [
              "         Elevation    AppliedRat       EC_0_2   DISTANCE_1    Heading_1\n",
              "count  5720.000000   5720.000000  5720.000000  5720.000000  5720.000000\n",
              "mean    165.194536  25863.892487     5.015344     6.860106    94.270339\n",
              "std       1.881384   4915.607774     1.456430     0.897423    97.592399\n",
              "min     160.791272      0.000000     1.660000     0.449588     0.001562\n",
              "25%     163.822608  22565.271410     4.030000     6.901559     0.378750\n",
              "50%     165.165567  24807.229870     4.900000     6.978460     1.050156\n",
              "75%     166.551927  30371.657450     5.880000     7.032793   180.325234\n",
              "max     169.551115  76489.633240    11.140000    14.165783   359.992157"
            ]
          },
          "metadata": {},
          "execution_count": 4
        }
      ]
    },
    {
      "cell_type": "code",
      "source": [
        "# Using Skicit-learn to split data into training and testing sets\n",
        "from sklearn.model_selection import train_test_split\n",
        "# Split the data into training and testing sets\n",
        "train_x, test_x, train_y1, test_y1 = train_test_split(X, y1, test_size = 0.2,\n",
        "                                                      random_state = 42)"
      ],
      "metadata": {
        "id": "_3Hrn9JQAdpM"
      },
      "execution_count": 5,
      "outputs": []
    },
    {
      "cell_type": "code",
      "source": [
        "from sklearn import ensemble\n",
        "model = ensemble.ExtraTreesRegressor(random_state=0)"
      ],
      "metadata": {
        "id": "ArOzNKlgAobb"
      },
      "execution_count": 32,
      "outputs": []
    },
    {
      "cell_type": "code",
      "source": [
        "model.get_params()"
      ],
      "metadata": {
        "colab": {
          "base_uri": "https://localhost:8080/"
        },
        "id": "wCPWCx82O3Kt",
        "outputId": "e1fa48b6-4f6b-46f4-a4f2-1f8f98928cac"
      },
      "execution_count": 38,
      "outputs": [
        {
          "output_type": "execute_result",
          "data": {
            "text/plain": [
              "{'bootstrap': False,\n",
              " 'ccp_alpha': 0.0,\n",
              " 'criterion': 'squared_error',\n",
              " 'max_depth': None,\n",
              " 'max_features': 'auto',\n",
              " 'max_leaf_nodes': None,\n",
              " 'max_samples': None,\n",
              " 'min_impurity_decrease': 0.0,\n",
              " 'min_samples_leaf': 1,\n",
              " 'min_samples_split': 2,\n",
              " 'min_weight_fraction_leaf': 0.0,\n",
              " 'n_estimators': 100,\n",
              " 'n_jobs': None,\n",
              " 'oob_score': False,\n",
              " 'random_state': 0,\n",
              " 'verbose': 0,\n",
              " 'warm_start': False}"
            ]
          },
          "metadata": {},
          "execution_count": 38
        }
      ]
    },
    {
      "cell_type": "code",
      "source": [
        "model.fit(train_x, train_y1)"
      ],
      "metadata": {
        "colab": {
          "base_uri": "https://localhost:8080/"
        },
        "id": "EFG7NnF5AtIe",
        "outputId": "1e6a29a0-97d3-4683-fe45-ca08029acc9e"
      },
      "execution_count": 33,
      "outputs": [
        {
          "output_type": "execute_result",
          "data": {
            "text/plain": [
              "ExtraTreesRegressor(random_state=0)"
            ]
          },
          "metadata": {},
          "execution_count": 33
        }
      ]
    },
    {
      "cell_type": "code",
      "source": [
        "# predict the results\n",
        "y_pred=model.predict(test_x)"
      ],
      "metadata": {
        "id": "Nkx24kQxOBZ_"
      },
      "execution_count": 34,
      "outputs": []
    },
    {
      "cell_type": "code",
      "source": [
        "print('Training Coefficient of R^2 : %.3f'%model.score(train_x, train_y1))\n",
        "print('Test Coefficient of R^2 : %.3f'%model.score(test_x, test_y1))"
      ],
      "metadata": {
        "colab": {
          "base_uri": "https://localhost:8080/"
        },
        "id": "qMXQuPqJOD_l",
        "outputId": "45574076-0bc7-440e-d1d2-62b3d745bce3"
      },
      "execution_count": 35,
      "outputs": [
        {
          "output_type": "stream",
          "name": "stdout",
          "text": [
            "Training Coefficient of R^2 : 1.000\n",
            "Test Coefficient of R^2 : 0.689\n"
          ]
        }
      ]
    },
    {
      "cell_type": "code",
      "source": [
        "# Calculate the absolute errors\n",
        "errors = abs(y_pred - test_y1)\n",
        "# Print out the mean absolute error (mae)\n",
        "print('Mean Absolute Error:', round(np.mean(errors), 2), '.')\n",
        "\n",
        "\n",
        "# Calculate mean absolute percentage error (MAPE)\n",
        "mape = 100 * (errors / test_y1)\n",
        "# Calculate and display accuracy\n",
        "accuracy = 100 - np.mean(mape)\n",
        "print('Accuracy:', round(accuracy, 2), '%.')"
      ],
      "metadata": {
        "colab": {
          "base_uri": "https://localhost:8080/"
        },
        "id": "ysCFYQe7PIgD",
        "outputId": "32b749fc-64e0-4857-9317-11a5a78d6f24"
      },
      "execution_count": 40,
      "outputs": [
        {
          "output_type": "stream",
          "name": "stdout",
          "text": [
            "Mean Absolute Error: 0.41 .\n",
            "Accuracy: 71.19 %.\n"
          ]
        }
      ]
    },
    {
      "cell_type": "code",
      "source": [
        "# Print result of MAE\n",
        "print('MAE: ', metrics.mean_absolute_error(test_y1, y_pred))\n",
        "\n",
        "\n",
        "# Print result of RMSE\n",
        "print('RMSE: ', np.sqrt(metrics.mean_squared_error(test_y1, y_pred)))"
      ],
      "metadata": {
        "colab": {
          "base_uri": "https://localhost:8080/"
        },
        "id": "N-sb1cbfPWsy",
        "outputId": "91a9ce40-09c9-4c32-fed4-cee9228a232b"
      },
      "execution_count": 41,
      "outputs": [
        {
          "output_type": "stream",
          "name": "stdout",
          "text": [
            "MAE:  0.4083315324587412\n",
            "RMSE:  0.5887789991279022\n"
          ]
        }
      ]
    },
    {
      "cell_type": "code",
      "source": [
        "#plot the importances #\n",
        "importances = model.feature_importances_\n",
        "std = np.std([tree.feature_importances_ for tree in model.estimators_],\n",
        "             axis=0)\n",
        "indices = np.argsort(importances)[::-1][:20]\n",
        "x_values = list(range(len(importances)))\n",
        "feature_list = list(X.columns)"
      ],
      "metadata": {
        "id": "z8oTaZfWA7OW"
      },
      "execution_count": 36,
      "outputs": []
    },
    {
      "cell_type": "code",
      "source": [
        "%matplotlib inline\n",
        "# Set the style\n",
        "plt.style.use('fivethirtyeight')\n",
        "plt.rcParams.update({'font.size': 18})\n",
        "plt.figure(figsize=(12,8))\n",
        "#plt.title(\"Feature importances\")\n",
        "#plt.bar(x_values, importances[indices], color=\"b\", yerr=std[indices], align=\"center\")\n",
        "#plt.xticks(x_values, indices)\n",
        "\n",
        "# Make a bar chart\n",
        "plt.bar(x_values, importances, orientation = 'vertical', yerr=std[indices])\n",
        "# Tick labels for x axis\n",
        "plt.xticks(x_values, feature_list)\n",
        "\n",
        "plt.xlim([-1, len(indices)])\n",
        "# Axis labels and title\n",
        "plt.ylabel('Importance'); plt.xlabel('Input Variables'); plt.title('Variable Importances');"
      ],
      "metadata": {
        "colab": {
          "base_uri": "https://localhost:8080/",
          "height": 569
        },
        "id": "p0TG3zBNA-4g",
        "outputId": "2d53cebf-4e2e-4683-d942-378f7f0d0a23"
      },
      "execution_count": 39,
      "outputs": [
        {
          "output_type": "display_data",
          "data": {
            "image/png": "[encoded data removed]",
            "text/plain": [
              "<Figure size 864x576 with 1 Axes>"
            ]
          },
          "metadata": {}
        }
      ]
    },
    {
      "cell_type": "code",
      "source": [
        "from sklearn import model_selection\n",
        "seed = 7\n",
        "kfold = model_selection.KFold(n_splits=10, random_state=seed,\n",
        "                              shuffle = True)\n",
        "model = ensemble.ExtraTreesRegressor(n_estimators=5, max_depth=10, \n",
        "                                     max_features=0.3, n_jobs=-1, \n",
        "                                     random_state=0)\n",
        "results = model_selection.cross_val_score(model, train_x, train_y1, cv=kfold)\n",
        "print(results.mean())"
      ],
      "metadata": {
        "colab": {
          "base_uri": "https://localhost:8080/"
        },
        "id": "bdRGaR6qBBle",
        "outputId": "3d314956-f63a-42c3-abd0-1df5b32e0b0b"
      },
      "execution_count": 18,
      "outputs": [
        {
          "output_type": "stream",
          "name": "stdout",
          "text": [
            "0.21106922340236905\n"
          ]
        }
      ]
    },
    {
      "cell_type": "code",
      "source": [
        ""
      ],
      "metadata": {
        "colab": {
          "base_uri": "https://localhost:8080/"
        },
        "id": "ksaGcjGZNzwE",
        "outputId": "56e59b50-3d4c-4dde-b40d-a04521705330"
      },
      "execution_count": 24,
      "outputs": [
        {
          "output_type": "execute_result",
          "data": {
            "text/plain": [
              "{'bootstrap': False,\n",
              " 'ccp_alpha': 0.0,\n",
              " 'criterion': 'squared_error',\n",
              " 'max_depth': 10,\n",
              " 'max_features': 0.3,\n",
              " 'max_leaf_nodes': None,\n",
              " 'max_samples': None,\n",
              " 'min_impurity_decrease': 0.0,\n",
              " 'min_samples_leaf': 1,\n",
              " 'min_samples_split': 2,\n",
              " 'min_weight_fraction_leaf': 0.0,\n",
              " 'n_estimators': 5,\n",
              " 'n_jobs': -1,\n",
              " 'oob_score': False,\n",
              " 'random_state': 0,\n",
              " 'verbose': 0,\n",
              " 'warm_start': False}"
            ]
          },
          "metadata": {},
          "execution_count": 24
        }
      ]
    },
    {
      "cell_type": "code",
      "source": [
        "# Plot actual data and predictions \n",
        "\n",
        "plt.figure(figsize=(10,10))\n",
        "plt.scatter(y_pred, (test_y1-y_pred), c='crimson')\n",
        "\n",
        "#plt.plot([p1, p2], [p1, p2], 'b-')\n",
        "plt.title('Cotton yield ExtraTreesRegressor Prediction vs Residuals', fontsize=15)\n",
        "plt.xlabel('Cotton yield ExtraTreesRegressor Prediction', fontsize=15)\n",
        "plt.ylabel('Residues', fontsize=15)\n",
        "plt.show()"
      ],
      "metadata": {
        "colab": {
          "base_uri": "https://localhost:8080/",
          "height": 673
        },
        "id": "m1SmI4o5CzMk",
        "outputId": "797e614e-8c4c-4c6d-aa9c-dbc224598f5b"
      },
      "execution_count": 42,
      "outputs": [
        {
          "output_type": "display_data",
          "data": {
            "image/png": "[encoded data removed]",
            "text/plain": [
              "<Figure size 720x720 with 1 Axes>"
            ]
          },
          "metadata": {}
        }
      ]
    },
    {
      "cell_type": "code",
      "source": [
        ""
      ],
      "metadata": {
        "id": "obfbGrfUN1gs"
      },
      "execution_count": null,
      "outputs": []
    }
  ]
}