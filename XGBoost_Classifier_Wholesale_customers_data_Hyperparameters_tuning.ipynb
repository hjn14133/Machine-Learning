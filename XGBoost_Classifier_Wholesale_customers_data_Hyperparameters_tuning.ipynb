{
  "nbformat": 4,
  "nbformat_minor": 0,
  "metadata": {
    "colab": {
      "name": "XGBoost Classifier Wholesale customers data Hyperparameters tuning.ipynb",
      "provenance": [],
      "authorship_tag": "ABX9TyO94jGpT1YmyEMOy7yejq5e",
      "include_colab_link": true
    },
    "kernelspec": {
      "name": "python3",
      "display_name": "Python 3"
    },
    "language_info": {
      "name": "python"
    }
  },
  "cells": [
    {
      "cell_type": "markdown",
      "metadata": {
        "id": "view-in-github",
        "colab_type": "text"
      },
      "source": [
        "<a href=\"https://colab.research.google.com/github/hjn14133/Machine-Learning/blob/main/XGBoost_Classifier_Wholesale_customers_data_Hyperparameters_tuning.ipynb\" target=\"_parent\"><img src=\"https://colab.research.google.com/assets/colab-badge.svg\" alt=\"Open In Colab\"/></a>"
      ]
    },
    {
      "cell_type": "code",
      "metadata": {
        "id": "I0lnvQrantMc"
      },
      "source": [
        "# import pandas for data wrangling\n",
        "import pandas as pd\n",
        "\n",
        "# import numpy for Scientific computations\n",
        "import numpy as np\n",
        "\n",
        "# import machine learning libraries\n",
        "import xgboost as xgb\n",
        "from sklearn.metrics import accuracy_score\n",
        "\n",
        "# import packages for hyperparameters tuning\n",
        "from hyperopt import STATUS_OK, Trials, fmin, hp, tpe"
      ],
      "execution_count": 1,
      "outputs": []
    },
    {
      "cell_type": "code",
      "metadata": {
        "id": "I_ep6ujkoBVr"
      },
      "source": [
        "df = pd.read_csv(\"Wholesale customers data.csv\")"
      ],
      "execution_count": 2,
      "outputs": []
    },
    {
      "cell_type": "code",
      "metadata": {
        "id": "Xq1eLC93oFcb"
      },
      "source": [
        "X = df.drop('Channel', axis=1)\n",
        "\n",
        "y = df['Channel']\n",
        "\n",
        "y[y == 2] = 0\n",
        "\n",
        "y[y == 1] = 1"
      ],
      "execution_count": 3,
      "outputs": []
    },
    {
      "cell_type": "code",
      "metadata": {
        "colab": {
          "base_uri": "https://localhost:8080/",
          "height": 204
        },
        "id": "5VNps_CKoLdb",
        "outputId": "b8cbc8d5-b20e-4792-d9b1-f6015f86a5c8"
      },
      "source": [
        "X.head()"
      ],
      "execution_count": 4,
      "outputs": [
        {
          "output_type": "execute_result",
          "data": {
            "text/html": [
              "<div>\n",
              "<style scoped>\n",
              "    .dataframe tbody tr th:only-of-type {\n",
              "        vertical-align: middle;\n",
              "    }\n",
              "\n",
              "    .dataframe tbody tr th {\n",
              "        vertical-align: top;\n",
              "    }\n",
              "\n",
              "    .dataframe thead th {\n",
              "        text-align: right;\n",
              "    }\n",
              "</style>\n",
              "<table border=\"1\" class=\"dataframe\">\n",
              "  <thead>\n",
              "    <tr style=\"text-align: right;\">\n",
              "      <th></th>\n",
              "      <th>Region</th>\n",
              "      <th>Fresh</th>\n",
              "      <th>Milk</th>\n",
              "      <th>Grocery</th>\n",
              "      <th>Frozen</th>\n",
              "      <th>Detergents_Paper</th>\n",
              "      <th>Delicassen</th>\n",
              "    </tr>\n",
              "  </thead>\n",
              "  <tbody>\n",
              "    <tr>\n",
              "      <th>0</th>\n",
              "      <td>3</td>\n",
              "      <td>12669</td>\n",
              "      <td>9656</td>\n",
              "      <td>7561</td>\n",
              "      <td>214</td>\n",
              "      <td>2674</td>\n",
              "      <td>1338</td>\n",
              "    </tr>\n",
              "    <tr>\n",
              "      <th>1</th>\n",
              "      <td>3</td>\n",
              "      <td>7057</td>\n",
              "      <td>9810</td>\n",
              "      <td>9568</td>\n",
              "      <td>1762</td>\n",
              "      <td>3293</td>\n",
              "      <td>1776</td>\n",
              "    </tr>\n",
              "    <tr>\n",
              "      <th>2</th>\n",
              "      <td>3</td>\n",
              "      <td>6353</td>\n",
              "      <td>8808</td>\n",
              "      <td>7684</td>\n",
              "      <td>2405</td>\n",
              "      <td>3516</td>\n",
              "      <td>7844</td>\n",
              "    </tr>\n",
              "    <tr>\n",
              "      <th>3</th>\n",
              "      <td>3</td>\n",
              "      <td>13265</td>\n",
              "      <td>1196</td>\n",
              "      <td>4221</td>\n",
              "      <td>6404</td>\n",
              "      <td>507</td>\n",
              "      <td>1788</td>\n",
              "    </tr>\n",
              "    <tr>\n",
              "      <th>4</th>\n",
              "      <td>3</td>\n",
              "      <td>22615</td>\n",
              "      <td>5410</td>\n",
              "      <td>7198</td>\n",
              "      <td>3915</td>\n",
              "      <td>1777</td>\n",
              "      <td>5185</td>\n",
              "    </tr>\n",
              "  </tbody>\n",
              "</table>\n",
              "</div>"
            ],
            "text/plain": [
              "   Region  Fresh  Milk  Grocery  Frozen  Detergents_Paper  Delicassen\n",
              "0       3  12669  9656     7561     214              2674        1338\n",
              "1       3   7057  9810     9568    1762              3293        1776\n",
              "2       3   6353  8808     7684    2405              3516        7844\n",
              "3       3  13265  1196     4221    6404               507        1788\n",
              "4       3  22615  5410     7198    3915              1777        5185"
            ]
          },
          "metadata": {},
          "execution_count": 4
        }
      ]
    },
    {
      "cell_type": "code",
      "metadata": {
        "colab": {
          "base_uri": "https://localhost:8080/"
        },
        "id": "KXK76Bo5oMkO",
        "outputId": "de2fa5a3-2ced-4822-e1cb-c965b7324f58"
      },
      "source": [
        "y.head()"
      ],
      "execution_count": 5,
      "outputs": [
        {
          "output_type": "execute_result",
          "data": {
            "text/plain": [
              "0    0\n",
              "1    0\n",
              "2    0\n",
              "3    1\n",
              "4    0\n",
              "Name: Channel, dtype: int64"
            ]
          },
          "metadata": {},
          "execution_count": 5
        }
      ]
    },
    {
      "cell_type": "code",
      "metadata": {
        "id": "yakNbd-IoOPE"
      },
      "source": [
        "# Split data into separate training and test set\n",
        "from sklearn.model_selection import train_test_split\n",
        "\n",
        "X_train, X_test, y_train, y_test = train_test_split(X, y, \n",
        "                                                    test_size = 0.3,\n",
        "                                                    random_state = 0)"
      ],
      "execution_count": 6,
      "outputs": []
    },
    {
      "cell_type": "code",
      "metadata": {
        "id": "HYEX9tiwocNn"
      },
      "source": [
        "# Bayesian Optimization with HYPEROPT\n",
        "\n",
        "# Initialize domain space for range of values\n",
        "\n",
        "space={'max_depth': hp.quniform(\"max_depth\", 3, 18, 1),\n",
        "        'gamma': hp.uniform ('gamma', 1,9),\n",
        "        'reg_alpha' : hp.quniform('reg_alpha', 40,180,1),\n",
        "        'reg_lambda' : hp.uniform('reg_lambda', 0,1),\n",
        "        'colsample_bytree' : hp.uniform('colsample_bytree', 0.5,1),\n",
        "        'min_child_weight' : hp.quniform('min_child_weight', 0, 10, 1),\n",
        "        'n_estimators': 180,\n",
        "        'seed': 0\n",
        "    }"
      ],
      "execution_count": 7,
      "outputs": []
    },
    {
      "cell_type": "code",
      "metadata": {
        "id": "tz3jCDvEo7hs"
      },
      "source": [
        "# Define Objective function\n",
        "\n",
        "def objective(space):\n",
        "    clf=xgb.XGBClassifier(\n",
        "                    n_estimators =space['n_estimators'], \n",
        "                    max_depth = int(space['max_depth']), \n",
        "                    gamma = space['gamma'],\n",
        "                    reg_alpha = int(space['reg_alpha']),\n",
        "                    min_child_weight=int(space['min_child_weight']),\n",
        "                    colsample_bytree=int(space['colsample_bytree']))\n",
        "    \n",
        "    evaluation = [( X_train, y_train), ( X_test, y_test)]\n",
        "    \n",
        "    clf.fit(X_train, y_train,\n",
        "            eval_set=evaluation, eval_metric=\"auc\",\n",
        "            early_stopping_rounds=10,verbose=False)\n",
        "    \n",
        "\n",
        "    pred = clf.predict(X_test)\n",
        "    accuracy = accuracy_score(y_test, pred>0.5)\n",
        "    print (\"SCORE:\", accuracy)\n",
        "    return {'loss': -accuracy, 'status': STATUS_OK }"
      ],
      "execution_count": 8,
      "outputs": []
    },
    {
      "cell_type": "code",
      "metadata": {
        "colab": {
          "base_uri": "https://localhost:8080/"
        },
        "id": "UuD6e1ATpGd_",
        "outputId": "e41a5a55-7bfc-4acb-8523-e04d99e6426b"
      },
      "source": [
        "# Optimization algorithm\n",
        "trials = Trials()\n",
        "\n",
        "best_hyperparams = fmin(fn = objective,\n",
        "                        space = space,\n",
        "                        algo = tpe.suggest,\n",
        "                        max_evals = 100,\n",
        "                        trials = trials)"
      ],
      "execution_count": 9,
      "outputs": [
        {
          "output_type": "stream",
          "name": "stdout",
          "text": [
            "SCORE:\n",
            "0.3484848484848485\n",
            "SCORE:\n",
            "0.3484848484848485\n",
            "SCORE:\n",
            "0.3484848484848485\n",
            "SCORE:\n",
            "0.6515151515151515\n",
            "SCORE:\n",
            "0.3484848484848485\n",
            "SCORE:\n",
            "0.3484848484848485\n",
            "SCORE:\n",
            "0.3484848484848485\n",
            "SCORE:\n",
            "0.6515151515151515\n",
            "SCORE:\n",
            "0.3484848484848485\n",
            "SCORE:\n",
            "0.3484848484848485\n",
            "SCORE:\n",
            "0.3484848484848485\n",
            "SCORE:\n",
            "0.3484848484848485\n",
            "SCORE:\n",
            "0.3484848484848485\n",
            "SCORE:\n",
            "0.3484848484848485\n",
            "SCORE:\n",
            "0.3484848484848485\n",
            "SCORE:\n",
            "0.8712121212121212\n",
            "SCORE:\n",
            "0.3484848484848485\n",
            "SCORE:\n",
            "0.8712121212121212\n",
            "SCORE:\n",
            "0.3484848484848485\n",
            "SCORE:\n",
            "0.3484848484848485\n",
            "SCORE:\n",
            "0.8712121212121212\n",
            "SCORE:\n",
            "0.3484848484848485\n",
            "SCORE:\n",
            "0.8712121212121212\n",
            "SCORE:\n",
            "0.6515151515151515\n",
            "SCORE:\n",
            "0.3484848484848485\n",
            "SCORE:\n",
            "0.6515151515151515\n",
            "SCORE:\n",
            "0.8712121212121212\n",
            "SCORE:\n",
            "0.8712121212121212\n",
            "SCORE:\n",
            "0.3484848484848485\n",
            "SCORE:\n",
            "0.3484848484848485\n",
            "SCORE:\n",
            "0.8712121212121212\n",
            "SCORE:\n",
            "0.6515151515151515\n",
            "SCORE:\n",
            "0.3484848484848485\n",
            "SCORE:\n",
            "0.3484848484848485\n",
            "SCORE:\n",
            "0.3484848484848485\n",
            "SCORE:\n",
            "0.8712121212121212\n",
            "SCORE:\n",
            "0.3484848484848485\n",
            "SCORE:\n",
            "0.6515151515151515\n",
            "SCORE:\n",
            "0.3484848484848485\n",
            "SCORE:\n",
            "0.3484848484848485\n",
            "SCORE:\n",
            "0.6515151515151515\n",
            "SCORE:\n",
            "0.8712121212121212\n",
            "SCORE:\n",
            "0.3484848484848485\n",
            "SCORE:\n",
            "0.3484848484848485\n",
            "SCORE:\n",
            "0.8712121212121212\n",
            "SCORE:\n",
            "0.3484848484848485\n",
            "SCORE:\n",
            "0.3484848484848485\n",
            "SCORE:\n",
            "0.8712121212121212\n",
            "SCORE:\n",
            "0.3484848484848485\n",
            "SCORE:\n",
            "0.3484848484848485\n",
            "SCORE:\n",
            "0.3484848484848485\n",
            "SCORE:\n",
            "0.8712121212121212\n",
            "SCORE:\n",
            "0.6515151515151515\n",
            "SCORE:\n",
            "0.3484848484848485\n",
            "SCORE:\n",
            "0.3484848484848485\n",
            "SCORE:\n",
            "0.3484848484848485\n",
            "SCORE:\n",
            "0.3484848484848485\n",
            "SCORE:\n",
            "0.3484848484848485\n",
            "SCORE:\n",
            "0.3484848484848485\n",
            "SCORE:\n",
            "0.3484848484848485\n",
            "SCORE:\n",
            "0.3484848484848485\n",
            "SCORE:\n",
            "0.8712121212121212\n",
            "SCORE:\n",
            "0.8712121212121212\n",
            "SCORE:\n",
            "0.6515151515151515\n",
            "SCORE:\n",
            "0.3484848484848485\n",
            "SCORE:\n",
            "0.8712121212121212\n",
            "SCORE:\n",
            "0.6515151515151515\n",
            "SCORE:\n",
            "0.3484848484848485\n",
            "SCORE:\n",
            "0.6515151515151515\n",
            "SCORE:\n",
            "0.8712121212121212\n",
            "SCORE:\n",
            "0.8712121212121212\n",
            "SCORE:\n",
            "0.6515151515151515\n",
            "SCORE:\n",
            "0.3484848484848485\n",
            "SCORE:\n",
            "0.8712121212121212\n",
            "SCORE:\n",
            "0.8712121212121212\n",
            "SCORE:\n",
            "0.8712121212121212\n",
            "SCORE:\n",
            "0.3484848484848485\n",
            "SCORE:\n",
            "0.6515151515151515\n",
            "SCORE:\n",
            "0.6515151515151515\n",
            "SCORE:\n",
            "0.6515151515151515\n",
            "SCORE:\n",
            "0.3484848484848485\n",
            "SCORE:\n",
            "0.3484848484848485\n",
            "SCORE:\n",
            "0.8712121212121212\n",
            "SCORE:\n",
            "0.8712121212121212\n",
            "SCORE:\n",
            "0.3484848484848485\n",
            "SCORE:\n",
            "0.3484848484848485\n",
            "SCORE:\n",
            "0.3484848484848485\n",
            "SCORE:\n",
            "0.6515151515151515\n",
            "SCORE:\n",
            "0.3484848484848485\n",
            "SCORE:\n",
            "0.3484848484848485\n",
            "SCORE:\n",
            "0.8712121212121212\n",
            "SCORE:\n",
            "0.3484848484848485\n",
            "SCORE:\n",
            "0.3484848484848485\n",
            "SCORE:\n",
            "0.3484848484848485\n",
            "SCORE:\n",
            "0.8712121212121212\n",
            "SCORE:\n",
            "0.8712121212121212\n",
            "SCORE:\n",
            "0.6515151515151515\n",
            "SCORE:\n",
            "0.6515151515151515\n",
            "SCORE:\n",
            "0.8712121212121212\n",
            "SCORE:\n",
            "0.3484848484848485\n",
            "100%|██████████| 100/100 [00:07<00:00, 14.19it/s, best loss: -0.8712121212121212]\n"
          ]
        }
      ]
    },
    {
      "cell_type": "code",
      "metadata": {
        "colab": {
          "base_uri": "https://localhost:8080/"
        },
        "id": "L_IFXwZ-pVbr",
        "outputId": "e6fbe8b7-32cb-47f7-8242-a90b179fe090"
      },
      "source": [
        "print(\"The best hyperparameters are : \",\"\\n\")\n",
        "print(best_hyperparams)"
      ],
      "execution_count": 10,
      "outputs": [
        {
          "output_type": "stream",
          "name": "stdout",
          "text": [
            "The best hyperparameters are :  \n",
            "\n",
            "{'colsample_bytree': 0.748380944328856, 'gamma': 4.776022454086848, 'max_depth': 9.0, 'min_child_weight': 2.0, 'reg_alpha': 67.0, 'reg_lambda': 0.17725432207300074}\n"
          ]
        }
      ]
    }
  ]
}