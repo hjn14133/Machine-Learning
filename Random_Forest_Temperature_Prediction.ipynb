{
  "nbformat": 4,
  "nbformat_minor": 0,
  "metadata": {
    "colab": {
      "name": "Random Forest Temperature Prediction.ipynb",
      "provenance": [],
      "authorship_tag": "ABX9TyMjBIjlIJzXU/BHVDrBI3KV",
      "include_colab_link": true
    },
    "kernelspec": {
      "name": "python3",
      "display_name": "Python 3"
    },
    "language_info": {
      "name": "python"
    }
  },
  "cells": [
    {
      "cell_type": "markdown",
      "metadata": {
        "id": "view-in-github",
        "colab_type": "text"
      },
      "source": [
        "<a href=\"https://colab.research.google.com/github/hjn14133/Machine-Learning/blob/main/Random_Forest_Temperature_Prediction.ipynb\" target=\"_parent\"><img src=\"https://colab.research.google.com/assets/colab-badge.svg\" alt=\"Open In Colab\"/></a>"
      ]
    },
    {
      "cell_type": "code",
      "metadata": {
        "colab": {
          "base_uri": "https://localhost:8080/",
          "height": 224
        },
        "id": "ulvfplcFFOPf",
        "outputId": "02b9bc7f-577f-4777-ce00-a692b23c3b36"
      },
      "source": [
        "import pandas as pd\n",
        "\n",
        "# Load the data\n",
        "features = pd.read_csv('temps.csv')\n",
        "features.head()"
      ],
      "execution_count": 21,
      "outputs": [
        {
          "output_type": "execute_result",
          "data": {
            "text/html": [
              "<div>\n",
              "<style scoped>\n",
              "    .dataframe tbody tr th:only-of-type {\n",
              "        vertical-align: middle;\n",
              "    }\n",
              "\n",
              "    .dataframe tbody tr th {\n",
              "        vertical-align: top;\n",
              "    }\n",
              "\n",
              "    .dataframe thead th {\n",
              "        text-align: right;\n",
              "    }\n",
              "</style>\n",
              "<table border=\"1\" class=\"dataframe\">\n",
              "  <thead>\n",
              "    <tr style=\"text-align: right;\">\n",
              "      <th></th>\n",
              "      <th>year</th>\n",
              "      <th>month</th>\n",
              "      <th>day</th>\n",
              "      <th>week</th>\n",
              "      <th>temp_2</th>\n",
              "      <th>temp_1</th>\n",
              "      <th>average</th>\n",
              "      <th>actual</th>\n",
              "      <th>forecast_noaa</th>\n",
              "      <th>forecast_acc</th>\n",
              "      <th>forecast_under</th>\n",
              "      <th>friend</th>\n",
              "    </tr>\n",
              "  </thead>\n",
              "  <tbody>\n",
              "    <tr>\n",
              "      <th>0</th>\n",
              "      <td>2016</td>\n",
              "      <td>1</td>\n",
              "      <td>1</td>\n",
              "      <td>Fri</td>\n",
              "      <td>45</td>\n",
              "      <td>45</td>\n",
              "      <td>45.6</td>\n",
              "      <td>45</td>\n",
              "      <td>43</td>\n",
              "      <td>50</td>\n",
              "      <td>44</td>\n",
              "      <td>29</td>\n",
              "    </tr>\n",
              "    <tr>\n",
              "      <th>1</th>\n",
              "      <td>2016</td>\n",
              "      <td>1</td>\n",
              "      <td>2</td>\n",
              "      <td>Sat</td>\n",
              "      <td>44</td>\n",
              "      <td>45</td>\n",
              "      <td>45.7</td>\n",
              "      <td>44</td>\n",
              "      <td>41</td>\n",
              "      <td>50</td>\n",
              "      <td>44</td>\n",
              "      <td>61</td>\n",
              "    </tr>\n",
              "    <tr>\n",
              "      <th>2</th>\n",
              "      <td>2016</td>\n",
              "      <td>1</td>\n",
              "      <td>3</td>\n",
              "      <td>Sun</td>\n",
              "      <td>45</td>\n",
              "      <td>44</td>\n",
              "      <td>45.8</td>\n",
              "      <td>41</td>\n",
              "      <td>43</td>\n",
              "      <td>46</td>\n",
              "      <td>47</td>\n",
              "      <td>56</td>\n",
              "    </tr>\n",
              "    <tr>\n",
              "      <th>3</th>\n",
              "      <td>2016</td>\n",
              "      <td>1</td>\n",
              "      <td>4</td>\n",
              "      <td>Mon</td>\n",
              "      <td>44</td>\n",
              "      <td>41</td>\n",
              "      <td>45.9</td>\n",
              "      <td>40</td>\n",
              "      <td>44</td>\n",
              "      <td>48</td>\n",
              "      <td>46</td>\n",
              "      <td>53</td>\n",
              "    </tr>\n",
              "    <tr>\n",
              "      <th>4</th>\n",
              "      <td>2016</td>\n",
              "      <td>1</td>\n",
              "      <td>5</td>\n",
              "      <td>Tues</td>\n",
              "      <td>41</td>\n",
              "      <td>40</td>\n",
              "      <td>46.0</td>\n",
              "      <td>44</td>\n",
              "      <td>46</td>\n",
              "      <td>46</td>\n",
              "      <td>46</td>\n",
              "      <td>41</td>\n",
              "    </tr>\n",
              "  </tbody>\n",
              "</table>\n",
              "</div>"
            ],
            "text/plain": [
              "   year  month  day  week  ...  forecast_noaa  forecast_acc  forecast_under  friend\n",
              "0  2016      1    1   Fri  ...             43            50              44      29\n",
              "1  2016      1    2   Sat  ...             41            50              44      61\n",
              "2  2016      1    3   Sun  ...             43            46              47      56\n",
              "3  2016      1    4   Mon  ...             44            48              46      53\n",
              "4  2016      1    5  Tues  ...             46            46              46      41\n",
              "\n",
              "[5 rows x 12 columns]"
            ]
          },
          "metadata": {},
          "execution_count": 21
        }
      ]
    },
    {
      "cell_type": "code",
      "metadata": {
        "colab": {
          "base_uri": "https://localhost:8080/"
        },
        "id": "8Xl_SKGuFtJJ",
        "outputId": "845b7777-4312-4d2b-b51b-3214314e553e"
      },
      "source": [
        "# Identify anomalies and missing data\n",
        "print('The shape of our feature is: ', features.shape)"
      ],
      "execution_count": 22,
      "outputs": [
        {
          "output_type": "stream",
          "name": "stdout",
          "text": [
            "The shape of our feature is:  (348, 12)\n"
          ]
        }
      ]
    },
    {
      "cell_type": "code",
      "metadata": {
        "colab": {
          "base_uri": "https://localhost:8080/",
          "height": 317
        },
        "id": "ZLkne3NhGBC5",
        "outputId": "4cce4f12-fc7d-4fbb-efb8-ffd2a00df554"
      },
      "source": [
        "# Descriptive statistics for each column\n",
        "features.describe()"
      ],
      "execution_count": 5,
      "outputs": [
        {
          "output_type": "execute_result",
          "data": {
            "text/html": [
              "<div>\n",
              "<style scoped>\n",
              "    .dataframe tbody tr th:only-of-type {\n",
              "        vertical-align: middle;\n",
              "    }\n",
              "\n",
              "    .dataframe tbody tr th {\n",
              "        vertical-align: top;\n",
              "    }\n",
              "\n",
              "    .dataframe thead th {\n",
              "        text-align: right;\n",
              "    }\n",
              "</style>\n",
              "<table border=\"1\" class=\"dataframe\">\n",
              "  <thead>\n",
              "    <tr style=\"text-align: right;\">\n",
              "      <th></th>\n",
              "      <th>year</th>\n",
              "      <th>month</th>\n",
              "      <th>day</th>\n",
              "      <th>temp_2</th>\n",
              "      <th>temp_1</th>\n",
              "      <th>average</th>\n",
              "      <th>actual</th>\n",
              "      <th>forecast_noaa</th>\n",
              "      <th>forecast_acc</th>\n",
              "      <th>forecast_under</th>\n",
              "      <th>friend</th>\n",
              "    </tr>\n",
              "  </thead>\n",
              "  <tbody>\n",
              "    <tr>\n",
              "      <th>count</th>\n",
              "      <td>348.0</td>\n",
              "      <td>348.000000</td>\n",
              "      <td>348.000000</td>\n",
              "      <td>348.000000</td>\n",
              "      <td>348.000000</td>\n",
              "      <td>348.000000</td>\n",
              "      <td>348.000000</td>\n",
              "      <td>348.000000</td>\n",
              "      <td>348.000000</td>\n",
              "      <td>348.000000</td>\n",
              "      <td>348.000000</td>\n",
              "    </tr>\n",
              "    <tr>\n",
              "      <th>mean</th>\n",
              "      <td>2016.0</td>\n",
              "      <td>6.477011</td>\n",
              "      <td>15.514368</td>\n",
              "      <td>62.652299</td>\n",
              "      <td>62.701149</td>\n",
              "      <td>59.760632</td>\n",
              "      <td>62.543103</td>\n",
              "      <td>57.238506</td>\n",
              "      <td>62.373563</td>\n",
              "      <td>59.772989</td>\n",
              "      <td>60.034483</td>\n",
              "    </tr>\n",
              "    <tr>\n",
              "      <th>std</th>\n",
              "      <td>0.0</td>\n",
              "      <td>3.498380</td>\n",
              "      <td>8.772982</td>\n",
              "      <td>12.165398</td>\n",
              "      <td>12.120542</td>\n",
              "      <td>10.527306</td>\n",
              "      <td>11.794146</td>\n",
              "      <td>10.605746</td>\n",
              "      <td>10.549381</td>\n",
              "      <td>10.705256</td>\n",
              "      <td>15.626179</td>\n",
              "    </tr>\n",
              "    <tr>\n",
              "      <th>min</th>\n",
              "      <td>2016.0</td>\n",
              "      <td>1.000000</td>\n",
              "      <td>1.000000</td>\n",
              "      <td>35.000000</td>\n",
              "      <td>35.000000</td>\n",
              "      <td>45.100000</td>\n",
              "      <td>35.000000</td>\n",
              "      <td>41.000000</td>\n",
              "      <td>46.000000</td>\n",
              "      <td>44.000000</td>\n",
              "      <td>28.000000</td>\n",
              "    </tr>\n",
              "    <tr>\n",
              "      <th>25%</th>\n",
              "      <td>2016.0</td>\n",
              "      <td>3.000000</td>\n",
              "      <td>8.000000</td>\n",
              "      <td>54.000000</td>\n",
              "      <td>54.000000</td>\n",
              "      <td>49.975000</td>\n",
              "      <td>54.000000</td>\n",
              "      <td>48.000000</td>\n",
              "      <td>53.000000</td>\n",
              "      <td>50.000000</td>\n",
              "      <td>47.750000</td>\n",
              "    </tr>\n",
              "    <tr>\n",
              "      <th>50%</th>\n",
              "      <td>2016.0</td>\n",
              "      <td>6.000000</td>\n",
              "      <td>15.000000</td>\n",
              "      <td>62.500000</td>\n",
              "      <td>62.500000</td>\n",
              "      <td>58.200000</td>\n",
              "      <td>62.500000</td>\n",
              "      <td>56.000000</td>\n",
              "      <td>61.000000</td>\n",
              "      <td>58.000000</td>\n",
              "      <td>60.000000</td>\n",
              "    </tr>\n",
              "    <tr>\n",
              "      <th>75%</th>\n",
              "      <td>2016.0</td>\n",
              "      <td>10.000000</td>\n",
              "      <td>23.000000</td>\n",
              "      <td>71.000000</td>\n",
              "      <td>71.000000</td>\n",
              "      <td>69.025000</td>\n",
              "      <td>71.000000</td>\n",
              "      <td>66.000000</td>\n",
              "      <td>72.000000</td>\n",
              "      <td>69.000000</td>\n",
              "      <td>71.000000</td>\n",
              "    </tr>\n",
              "    <tr>\n",
              "      <th>max</th>\n",
              "      <td>2016.0</td>\n",
              "      <td>12.000000</td>\n",
              "      <td>31.000000</td>\n",
              "      <td>117.000000</td>\n",
              "      <td>117.000000</td>\n",
              "      <td>77.400000</td>\n",
              "      <td>92.000000</td>\n",
              "      <td>77.000000</td>\n",
              "      <td>82.000000</td>\n",
              "      <td>79.000000</td>\n",
              "      <td>95.000000</td>\n",
              "    </tr>\n",
              "  </tbody>\n",
              "</table>\n",
              "</div>"
            ],
            "text/plain": [
              "         year       month         day  ...  forecast_acc  forecast_under      friend\n",
              "count   348.0  348.000000  348.000000  ...    348.000000      348.000000  348.000000\n",
              "mean   2016.0    6.477011   15.514368  ...     62.373563       59.772989   60.034483\n",
              "std       0.0    3.498380    8.772982  ...     10.549381       10.705256   15.626179\n",
              "min    2016.0    1.000000    1.000000  ...     46.000000       44.000000   28.000000\n",
              "25%    2016.0    3.000000    8.000000  ...     53.000000       50.000000   47.750000\n",
              "50%    2016.0    6.000000   15.000000  ...     61.000000       58.000000   60.000000\n",
              "75%    2016.0   10.000000   23.000000  ...     72.000000       69.000000   71.000000\n",
              "max    2016.0   12.000000   31.000000  ...     82.000000       79.000000   95.000000\n",
              "\n",
              "[8 rows x 11 columns]"
            ]
          },
          "metadata": {},
          "execution_count": 5
        }
      ]
    },
    {
      "cell_type": "code",
      "metadata": {
        "id": "7TKcH5BCGL6F"
      },
      "source": [
        "# One-hot encode the data using pandas get_dummies\n",
        "features = pd.get_dummies(features)\n",
        "\n",
        "features.iloc[:, 5:].head()\n"
      ],
      "execution_count": null,
      "outputs": []
    },
    {
      "cell_type": "code",
      "metadata": {
        "colab": {
          "base_uri": "https://localhost:8080/"
        },
        "id": "ZgBzsS4bH2_8",
        "outputId": "742f7577-4647-4ecd-896e-313f12491f2d"
      },
      "source": [
        "features = features.drop(['forecast_noaa', 'forecast_acc', 'forecast_under'] , \n",
        "              axis = 1)\n",
        "\n",
        "print(features.shape)"
      ],
      "execution_count": 24,
      "outputs": [
        {
          "output_type": "stream",
          "name": "stdout",
          "text": [
            "(348, 15)\n"
          ]
        }
      ]
    },
    {
      "cell_type": "code",
      "metadata": {
        "id": "SZtd1Vo5IkaN"
      },
      "source": [
        "features.iloc[:, 5:].head()"
      ],
      "execution_count": null,
      "outputs": []
    },
    {
      "cell_type": "code",
      "metadata": {
        "id": "51jZwbkhIFU6"
      },
      "source": [
        "import numpy as np\n",
        "\n",
        "# Labels are the values we want to predict\n",
        "labels = np.array(features['actual'])\n",
        "\n",
        "features= features.drop('actual', axis = 1)\n",
        "\n",
        "# saving feature names for later use\n",
        "features_list = list(features.columns)\n",
        "\n",
        "# Convert pandas dataframe to numpy array\n",
        "features = np.array(features)"
      ],
      "execution_count": 25,
      "outputs": []
    },
    {
      "cell_type": "code",
      "metadata": {
        "id": "nXQ3fPM4JMjg"
      },
      "source": [
        "# Training and Testing Sets\n",
        "\n",
        "from sklearn.model_selection import train_test_split\n",
        "\n",
        "# Split data into training and testing sets\n",
        "train_features, test_features, train_labels, test_labels = train_test_split(features,\n",
        "                                                                            labels,\n",
        "                                                                            test_size = 0.25,\n",
        "                                                                            random_state = 42)"
      ],
      "execution_count": 26,
      "outputs": []
    },
    {
      "cell_type": "code",
      "metadata": {
        "colab": {
          "base_uri": "https://localhost:8080/"
        },
        "id": "bNnh3_dgJRP9",
        "outputId": "66bfb5ac-1b49-4473-fa45-8bede9578b1d"
      },
      "source": [
        "print('Training Features Shape:', train_features.shape)\n",
        "print('Training Labels Shape:', train_labels.shape)\n",
        "print('Testing Features Shape:', test_features.shape)\n",
        "print('Testing Labels Shape:', test_labels.shape)\n"
      ],
      "execution_count": 28,
      "outputs": [
        {
          "output_type": "stream",
          "name": "stdout",
          "text": [
            "Training Features Shape: (261, 14)\n",
            "Training Labels Shape: (261,)\n",
            "Testing Features Shape: (87, 14)\n",
            "Testing Labels Shape: (87,)\n"
          ]
        }
      ]
    },
    {
      "cell_type": "code",
      "metadata": {
        "colab": {
          "base_uri": "https://localhost:8080/"
        },
        "id": "rf8L6saTJash",
        "outputId": "f80c4fa8-010b-4370-a13e-4250521f491e"
      },
      "source": [
        "# The baseline predictions are the historical averages\n",
        "baseline_preds = test_features[:,\n",
        "                               features_list.index('average')]\n",
        "\n",
        "# baseline errors and display average baseline error\n",
        "baseline_errors = abs(baseline_preds - test_labels)\n",
        "\n",
        "print('average baseline error: ', round(np.mean(baseline_errors), 2))"
      ],
      "execution_count": 29,
      "outputs": [
        {
          "output_type": "stream",
          "name": "stdout",
          "text": [
            "average baseline error:  5.06\n"
          ]
        }
      ]
    },
    {
      "cell_type": "code",
      "metadata": {
        "colab": {
          "base_uri": "https://localhost:8080/"
        },
        "id": "-SabJmVsLB2m",
        "outputId": "494a78a2-a3a4-4789-abfb-321d3ad3b3af"
      },
      "source": [
        "# Traing the model with random forest model\n",
        "from sklearn.ensemble import RandomForestRegressor\n",
        "\n",
        "# Instantiate model with 1000 decision trees\n",
        "rf = RandomForestRegressor(n_estimators = 1000, random_state = 42)\n",
        "\n",
        "# Train the model on training data\n",
        "rf.fit(train_features, train_labels)"
      ],
      "execution_count": 30,
      "outputs": [
        {
          "output_type": "execute_result",
          "data": {
            "text/plain": [
              "RandomForestRegressor(bootstrap=True, ccp_alpha=0.0, criterion='mse',\n",
              "                      max_depth=None, max_features='auto', max_leaf_nodes=None,\n",
              "                      max_samples=None, min_impurity_decrease=0.0,\n",
              "                      min_impurity_split=None, min_samples_leaf=1,\n",
              "                      min_samples_split=2, min_weight_fraction_leaf=0.0,\n",
              "                      n_estimators=1000, n_jobs=None, oob_score=False,\n",
              "                      random_state=42, verbose=0, warm_start=False)"
            ]
          },
          "metadata": {},
          "execution_count": 30
        }
      ]
    },
    {
      "cell_type": "code",
      "metadata": {
        "colab": {
          "base_uri": "https://localhost:8080/"
        },
        "id": "TyWSD3WXLj1j",
        "outputId": "ddafac5c-7e10-4aca-d6f6-9e3a6953b80a"
      },
      "source": [
        "# Make predictions on the test set\n",
        "predictions = rf.predict(test_features)\n",
        "\n",
        "# Calculate the absolute error\n",
        "errors = abs(predictions - test_labels)\n",
        "\n",
        "# Print out the mean absolute error (mae)\n",
        "print('Mean Absolute Error of Random Forest Prediction: ', \n",
        "      round(np.mean(errors), 2), 'degrees')"
      ],
      "execution_count": 34,
      "outputs": [
        {
          "output_type": "stream",
          "name": "stdout",
          "text": [
            "Mean Absolute Error of Random Forest Prediction:  3.83 degrees\n"
          ]
        }
      ]
    },
    {
      "cell_type": "code",
      "metadata": {
        "colab": {
          "base_uri": "https://localhost:8080/"
        },
        "id": "uhm0pJmOMFZx",
        "outputId": "81921413-681e-4971-c805-526e9df4273d"
      },
      "source": [
        "# Determine Performance Metrics\n",
        "mape = 100 * (errors / test_labels)\n",
        "\n",
        "# Calculate and display accuracy\n",
        "accuracy = 100 - np.mean(mape)\n",
        "\n",
        "print('Accuracy: ', round(accuracy, 2), '%')"
      ],
      "execution_count": 35,
      "outputs": [
        {
          "output_type": "stream",
          "name": "stdout",
          "text": [
            "Accuracy:  93.98 %\n"
          ]
        }
      ]
    }
  ]
}