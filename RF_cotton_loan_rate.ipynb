{
  "nbformat": 4,
  "nbformat_minor": 0,
  "metadata": {
    "colab": {
      "name": "RF_cotton_yield.ipynb",
      "provenance": [],
      "collapsed_sections": [],
      "authorship_tag": "ABX9TyMTA94cbn71ljvHJiV+rfhM",
      "include_colab_link": true
    },
    "kernelspec": {
      "name": "python3",
      "display_name": "Python 3"
    },
    "language_info": {
      "name": "python"
    }
  },
  "cells": [
    {
      "cell_type": "markdown",
      "metadata": {
        "id": "view-in-github",
        "colab_type": "text"
      },
      "source": [
        "<a href=\"https://colab.research.google.com/github/hjn14133/Machine-Learning/blob/main/RF_cotton_loan_rate.ipynb\" target=\"_parent\"><img src=\"https://colab.research.google.com/assets/colab-badge.svg\" alt=\"Open In Colab\"/></a>"
      ]
    },
    {
      "cell_type": "code",
      "metadata": {
        "id": "UYZmW5N3JVEe"
      },
      "source": [
        "# Pandas is used for data manipulation\n",
        "import pandas as pd\n",
        "# Read in data and display first 5 rows\n",
        "df = pd.read_csv('FT_join_JH_cleaned.csv')"
      ],
      "execution_count": 3,
      "outputs": []
    },
    {
      "cell_type": "code",
      "metadata": {
        "id": "TDaoL9SsKgbJ",
        "colab": {
          "base_uri": "https://localhost:8080/"
        },
        "outputId": "32beec9e-b9e6-4224-cf28-91c473c1d1d6"
      },
      "source": [
        "# Load data set\n",
        "X = df[['DISTANCE', 'Heading','Elevation', 'AppliedRat']]\n",
        "\n",
        "y1 = df['Loan_Rat']\n",
        "\n",
        "print('The shape of our features is:', X.shape)"
      ],
      "execution_count": 4,
      "outputs": [
        {
          "output_type": "stream",
          "name": "stdout",
          "text": [
            "The shape of our features is: (12695, 4)\n"
          ]
        }
      ]
    },
    {
      "cell_type": "code",
      "metadata": {
        "id": "uY4wiWLELIGy",
        "colab": {
          "base_uri": "https://localhost:8080/",
          "height": 297
        },
        "outputId": "3dd37150-ccf7-4552-ea7e-1b34b9ffb5e3"
      },
      "source": [
        "# Descriptive statistics for each column\n",
        "X.describe()"
      ],
      "execution_count": 5,
      "outputs": [
        {
          "output_type": "execute_result",
          "data": {
            "text/html": [
              "<div>\n",
              "<style scoped>\n",
              "    .dataframe tbody tr th:only-of-type {\n",
              "        vertical-align: middle;\n",
              "    }\n",
              "\n",
              "    .dataframe tbody tr th {\n",
              "        vertical-align: top;\n",
              "    }\n",
              "\n",
              "    .dataframe thead th {\n",
              "        text-align: right;\n",
              "    }\n",
              "</style>\n",
              "<table border=\"1\" class=\"dataframe\">\n",
              "  <thead>\n",
              "    <tr style=\"text-align: right;\">\n",
              "      <th></th>\n",
              "      <th>DISTANCE</th>\n",
              "      <th>Heading</th>\n",
              "      <th>Elevation</th>\n",
              "      <th>AppliedRat</th>\n",
              "    </tr>\n",
              "  </thead>\n",
              "  <tbody>\n",
              "    <tr>\n",
              "      <th>count</th>\n",
              "      <td>12695.000000</td>\n",
              "      <td>12695.000000</td>\n",
              "      <td>12695.000000</td>\n",
              "      <td>12695.000000</td>\n",
              "    </tr>\n",
              "    <tr>\n",
              "      <th>mean</th>\n",
              "      <td>7.771627</td>\n",
              "      <td>142.518911</td>\n",
              "      <td>165.487678</td>\n",
              "      <td>26262.416660</td>\n",
              "    </tr>\n",
              "    <tr>\n",
              "      <th>std</th>\n",
              "      <td>0.497228</td>\n",
              "      <td>121.577647</td>\n",
              "      <td>1.831247</td>\n",
              "      <td>4487.031551</td>\n",
              "    </tr>\n",
              "    <tr>\n",
              "      <th>min</th>\n",
              "      <td>0.066516</td>\n",
              "      <td>-0.004375</td>\n",
              "      <td>160.791272</td>\n",
              "      <td>0.000000</td>\n",
              "    </tr>\n",
              "    <tr>\n",
              "      <th>25%</th>\n",
              "      <td>7.776091</td>\n",
              "      <td>0.823281</td>\n",
              "      <td>164.157093</td>\n",
              "      <td>22795.942230</td>\n",
              "    </tr>\n",
              "    <tr>\n",
              "      <th>50%</th>\n",
              "      <td>7.824858</td>\n",
              "      <td>179.987782</td>\n",
              "      <td>165.552706</td>\n",
              "      <td>25596.366870</td>\n",
              "    </tr>\n",
              "    <tr>\n",
              "      <th>75%</th>\n",
              "      <td>7.857666</td>\n",
              "      <td>180.724828</td>\n",
              "      <td>166.855123</td>\n",
              "      <td>30788.483660</td>\n",
              "    </tr>\n",
              "    <tr>\n",
              "      <th>max</th>\n",
              "      <td>15.533150</td>\n",
              "      <td>359.996219</td>\n",
              "      <td>169.586704</td>\n",
              "      <td>76489.633240</td>\n",
              "    </tr>\n",
              "  </tbody>\n",
              "</table>\n",
              "</div>"
            ],
            "text/plain": [
              "           DISTANCE       Heading     Elevation    AppliedRat\n",
              "count  12695.000000  12695.000000  12695.000000  12695.000000\n",
              "mean       7.771627    142.518911    165.487678  26262.416660\n",
              "std        0.497228    121.577647      1.831247   4487.031551\n",
              "min        0.066516     -0.004375    160.791272      0.000000\n",
              "25%        7.776091      0.823281    164.157093  22795.942230\n",
              "50%        7.824858    179.987782    165.552706  25596.366870\n",
              "75%        7.857666    180.724828    166.855123  30788.483660\n",
              "max       15.533150    359.996219    169.586704  76489.633240"
            ]
          },
          "metadata": {},
          "execution_count": 5
        }
      ]
    },
    {
      "cell_type": "code",
      "metadata": {
        "id": "a0xqSnPHLTTL"
      },
      "source": [
        "# Using Skicit-learn to split data into training and testing sets\n",
        "from sklearn.model_selection import train_test_split\n",
        "# Split the data into training and testing sets\n",
        "train_x, test_x, train_y1, test_y1 = train_test_split(X, y1, test_size = 0.2,\n",
        "                                                      random_state = 42)"
      ],
      "execution_count": 6,
      "outputs": []
    },
    {
      "cell_type": "code",
      "metadata": {
        "id": "-nvELUbxLoq0"
      },
      "source": [
        "# Import the model we are using\n",
        "from sklearn.ensemble import RandomForestRegressor\n",
        "# Instantiate model with 1000 decision trees\n",
        "rf = RandomForestRegressor(n_estimators = 1000, random_state = 42)\n",
        "# Train the model on training data\n",
        "rf.fit(train_x, train_y1);"
      ],
      "execution_count": 7,
      "outputs": []
    },
    {
      "cell_type": "code",
      "metadata": {
        "id": "Z__-_aVxGAw9",
        "colab": {
          "base_uri": "https://localhost:8080/"
        },
        "outputId": "3f1cab11-281d-4e68-e040-6965de73c8b5"
      },
      "source": [
        "print('Training Coefficient of R^2 : %.3f'%rf.score(train_x, train_y1))\n",
        "print('Test Coefficient of R^2 : %.3f'%rf.score(test_x, test_y1))"
      ],
      "execution_count": 8,
      "outputs": [
        {
          "output_type": "stream",
          "name": "stdout",
          "text": [
            "Training Coefficient of R^2 : 0.925\n",
            "Test Coefficient of R^2 : 0.449\n"
          ]
        }
      ]
    },
    {
      "cell_type": "code",
      "metadata": {
        "id": "RRVETkNnLzPc",
        "colab": {
          "base_uri": "https://localhost:8080/"
        },
        "outputId": "cf8b8c8d-9a73-4c27-d354-679f164214e4"
      },
      "source": [
        "import numpy as np\n",
        "# Use the forest's predict method on the test data\n",
        "predictions = rf.predict(test_x)\n",
        "# Calculate the absolute errors\n",
        "errors = abs(predictions - test_y1)\n",
        "# Print out the mean absolute error (mae)\n",
        "print('Mean Absolute Error:', round(np.mean(errors), 2), '.')"
      ],
      "execution_count": 9,
      "outputs": [
        {
          "output_type": "stream",
          "name": "stdout",
          "text": [
            "Mean Absolute Error: 0.15 .\n"
          ]
        }
      ]
    },
    {
      "cell_type": "code",
      "metadata": {
        "id": "isouLtOZMATw",
        "colab": {
          "base_uri": "https://localhost:8080/"
        },
        "outputId": "43d88097-02a0-4633-c887-5a6c5960b2ae"
      },
      "source": [
        "# Calculate mean absolute percentage error (MAPE)\n",
        "mape = 100 * (errors / test_y1)\n",
        "# Calculate and display accuracy\n",
        "accuracy = 100 - np.mean(mape)\n",
        "print('Accuracy:', round(accuracy, 2), '%.')"
      ],
      "execution_count": 10,
      "outputs": [
        {
          "output_type": "stream",
          "name": "stdout",
          "text": [
            "Accuracy: 99.72 %.\n"
          ]
        }
      ]
    },
    {
      "cell_type": "code",
      "metadata": {
        "id": "-N3VztgPMHCS",
        "colab": {
          "base_uri": "https://localhost:8080/"
        },
        "outputId": "e014be63-b91e-4867-8519-9325665291ce"
      },
      "source": [
        "# Get numerical feature importances\n",
        "importances = list(rf.feature_importances_)\n",
        "feature_list = list(X.columns)\n",
        "# List of tuples with variable and importance\n",
        "feature_importances = [(feature, round(importance, 2)) for feature, importance in zip(feature_list, importances)]\n",
        "# Sort the feature importances by most important first\n",
        "feature_importances = sorted(feature_importances, key = lambda x: x[1], reverse = True)\n",
        "# Print out the feature and importances \n",
        "[print('Variable: {:20} Importance: {}'.format(*pair)) for pair in feature_importances];"
      ],
      "execution_count": 11,
      "outputs": [
        {
          "output_type": "stream",
          "name": "stdout",
          "text": [
            "Variable: DISTANCE             Importance: 0.38\n",
            "Variable: AppliedRat           Importance: 0.22\n",
            "Variable: Elevation            Importance: 0.21\n",
            "Variable: Heading              Importance: 0.19\n"
          ]
        }
      ]
    },
    {
      "cell_type": "code",
      "metadata": {
        "id": "m5viLmaPMjPz",
        "colab": {
          "base_uri": "https://localhost:8080/",
          "height": 387
        },
        "outputId": "c71c6d44-6db1-4159-c335-05602cf040f0"
      },
      "source": [
        "# Import matplotlib for plotting and use magic command for Jupyter Notebooks\n",
        "import matplotlib.pyplot as plt\n",
        "%matplotlib inline\n",
        "# Set the style\n",
        "plt.style.use('fivethirtyeight')\n",
        "# list of x locations for plotting\n",
        "x_values = list(range(len(importances)))\n",
        "# Make a bar chart\n",
        "plt.bar(x_values, importances, orientation = 'vertical')\n",
        "# Tick labels for x axis\n",
        "plt.xticks(x_values, feature_list, rotation='vertical')\n",
        "# Axis labels and title\n",
        "plt.ylabel('Importance'); plt.xlabel('Variable'); plt.title('Variable Importances');"
      ],
      "execution_count": 12,
      "outputs": [
        {
          "output_type": "display_data",
          "data": {
            "image/png": "[encoded data removed]",
            "text/plain": [
              "<Figure size 432x288 with 1 Axes>"
            ]
          },
          "metadata": {}
        }
      ]
    },
    {
      "cell_type": "code",
      "metadata": {
        "id": "pYKDS2k8NyLW",
        "colab": {
          "base_uri": "https://localhost:8080/",
          "height": 669
        },
        "outputId": "236dac05-b98e-4249-e972-310dcc92a239"
      },
      "source": [
        "# Plot actual data and predictions \n",
        "\n",
        "plt.figure(figsize=(10,10))\n",
        "plt.scatter(predictions, (test_y1-predictions), c='crimson')\n",
        "\n",
        "#plt.plot([p1, p2], [p1, p2], 'b-')\n",
        "plt.title('Cotton Loan Rate Random Forest Prediction vs Residuals', fontsize=15)\n",
        "plt.xlabel('Cotton Loan Rate Random Forest Prediction', fontsize=15)\n",
        "plt.ylabel('Residues', fontsize=15)\n",
        "plt.show()"
      ],
      "execution_count": 13,
      "outputs": [
        {
          "output_type": "display_data",
          "data": {
            "image/png": "[encoded data removed]",
            "text/plain": [
              "<Figure size 720x720 with 1 Axes>"
            ]
          },
          "metadata": {}
        }
      ]
    },
    {
      "cell_type": "code",
      "metadata": {
        "id": "0uaSXGg3SxyQ",
        "colab": {
          "base_uri": "https://localhost:8080/"
        },
        "outputId": "de696727-6b8d-4d58-e508-57bb6af0e826"
      },
      "source": [
        "import numpy as np\n",
        "from sklearn.ensemble import RandomForestRegressor\n",
        "from pprint import pprint\n",
        "# Look at parameters used by our current forest\n",
        "print('Parameters currently in use:\\n')\n",
        "pprint(rf.get_params())"
      ],
      "execution_count": 14,
      "outputs": [
        {
          "output_type": "stream",
          "name": "stdout",
          "text": [
            "Parameters currently in use:\n",
            "\n",
            "{'bootstrap': True,\n",
            " 'ccp_alpha': 0.0,\n",
            " 'criterion': 'mse',\n",
            " 'max_depth': None,\n",
            " 'max_features': 'auto',\n",
            " 'max_leaf_nodes': None,\n",
            " 'max_samples': None,\n",
            " 'min_impurity_decrease': 0.0,\n",
            " 'min_impurity_split': None,\n",
            " 'min_samples_leaf': 1,\n",
            " 'min_samples_split': 2,\n",
            " 'min_weight_fraction_leaf': 0.0,\n",
            " 'n_estimators': 1000,\n",
            " 'n_jobs': None,\n",
            " 'oob_score': False,\n",
            " 'random_state': 42,\n",
            " 'verbose': 0,\n",
            " 'warm_start': False}\n"
          ]
        }
      ]
    },
    {
      "cell_type": "code",
      "metadata": {
        "id": "M75TLxTES4jp",
        "colab": {
          "base_uri": "https://localhost:8080/"
        },
        "outputId": "2ed5b919-7ec4-4846-94e3-a875d9934ddb"
      },
      "source": [
        "from sklearn.model_selection import RandomizedSearchCV\n",
        "# Number of trees in random forest\n",
        "n_estimators = [int(x) for x in np.linspace(start = 200, stop = 2000, num = 10)]\n",
        "# Number of features to consider at every split\n",
        "max_features = ['auto', 'sqrt']\n",
        "# Maximum number of levels in tree\n",
        "max_depth = [int(x) for x in np.linspace(10, 110, num = 11)]\n",
        "max_depth.append(None)\n",
        "# Minimum number of samples required to split a node\n",
        "min_samples_split = [2, 5, 10]\n",
        "# Minimum number of samples required at each leaf node\n",
        "min_samples_leaf = [1, 2, 4]\n",
        "# Method of selecting samples for training each tree\n",
        "bootstrap = [True, False]\n",
        "# Create the random grid\n",
        "random_grid = {'n_estimators': n_estimators,\n",
        "               'max_features': max_features,\n",
        "               'max_depth': max_depth,\n",
        "               'min_samples_split': min_samples_split,\n",
        "               'min_samples_leaf': min_samples_leaf,\n",
        "               'bootstrap': bootstrap}\n",
        "pprint(random_grid)"
      ],
      "execution_count": 15,
      "outputs": [
        {
          "output_type": "stream",
          "name": "stdout",
          "text": [
            "{'bootstrap': [True, False],\n",
            " 'max_depth': [10, 20, 30, 40, 50, 60, 70, 80, 90, 100, 110, None],\n",
            " 'max_features': ['auto', 'sqrt'],\n",
            " 'min_samples_leaf': [1, 2, 4],\n",
            " 'min_samples_split': [2, 5, 10],\n",
            " 'n_estimators': [200, 400, 600, 800, 1000, 1200, 1400, 1600, 1800, 2000]}\n"
          ]
        }
      ]
    },
    {
      "cell_type": "code",
      "metadata": {
        "id": "CZ9FvcR6TAFJ",
        "colab": {
          "base_uri": "https://localhost:8080/"
        },
        "outputId": "b634fee4-3c02-4717-a58c-2f0f712ddd34"
      },
      "source": [
        "# Use the random grid to search for best hyperparameters\n",
        "# First create the base model to tune\n",
        "# TOOK 1h 10mins to tune the model \n",
        "rf = RandomForestRegressor()\n",
        "# Random search of parameters, using 3 fold cross validation, \n",
        "# search across 100 different combinations, and use all available cores\n",
        "rf_random = RandomizedSearchCV(estimator = rf, param_distributions = random_grid, \n",
        "                               n_iter = 100, cv = 3, verbose=0, random_state=42, \n",
        "                               n_jobs = None)\n",
        "# Fit the random search model\n",
        "rf_random.fit(train_x, train_y1)\n",
        "rf_random.best_params_"
      ],
      "execution_count": 16,
      "outputs": [
        {
          "data": {
            "text/plain": [
              "{'bootstrap': True,\n",
              " 'max_depth': 100,\n",
              " 'max_features': 'auto',\n",
              " 'min_samples_leaf': 4,\n",
              " 'min_samples_split': 5,\n",
              " 'n_estimators': 1000}"
            ]
          },
          "execution_count": null,
          "metadata": {},
          "output_type": "execute_result"
        }
      ]
    },
    {
      "cell_type": "code",
      "metadata": {
        "id": "bvFPNHtyTNn9",
        "colab": {
          "base_uri": "https://localhost:8080/"
        },
        "outputId": "affd3ed8-e284-47ab-eeeb-dcb5dfd635cf"
      },
      "source": [
        "rf_random.best_params_"
      ],
      "execution_count": 17,
      "outputs": [
        {
          "data": {
            "text/plain": [
              "{'bootstrap': True,\n",
              " 'max_depth': 100,\n",
              " 'max_features': 'auto',\n",
              " 'min_samples_leaf': 4,\n",
              " 'min_samples_split': 5,\n",
              " 'n_estimators': 1000}"
            ]
          },
          "execution_count": null,
          "metadata": {},
          "output_type": "execute_result"
        }
      ]
    },
    {
      "cell_type": "code",
      "metadata": {
        "colab": {
          "base_uri": "https://localhost:8080/"
        },
        "id": "FN0_4oNVCAxD",
        "outputId": "efcd9b69-129d-4625-8a73-1ad2d567f8ba"
      },
      "source": [
        "def evaluate(model, test_features, test_labels):\n",
        "    predictions = model.predict(test_features)\n",
        "    errors = abs(predictions - test_labels)\n",
        "    mape = 100 * np.mean(errors / test_labels)\n",
        "    accuracy = 100 - mape\n",
        "    print('Model Performance')\n",
        "    print('Average Error: {:0.4f}.'.format(np.mean(errors)))\n",
        "    print('Accuracy = {:0.2f}%.'.format(accuracy))\n",
        "    \n",
        "    return accuracy\n",
        "base_model = RandomForestRegressor(n_estimators = 1000, random_state = 42)\n",
        "base_model.fit(train_x, train_y1)\n",
        "base_accuracy = evaluate(base_model, test_x, test_y1)"
      ],
      "execution_count": 18,
      "outputs": [
        {
          "metadata": {
            "tags": null
          },
          "name": "stdout",
          "output_type": "stream",
          "text": [
            "Model Performance\n",
            "Average Error: 0.1541.\n",
            "Accuracy = 99.72%.\n"
          ]
        }
      ]
    },
    {
      "cell_type": "code",
      "metadata": {
        "colab": {
          "base_uri": "https://localhost:8080/"
        },
        "id": "LW5mGdNDCELG",
        "outputId": "1907516b-4fc6-4d1e-a4c9-c53236f4bd2d"
      },
      "source": [
        "best_random = rf_random.best_estimator_\n",
        "random_accuracy = evaluate(best_random, test_x, test_y1)\n",
        "\n",
        "print('Training Coefficient of R^2 : %.3f'%best_random.score(train_x, train_y1))\n",
        "print('Test Coefficient of R^2 : %.3f'%best_random.score(test_x, test_y1))"
      ],
      "execution_count": 19,
      "outputs": [
        {
          "metadata": {
            "tags": null
          },
          "name": "stdout",
          "output_type": "stream",
          "text": [
            "Model Performance\n",
            "Average Error: 0.1585.\n",
            "Accuracy = 99.72%.\n",
            "Training Coefficient of R^2 : 0.755\n",
            "Test Coefficient of R^2 : 0.446\n"
          ]
        }
      ]
    },
    {
      "cell_type": "code",
      "metadata": {
        "colab": {
          "base_uri": "https://localhost:8080/"
        },
        "id": "iUkGSj06CGHJ",
        "outputId": "4912e3d8-9644-42a8-e1e2-f7701f6d5d07"
      },
      "source": [
        "print('Improvement of {:0.2f}%.'.format( 100 * (random_accuracy - base_accuracy) / base_accuracy))"
      ],
      "execution_count": 20,
      "outputs": [
        {
          "metadata": {
            "tags": null
          },
          "name": "stdout",
          "output_type": "stream",
          "text": [
            "Improvement of -0.01%.\n"
          ]
        }
      ]
    },
    {
      "cell_type": "code",
      "metadata": {
        "id": "9bD5RsKJCePj"
      },
      "source": [
        "from sklearn.model_selection import GridSearchCV\n",
        "# Create the parameter grid based on the results of random search \n",
        "param_grid = {\n",
        "    'bootstrap': [True],\n",
        "    'max_depth': [80, 90, 100, 110, None],\n",
        "    'max_features': ['sqrt','log2', 'auto', None],\n",
        "    'min_samples_leaf': [1,2, 3],\n",
        "    'min_samples_split': [1, 2, 3],\n",
        "    'n_estimators': [1000, 1500, 2000]\n",
        "}\n",
        "# Create a based model\n",
        "rf = RandomForestRegressor()\n",
        "# Instantiate the grid search model\n",
        "grid_search = GridSearchCV(estimator = rf, param_grid = param_grid, \n",
        "                          cv = 3, n_jobs = -1, verbose = 2)"
      ],
      "execution_count": 21,
      "outputs": []
    },
    {
      "cell_type": "code",
      "metadata": {
        "colab": {
          "base_uri": "https://localhost:8080/"
        },
        "id": "ZgaMso5ICrji",
        "outputId": "abc411e3-095a-4209-b16f-4570883cfc56"
      },
      "source": [
        "# Fit the grid search to the data\n",
        "grid_search.fit(train_x, train_y1)\n",
        "grid_search.best_params_"
      ],
      "execution_count": null,
      "outputs": [
        {
          "metadata": {
            "tags": null
          },
          "name": "stdout",
          "output_type": "stream",
          "text": [
            "Fitting 3 folds for each of 540 candidates, totalling 1620 fits\n"
          ]
        },
        {
          "output_type": "stream",
          "name": "stderr",
          "text": [
            "[Parallel(n_jobs=-1)]: Using backend LokyBackend with 2 concurrent workers.\n",
            "/usr/local/lib/python3.7/dist-packages/joblib/externals/loky/process_executor.py:691: UserWarning: A worker stopped while some jobs were given to the executor. This can be caused by a too short worker timeout or by a memory leak.\n",
            "  \"timeout or by a memory leak.\", UserWarning\n",
            "[Parallel(n_jobs=-1)]: Done  37 tasks      | elapsed:  5.2min\n",
            "[Parallel(n_jobs=-1)]: Done 158 tasks      | elapsed: 26.4min\n"
          ]
        }
      ]
    }
  ]
}