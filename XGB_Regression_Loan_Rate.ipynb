{
  "nbformat": 4,
  "nbformat_minor": 0,
  "metadata": {
    "colab": {
      "name": "XGB_Regression_Yield.ipynb",
      "provenance": [],
      "authorship_tag": "ABX9TyNgeCaCGCBThoM6ecYt/ZKN",
      "include_colab_link": true
    },
    "kernelspec": {
      "name": "python3",
      "display_name": "Python 3"
    },
    "language_info": {
      "name": "python"
    }
  },
  "cells": [
    {
      "cell_type": "markdown",
      "metadata": {
        "id": "view-in-github",
        "colab_type": "text"
      },
      "source": [
        "<a href=\"https://colab.research.google.com/github/hjn14133/Machine-Learning/blob/main/XGB_Regression_Loan_Rate.ipynb\" target=\"_parent\"><img src=\"https://colab.research.google.com/assets/colab-badge.svg\" alt=\"Open In Colab\"/></a>"
      ]
    },
    {
      "cell_type": "code",
      "metadata": {
        "id": "uJB0f0n_4_uR"
      },
      "source": [
        "import numpy as np # linear algebra\n",
        "import pandas as pd # data processing, CSV file I/O (e.g. pd.read_csv)\n",
        "import sklearn\n",
        "\n",
        "from sklearn import preprocessing\n",
        "import xgboost as xgb\n",
        "from sklearn.model_selection import GridSearchCV\n",
        "from sklearn import linear_model\n",
        "from sklearn.model_selection import train_test_split\n",
        "from xgboost.sklearn import XGBRegressor\n",
        "from sklearn.metrics import mean_squared_error\n",
        "import seaborn as sns\n",
        "from sklearn.tree import DecisionTreeRegressor\n",
        "from sklearn.feature_selection import RFE\n",
        "from math import log\n",
        "import matplotlib\n",
        "import matplotlib.pyplot as plt"
      ],
      "execution_count": 1,
      "outputs": []
    },
    {
      "cell_type": "code",
      "metadata": {
        "id": "TSNQ_jh56XCB"
      },
      "source": [
        "df = pd.read_csv(\"FT_join_JH_cleaned.csv\")\n"
      ],
      "execution_count": 2,
      "outputs": []
    },
    {
      "cell_type": "code",
      "metadata": {
        "id": "SZdVksZY6fSo"
      },
      "source": [
        "X = df[['DISTANCE', 'Heading','Elevation', 'AppliedRat']]\n",
        "# y = df['VRYIELDBAL']\n",
        "\n",
        "y = df['Loan_Rat']"
      ],
      "execution_count": 3,
      "outputs": []
    },
    {
      "cell_type": "code",
      "metadata": {
        "id": "bdGbRBFHbs4D"
      },
      "source": [
        "# Perform data splitting using 80/20 ratio\n",
        "X_train, X_test, Y_train, Y_test = train_test_split(X, y, test_size=0.2)"
      ],
      "execution_count": 4,
      "outputs": []
    },
    {
      "cell_type": "code",
      "metadata": {
        "colab": {
          "base_uri": "https://localhost:8080/"
        },
        "id": "FRwGPw2oLvNn",
        "outputId": "1570482a-d63f-446d-f37d-534802e6163f"
      },
      "source": [
        "xgb = XGBRegressor(random_state=1)\n",
        "xgb.fit(X_train, Y_train)\n",
        "Y_preds = xgb.predict(X_test)\n",
        "\n",
        "print('Training Coefficient of R^2 : %.3f'%xgb.score(X_train, Y_train))\n",
        "print('Test Coefficient of R^2 : %.3f'%xgb.score(X_test, Y_test))\n",
        "\n",
        "xgb.get_params()"
      ],
      "execution_count": 5,
      "outputs": [
        {
          "output_type": "stream",
          "name": "stdout",
          "text": [
            "[23:38:47] WARNING: /workspace/src/objective/regression_obj.cu:152: reg:linear is now deprecated in favor of reg:squarederror.\n",
            "Training Coefficient of R^2 : 0.347\n",
            "Test Coefficient of R^2 : 0.340\n"
          ]
        },
        {
          "output_type": "execute_result",
          "data": {
            "text/plain": [
              "{'base_score': 0.5,\n",
              " 'booster': 'gbtree',\n",
              " 'colsample_bylevel': 1,\n",
              " 'colsample_bynode': 1,\n",
              " 'colsample_bytree': 1,\n",
              " 'gamma': 0,\n",
              " 'importance_type': 'gain',\n",
              " 'learning_rate': 0.1,\n",
              " 'max_delta_step': 0,\n",
              " 'max_depth': 3,\n",
              " 'min_child_weight': 1,\n",
              " 'missing': None,\n",
              " 'n_estimators': 100,\n",
              " 'n_jobs': 1,\n",
              " 'nthread': None,\n",
              " 'objective': 'reg:linear',\n",
              " 'random_state': 1,\n",
              " 'reg_alpha': 0,\n",
              " 'reg_lambda': 1,\n",
              " 'scale_pos_weight': 1,\n",
              " 'seed': None,\n",
              " 'silent': None,\n",
              " 'subsample': 1,\n",
              " 'verbosity': 1}"
            ]
          },
          "metadata": {},
          "execution_count": 5
        }
      ]
    },
    {
      "cell_type": "code",
      "metadata": {
        "colab": {
          "base_uri": "https://localhost:8080/"
        },
        "id": "lfIoe5cbNGpB",
        "outputId": "0441f412-ed0f-4f28-aea2-8b7159d40940"
      },
      "source": [
        "# Calculate the absolute errors\n",
        "errors = abs(Y_preds - Y_test)\n",
        "# Print out the mean absolute error (mae)\n",
        "print('Mean Absolute Error:', round(np.mean(errors), 2), '.')\n",
        "\n",
        "\n",
        "# Calculate mean absolute percentage error (MAPE)\n",
        "mape = 100 * (errors / Y_test)\n",
        "# Calculate and display accuracy\n",
        "accuracy = 100 - np.mean(mape)\n",
        "print('Accuracy:', round(accuracy, 2), '%.')"
      ],
      "execution_count": 6,
      "outputs": [
        {
          "output_type": "stream",
          "name": "stdout",
          "text": [
            "Mean Absolute Error: 0.18 .\n",
            "Accuracy: 99.68 %.\n"
          ]
        }
      ]
    },
    {
      "cell_type": "code",
      "metadata": {
        "colab": {
          "base_uri": "https://localhost:8080/"
        },
        "id": "MX6p59fQMjdJ",
        "outputId": "35d31ec9-4e6d-465b-991e-d78ba1b8ae99"
      },
      "source": [
        "# Get numerical feature importances\n",
        "importances = list(xgb.feature_importances_)\n",
        "feature_list = list(X.columns)\n",
        "# List of tuples with variable and importance\n",
        "feature_importances = [(feature, round(importance, 2)) for feature, importance in zip(feature_list, importances)]\n",
        "# Sort the feature importances by most important first\n",
        "feature_importances = sorted(feature_importances, key = lambda x: x[1], reverse = True)\n",
        "# Print out the feature and importances \n",
        "[print('Variable: {:20} Importance: {}'.format(*pair)) for pair in feature_importances];"
      ],
      "execution_count": 7,
      "outputs": [
        {
          "output_type": "stream",
          "name": "stdout",
          "text": [
            "Variable: DISTANCE             Importance: 0.5199999809265137\n",
            "Variable: Elevation            Importance: 0.23999999463558197\n",
            "Variable: AppliedRat           Importance: 0.15000000596046448\n",
            "Variable: Heading              Importance: 0.09000000357627869\n"
          ]
        }
      ]
    },
    {
      "cell_type": "code",
      "metadata": {
        "colab": {
          "base_uri": "https://localhost:8080/",
          "height": 387
        },
        "id": "6hVx6x7DM5pW",
        "outputId": "4197008f-b604-435e-e957-633f85d3835a"
      },
      "source": [
        "# Import matplotlib for plotting and use magic command for Jupyter Notebooks\n",
        "import matplotlib.pyplot as plt\n",
        "%matplotlib inline\n",
        "# Set the style\n",
        "plt.style.use('fivethirtyeight')\n",
        "# list of x locations for plotting\n",
        "x_values = list(range(len(importances)))\n",
        "# Make a bar chart\n",
        "plt.bar(x_values, importances, orientation = 'vertical')\n",
        "# Tick labels for x axis\n",
        "plt.xticks(x_values, feature_list, rotation='vertical')\n",
        "# Axis labels and title\n",
        "plt.ylabel('Importance'); plt.xlabel('Variable'); plt.title('Variable Importances');"
      ],
      "execution_count": 8,
      "outputs": [
        {
          "output_type": "display_data",
          "data": {
            "image/png": "[encoded data removed]",
            "text/plain": [
              "<Figure size 432x288 with 1 Axes>"
            ]
          },
          "metadata": {}
        }
      ]
    },
    {
      "cell_type": "code",
      "metadata": {
        "colab": {
          "base_uri": "https://localhost:8080/"
        },
        "id": "ARZmQOXdb2Rh",
        "outputId": "eaf926e9-8ffc-4754-db40-bc9961768d30"
      },
      "source": [
        "# Various hyper-parameters to tune\n",
        "xgb1 = XGBRegressor()\n",
        "parameters = {'nthread':[1], #when use hyperthread, xgboost may become slower\n",
        "              'booster':['gbtree'],\n",
        "              'objective':['reg:linear'],\n",
        "              'learning_rate': [0.05, 0.1,0.2, 0.3], #so called `eta` value [0.01-0.2]\n",
        "              'max_depth': [3, 4, 5, 6], #6, [3, 10]\n",
        "              #'min_child_weight': [1, 2, 3], #1, too high-under-fitting\n",
        "              #'silent': [0, 1],\n",
        "              #'subsample': [0.5, 0.75, 1],\n",
        "              #'colsample_bytree': [0.5, 0.7, 1],\n",
        "              'n_estimators': [300, 500, 1000]}\n",
        "\n",
        "xgb_grid = GridSearchCV(xgb1,\n",
        "                        parameters,\n",
        "                        cv = 2,\n",
        "                        n_jobs = 5,\n",
        "                        verbose=True)\n",
        "\n",
        "xgb_grid.fit(X_train, Y_train)\n",
        "\n",
        "print('Train R^2 Score : %.3f'%xgb_grid.best_estimator_.score(X_train, Y_train))\n",
        "print('Test R^2 Score : %.3f'%xgb_grid.best_estimator_.score(X_test, Y_test))\n",
        "print('Best R^2 Score Through Grid Search : %.3f'%xgb_grid.best_score_)\n",
        "print('Best Parameters : ',xgb_grid.best_params_)\n",
        "\n",
        "print(xgb_grid.best_score_)\n",
        "print(xgb_grid.best_params_)"
      ],
      "execution_count": 9,
      "outputs": [
        {
          "output_type": "stream",
          "name": "stdout",
          "text": [
            "Fitting 2 folds for each of 48 candidates, totalling 96 fits\n"
          ]
        },
        {
          "output_type": "stream",
          "name": "stderr",
          "text": [
            "[Parallel(n_jobs=5)]: Using backend LokyBackend with 5 concurrent workers.\n",
            "[Parallel(n_jobs=5)]: Done  40 tasks      | elapsed:   59.3s\n",
            "[Parallel(n_jobs=5)]: Done  96 out of  96 | elapsed:  2.5min finished\n"
          ]
        },
        {
          "output_type": "stream",
          "name": "stdout",
          "text": [
            "[23:41:19] WARNING: /workspace/src/objective/regression_obj.cu:152: reg:linear is now deprecated in favor of reg:squarederror.\n",
            "Train R^2 Score : 0.644\n",
            "Test R^2 Score : 0.466\n",
            "Best R^2 Score Through Grid Search : 0.410\n",
            "Best Parameters :  {'booster': 'gbtree', 'learning_rate': 0.05, 'max_depth': 6, 'n_estimators': 500, 'nthread': 1, 'objective': 'reg:linear'}\n",
            "0.41008000909373993\n",
            "{'booster': 'gbtree', 'learning_rate': 0.05, 'max_depth': 6, 'n_estimators': 500, 'nthread': 1, 'objective': 'reg:linear'}\n"
          ]
        }
      ]
    },
    {
      "cell_type": "code",
      "metadata": {
        "colab": {
          "base_uri": "https://localhost:8080/"
        },
        "id": "HVCh2oicNZpe",
        "outputId": "652e3668-5490-4ff8-fefd-a1aa568bbd75"
      },
      "source": [
        "Y_preds_grid = xgb_grid.predict(X_test)\n",
        "# Calculate the absolute errors\n",
        "error_grid = abs(Y_preds_grid - Y_test)\n",
        "# Print out the mean absolute error (mae)\n",
        "print('Mean Absolute Error:', round(np.mean(error_grid), 2), '.')\n",
        "\n",
        "\n",
        "# Calculate mean absolute percentage error (MAPE)\n",
        "mape_grid = 100 * (error_grid / Y_test)\n",
        "# Calculate and display accuracy\n",
        "accuracy_grid = 100 - np.mean(mape_grid)\n",
        "print('Accuracy:', round(accuracy_grid, 2), '%.')"
      ],
      "execution_count": 10,
      "outputs": [
        {
          "output_type": "stream",
          "name": "stdout",
          "text": [
            "Mean Absolute Error: 0.16 .\n",
            "Accuracy: 99.72 %.\n"
          ]
        }
      ]
    },
    {
      "cell_type": "code",
      "metadata": {
        "colab": {
          "base_uri": "https://localhost:8080/"
        },
        "id": "l3PqxRvLN9Qa",
        "outputId": "5483c9ac-dd21-47b6-f126-1266e077ae0d"
      },
      "source": [
        "\n",
        "print('Improvement of {:0.2f}%.'.format( 100 * (accuracy_grid - accuracy) / accuracy))"
      ],
      "execution_count": 11,
      "outputs": [
        {
          "output_type": "stream",
          "name": "stdout",
          "text": [
            "Improvement of 0.04%.\n"
          ]
        }
      ]
    }
  ]
}