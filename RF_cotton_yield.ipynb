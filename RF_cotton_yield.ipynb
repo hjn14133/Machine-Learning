{
  "nbformat": 4,
  "nbformat_minor": 0,
  "metadata": {
    "colab": {
      "name": "RF_cotton_yield.ipynb",
      "provenance": [],
      "authorship_tag": "ABX9TyPsBGHIFbX9yNJT9g8JF59m",
      "include_colab_link": true
    },
    "kernelspec": {
      "name": "python3",
      "display_name": "Python 3"
    },
    "language_info": {
      "name": "python"
    }
  },
  "cells": [
    {
      "cell_type": "markdown",
      "metadata": {
        "id": "view-in-github",
        "colab_type": "text"
      },
      "source": [
        "<a href=\"https://colab.research.google.com/github/hjn14133/Machine-Learning/blob/main/RF_cotton_yield.ipynb\" target=\"_parent\"><img src=\"https://colab.research.google.com/assets/colab-badge.svg\" alt=\"Open In Colab\"/></a>"
      ]
    },
    {
      "cell_type": "code",
      "metadata": {
        "colab": {
          "base_uri": "https://localhost:8080/",
          "height": 394
        },
        "id": "UYZmW5N3JVEe",
        "outputId": "1ed73a8b-7af3-4b7b-9fe0-efb34ce6c946"
      },
      "source": [
        "# Pandas is used for data manipulation\n",
        "import pandas as pd\n",
        "# Read in data and display first 5 rows\n",
        "df = pd.read_csv('FT_join_JH_cleaned.csv')\n",
        "df.head(5)"
      ],
      "execution_count": 2,
      "outputs": [
        {
          "output_type": "execute_result",
          "data": {
            "text/html": [
              "<div>\n",
              "<style scoped>\n",
              "    .dataframe tbody tr th:only-of-type {\n",
              "        vertical-align: middle;\n",
              "    }\n",
              "\n",
              "    .dataframe tbody tr th {\n",
              "        vertical-align: top;\n",
              "    }\n",
              "\n",
              "    .dataframe thead th {\n",
              "        text-align: right;\n",
              "    }\n",
              "</style>\n",
              "<table border=\"1\" class=\"dataframe\">\n",
              "  <thead>\n",
              "    <tr style=\"text-align: right;\">\n",
              "      <th></th>\n",
              "      <th>OID_</th>\n",
              "      <th>FID_1</th>\n",
              "      <th>DISTANCE</th>\n",
              "      <th>SWATHWIDTH</th>\n",
              "      <th>VRYIELDBAL</th>\n",
              "      <th>SECTIONID</th>\n",
              "      <th>Crop</th>\n",
              "      <th>Time</th>\n",
              "      <th>Heading</th>\n",
              "      <th>Variety</th>\n",
              "      <th>Elevation</th>\n",
              "      <th>IsoTime</th>\n",
              "      <th>Machine</th>\n",
              "      <th>FID_2</th>\n",
              "      <th>Time_1</th>\n",
              "      <th>Crop_1</th>\n",
              "      <th>AppliedRat</th>\n",
              "      <th>SWATHWID_1</th>\n",
              "      <th>DISTANCE_1</th>\n",
              "      <th>Heading_1</th>\n",
              "      <th>SECTIONI_1</th>\n",
              "      <th>ControlRat</th>\n",
              "      <th>TargetRate</th>\n",
              "      <th>Variety_1</th>\n",
              "      <th>Elevatio_1</th>\n",
              "      <th>IsoTime_1</th>\n",
              "      <th>Machine_1</th>\n",
              "      <th>Distance_2</th>\n",
              "      <th>FID_12</th>\n",
              "      <th>Module__</th>\n",
              "      <th>Lf</th>\n",
              "      <th>Mic</th>\n",
              "      <th>Str</th>\n",
              "      <th>Rd</th>\n",
              "      <th>b</th>\n",
              "      <th>Tr</th>\n",
              "      <th>Unif</th>\n",
              "      <th>Loan_Rat</th>\n",
              "      <th>Loan_Value</th>\n",
              "    </tr>\n",
              "  </thead>\n",
              "  <tbody>\n",
              "    <tr>\n",
              "      <th>0</th>\n",
              "      <td>NaN</td>\n",
              "      <td>2326</td>\n",
              "      <td>7.726433</td>\n",
              "      <td>17.998688</td>\n",
              "      <td>5.976549</td>\n",
              "      <td>0</td>\n",
              "      <td>175</td>\n",
              "      <td>11/23/2020 5:24:47 PM</td>\n",
              "      <td>179.614345</td>\n",
              "      <td>dp 1646 b2xf</td>\n",
              "      <td>163.744028</td>\n",
              "      <td>2020-11-23T17:24:47.745Z</td>\n",
              "      <td>1</td>\n",
              "      <td>2522</td>\n",
              "      <td>6/4/2020 3:34:49 PM</td>\n",
              "      <td>175</td>\n",
              "      <td>24022.13972</td>\n",
              "      <td>2.999781</td>\n",
              "      <td>6.984466</td>\n",
              "      <td>180.188720</td>\n",
              "      <td>407</td>\n",
              "      <td>24000.17422</td>\n",
              "      <td>23997.85858</td>\n",
              "      <td>dp 1646 b2xf</td>\n",
              "      <td>141.316374</td>\n",
              "      <td>2020-06-04T15:34:49.551Z</td>\n",
              "      <td>1</td>\n",
              "      <td>0.000008</td>\n",
              "      <td>2326</td>\n",
              "      <td>5</td>\n",
              "      <td>3.0</td>\n",
              "      <td>3.95</td>\n",
              "      <td>30.28</td>\n",
              "      <td>80.03</td>\n",
              "      <td>7.60</td>\n",
              "      <td>2.50</td>\n",
              "      <td>80.40</td>\n",
              "      <td>56.34</td>\n",
              "      <td>272.24</td>\n",
              "    </tr>\n",
              "    <tr>\n",
              "      <th>1</th>\n",
              "      <td>NaN</td>\n",
              "      <td>2893</td>\n",
              "      <td>7.857666</td>\n",
              "      <td>17.998688</td>\n",
              "      <td>5.961102</td>\n",
              "      <td>0</td>\n",
              "      <td>175</td>\n",
              "      <td>11/23/2020 5:34:33 PM</td>\n",
              "      <td>358.808094</td>\n",
              "      <td>dp 1646 b2xf</td>\n",
              "      <td>165.843765</td>\n",
              "      <td>2020-11-23T17:34:33.738Z</td>\n",
              "      <td>1</td>\n",
              "      <td>5081</td>\n",
              "      <td>6/4/2020 4:01:05 PM</td>\n",
              "      <td>175</td>\n",
              "      <td>26818.51751</td>\n",
              "      <td>2.999781</td>\n",
              "      <td>7.115700</td>\n",
              "      <td>0.331250</td>\n",
              "      <td>408</td>\n",
              "      <td>27200.02360</td>\n",
              "      <td>27198.92201</td>\n",
              "      <td>dp 1646 b2xf</td>\n",
              "      <td>143.104432</td>\n",
              "      <td>2020-06-04T16:01:05.511Z</td>\n",
              "      <td>1</td>\n",
              "      <td>0.000005</td>\n",
              "      <td>2893</td>\n",
              "      <td>6</td>\n",
              "      <td>3.0</td>\n",
              "      <td>3.90</td>\n",
              "      <td>31.60</td>\n",
              "      <td>78.43</td>\n",
              "      <td>8.05</td>\n",
              "      <td>3.00</td>\n",
              "      <td>80.53</td>\n",
              "      <td>56.38</td>\n",
              "      <td>262.97</td>\n",
              "    </tr>\n",
              "    <tr>\n",
              "      <th>2</th>\n",
              "      <td>NaN</td>\n",
              "      <td>2900</td>\n",
              "      <td>7.923283</td>\n",
              "      <td>17.998688</td>\n",
              "      <td>5.918805</td>\n",
              "      <td>0</td>\n",
              "      <td>175</td>\n",
              "      <td>11/23/2020 5:34:40 PM</td>\n",
              "      <td>359.703094</td>\n",
              "      <td>dp 1646 b2xf</td>\n",
              "      <td>164.951377</td>\n",
              "      <td>2020-11-23T17:34:40.735Z</td>\n",
              "      <td>1</td>\n",
              "      <td>5097</td>\n",
              "      <td>6/4/2020 4:01:13 PM</td>\n",
              "      <td>175</td>\n",
              "      <td>25814.89712</td>\n",
              "      <td>2.999781</td>\n",
              "      <td>7.115700</td>\n",
              "      <td>0.201250</td>\n",
              "      <td>408</td>\n",
              "      <td>27200.02360</td>\n",
              "      <td>27198.92201</td>\n",
              "      <td>dp 1646 b2xf</td>\n",
              "      <td>142.274379</td>\n",
              "      <td>2020-06-04T16:01:13.508Z</td>\n",
              "      <td>1</td>\n",
              "      <td>0.000002</td>\n",
              "      <td>2900</td>\n",
              "      <td>6</td>\n",
              "      <td>3.0</td>\n",
              "      <td>3.90</td>\n",
              "      <td>31.60</td>\n",
              "      <td>78.43</td>\n",
              "      <td>8.05</td>\n",
              "      <td>3.00</td>\n",
              "      <td>80.53</td>\n",
              "      <td>56.38</td>\n",
              "      <td>262.97</td>\n",
              "    </tr>\n",
              "    <tr>\n",
              "      <th>3</th>\n",
              "      <td>NaN</td>\n",
              "      <td>12062</td>\n",
              "      <td>0.919535</td>\n",
              "      <td>17.998688</td>\n",
              "      <td>5.909818</td>\n",
              "      <td>0</td>\n",
              "      <td>175</td>\n",
              "      <td>11/23/2020 9:12:42 PM</td>\n",
              "      <td>357.597782</td>\n",
              "      <td>dp 1646 b2xf</td>\n",
              "      <td>162.887088</td>\n",
              "      <td>2020-11-23T21:12:42.804Z</td>\n",
              "      <td>1</td>\n",
              "      <td>14283</td>\n",
              "      <td>6/4/2020 7:09:20 PM</td>\n",
              "      <td>175</td>\n",
              "      <td>18987.85033</td>\n",
              "      <td>2.999781</td>\n",
              "      <td>4.657080</td>\n",
              "      <td>0.417187</td>\n",
              "      <td>408</td>\n",
              "      <td>0.00000</td>\n",
              "      <td>34997.21434</td>\n",
              "      <td>dg3799 b3xf</td>\n",
              "      <td>140.200760</td>\n",
              "      <td>2020-06-04T19:09:20.569Z</td>\n",
              "      <td>1</td>\n",
              "      <td>0.000005</td>\n",
              "      <td>12062</td>\n",
              "      <td>24</td>\n",
              "      <td>3.0</td>\n",
              "      <td>4.28</td>\n",
              "      <td>30.83</td>\n",
              "      <td>78.90</td>\n",
              "      <td>7.80</td>\n",
              "      <td>3.25</td>\n",
              "      <td>80.28</td>\n",
              "      <td>55.90</td>\n",
              "      <td>276.38</td>\n",
              "    </tr>\n",
              "    <tr>\n",
              "      <th>4</th>\n",
              "      <td>NaN</td>\n",
              "      <td>2330</td>\n",
              "      <td>7.759241</td>\n",
              "      <td>17.998688</td>\n",
              "      <td>5.848390</td>\n",
              "      <td>0</td>\n",
              "      <td>175</td>\n",
              "      <td>11/23/2020 5:24:51 PM</td>\n",
              "      <td>179.574344</td>\n",
              "      <td>dp 1646 b2xf</td>\n",
              "      <td>164.042584</td>\n",
              "      <td>2020-11-23T17:24:51.747Z</td>\n",
              "      <td>1</td>\n",
              "      <td>2532</td>\n",
              "      <td>6/4/2020 3:34:54 PM</td>\n",
              "      <td>175</td>\n",
              "      <td>23467.72039</td>\n",
              "      <td>2.999781</td>\n",
              "      <td>7.082892</td>\n",
              "      <td>180.068720</td>\n",
              "      <td>407</td>\n",
              "      <td>24000.17422</td>\n",
              "      <td>23997.85858</td>\n",
              "      <td>dp 1646 b2xf</td>\n",
              "      <td>141.778972</td>\n",
              "      <td>2020-06-04T15:34:54.557Z</td>\n",
              "      <td>1</td>\n",
              "      <td>0.000006</td>\n",
              "      <td>2330</td>\n",
              "      <td>5</td>\n",
              "      <td>3.0</td>\n",
              "      <td>3.95</td>\n",
              "      <td>30.28</td>\n",
              "      <td>80.03</td>\n",
              "      <td>7.60</td>\n",
              "      <td>2.50</td>\n",
              "      <td>80.40</td>\n",
              "      <td>56.34</td>\n",
              "      <td>272.24</td>\n",
              "    </tr>\n",
              "  </tbody>\n",
              "</table>\n",
              "</div>"
            ],
            "text/plain": [
              "   OID_  FID_1  DISTANCE  SWATHWIDTH  ...    Tr   Unif  Loan_Rat Loan_Value\n",
              "0   NaN   2326  7.726433   17.998688  ...  2.50  80.40     56.34     272.24\n",
              "1   NaN   2893  7.857666   17.998688  ...  3.00  80.53     56.38     262.97\n",
              "2   NaN   2900  7.923283   17.998688  ...  3.00  80.53     56.38     262.97\n",
              "3   NaN  12062  0.919535   17.998688  ...  3.25  80.28     55.90     276.38\n",
              "4   NaN   2330  7.759241   17.998688  ...  2.50  80.40     56.34     272.24\n",
              "\n",
              "[5 rows x 39 columns]"
            ]
          },
          "metadata": {},
          "execution_count": 2
        }
      ]
    },
    {
      "cell_type": "code",
      "metadata": {
        "colab": {
          "base_uri": "https://localhost:8080/"
        },
        "id": "TDaoL9SsKgbJ",
        "outputId": "bf92fd97-fb82-4e37-fcab-a25bc559596d"
      },
      "source": [
        "# Load data set\n",
        "X = df[['DISTANCE', 'Heading','Elevation', 'AppliedRat']]\n",
        "y1 = df['VRYIELDBAL']\n",
        "y2 = df['Loan_Value']\n",
        "\n",
        "print('The shape of our features is:', X.shape)"
      ],
      "execution_count": 7,
      "outputs": [
        {
          "output_type": "stream",
          "name": "stdout",
          "text": [
            "The shape of our features is: (12695, 4)\n"
          ]
        }
      ]
    },
    {
      "cell_type": "code",
      "metadata": {
        "colab": {
          "base_uri": "https://localhost:8080/",
          "height": 297
        },
        "id": "uY4wiWLELIGy",
        "outputId": "2a8bdb4b-6222-499a-e1c6-357d78a056d0"
      },
      "source": [
        "# Descriptive statistics for each column\n",
        "X.describe()"
      ],
      "execution_count": 5,
      "outputs": [
        {
          "output_type": "execute_result",
          "data": {
            "text/html": [
              "<div>\n",
              "<style scoped>\n",
              "    .dataframe tbody tr th:only-of-type {\n",
              "        vertical-align: middle;\n",
              "    }\n",
              "\n",
              "    .dataframe tbody tr th {\n",
              "        vertical-align: top;\n",
              "    }\n",
              "\n",
              "    .dataframe thead th {\n",
              "        text-align: right;\n",
              "    }\n",
              "</style>\n",
              "<table border=\"1\" class=\"dataframe\">\n",
              "  <thead>\n",
              "    <tr style=\"text-align: right;\">\n",
              "      <th></th>\n",
              "      <th>DISTANCE</th>\n",
              "      <th>Heading</th>\n",
              "      <th>Elevation</th>\n",
              "      <th>AppliedRat</th>\n",
              "    </tr>\n",
              "  </thead>\n",
              "  <tbody>\n",
              "    <tr>\n",
              "      <th>count</th>\n",
              "      <td>12695.000000</td>\n",
              "      <td>12695.000000</td>\n",
              "      <td>12695.000000</td>\n",
              "      <td>12695.000000</td>\n",
              "    </tr>\n",
              "    <tr>\n",
              "      <th>mean</th>\n",
              "      <td>7.771627</td>\n",
              "      <td>142.518911</td>\n",
              "      <td>165.487678</td>\n",
              "      <td>26262.416660</td>\n",
              "    </tr>\n",
              "    <tr>\n",
              "      <th>std</th>\n",
              "      <td>0.497228</td>\n",
              "      <td>121.577647</td>\n",
              "      <td>1.831247</td>\n",
              "      <td>4487.031551</td>\n",
              "    </tr>\n",
              "    <tr>\n",
              "      <th>min</th>\n",
              "      <td>0.066516</td>\n",
              "      <td>-0.004375</td>\n",
              "      <td>160.791272</td>\n",
              "      <td>0.000000</td>\n",
              "    </tr>\n",
              "    <tr>\n",
              "      <th>25%</th>\n",
              "      <td>7.776091</td>\n",
              "      <td>0.823281</td>\n",
              "      <td>164.157093</td>\n",
              "      <td>22795.942230</td>\n",
              "    </tr>\n",
              "    <tr>\n",
              "      <th>50%</th>\n",
              "      <td>7.824858</td>\n",
              "      <td>179.987782</td>\n",
              "      <td>165.552706</td>\n",
              "      <td>25596.366870</td>\n",
              "    </tr>\n",
              "    <tr>\n",
              "      <th>75%</th>\n",
              "      <td>7.857666</td>\n",
              "      <td>180.724828</td>\n",
              "      <td>166.855123</td>\n",
              "      <td>30788.483660</td>\n",
              "    </tr>\n",
              "    <tr>\n",
              "      <th>max</th>\n",
              "      <td>15.533150</td>\n",
              "      <td>359.996219</td>\n",
              "      <td>169.586704</td>\n",
              "      <td>76489.633240</td>\n",
              "    </tr>\n",
              "  </tbody>\n",
              "</table>\n",
              "</div>"
            ],
            "text/plain": [
              "           DISTANCE       Heading     Elevation    AppliedRat\n",
              "count  12695.000000  12695.000000  12695.000000  12695.000000\n",
              "mean       7.771627    142.518911    165.487678  26262.416660\n",
              "std        0.497228    121.577647      1.831247   4487.031551\n",
              "min        0.066516     -0.004375    160.791272      0.000000\n",
              "25%        7.776091      0.823281    164.157093  22795.942230\n",
              "50%        7.824858    179.987782    165.552706  25596.366870\n",
              "75%        7.857666    180.724828    166.855123  30788.483660\n",
              "max       15.533150    359.996219    169.586704  76489.633240"
            ]
          },
          "metadata": {},
          "execution_count": 5
        }
      ]
    },
    {
      "cell_type": "code",
      "metadata": {
        "id": "a0xqSnPHLTTL"
      },
      "source": [
        "# Using Skicit-learn to split data into training and testing sets\n",
        "from sklearn.model_selection import train_test_split\n",
        "# Split the data into training and testing sets\n",
        "train_x, test_x, train_y1, test_y1 = train_test_split(X, y1, test_size = 0.25,\n",
        "                                                      random_state = 42)"
      ],
      "execution_count": 8,
      "outputs": []
    },
    {
      "cell_type": "code",
      "metadata": {
        "id": "-nvELUbxLoq0"
      },
      "source": [
        "# Import the model we are using\n",
        "from sklearn.ensemble import RandomForestRegressor\n",
        "# Instantiate model with 1000 decision trees\n",
        "rf = RandomForestRegressor(n_estimators = 1000, random_state = 42)\n",
        "# Train the model on training data\n",
        "rf.fit(train_x, train_y1);"
      ],
      "execution_count": 9,
      "outputs": []
    },
    {
      "cell_type": "code",
      "metadata": {
        "colab": {
          "base_uri": "https://localhost:8080/"
        },
        "id": "RRVETkNnLzPc",
        "outputId": "e12a1e95-23fd-4e05-c068-ffac66ab0d58"
      },
      "source": [
        "import numpy as np\n",
        "# Use the forest's predict method on the test data\n",
        "predictions = rf.predict(test_x)\n",
        "# Calculate the absolute errors\n",
        "errors = abs(predictions - test_y1)\n",
        "# Print out the mean absolute error (mae)\n",
        "print('Mean Absolute Error:', round(np.mean(errors), 2), '.')"
      ],
      "execution_count": 10,
      "outputs": [
        {
          "output_type": "stream",
          "name": "stdout",
          "text": [
            "Mean Absolute Error: 0.37 .\n"
          ]
        }
      ]
    },
    {
      "cell_type": "code",
      "metadata": {
        "colab": {
          "base_uri": "https://localhost:8080/"
        },
        "id": "isouLtOZMATw",
        "outputId": "3d4f2094-57c7-4ce0-a33b-de14a2e4e532"
      },
      "source": [
        "# Calculate mean absolute percentage error (MAPE)\n",
        "mape = 100 * (errors / test_y1)\n",
        "# Calculate and display accuracy\n",
        "accuracy = 100 - np.mean(mape)\n",
        "print('Accuracy:', round(accuracy, 2), '%.')"
      ],
      "execution_count": 11,
      "outputs": [
        {
          "output_type": "stream",
          "name": "stdout",
          "text": [
            "Accuracy: 71.3 %.\n"
          ]
        }
      ]
    },
    {
      "cell_type": "code",
      "metadata": {
        "colab": {
          "base_uri": "https://localhost:8080/"
        },
        "id": "-N3VztgPMHCS",
        "outputId": "2e1071a2-77ed-4e12-84d4-5a51ff5d0b6e"
      },
      "source": [
        "# Get numerical feature importances\n",
        "importances = list(rf.feature_importances_)\n",
        "feature_list = list(X.columns)\n",
        "# List of tuples with variable and importance\n",
        "feature_importances = [(feature, round(importance, 2)) for feature, importance in zip(feature_list, importances)]\n",
        "# Sort the feature importances by most important first\n",
        "feature_importances = sorted(feature_importances, key = lambda x: x[1], reverse = True)\n",
        "# Print out the feature and importances \n",
        "[print('Variable: {:20} Importance: {}'.format(*pair)) for pair in feature_importances];"
      ],
      "execution_count": 13,
      "outputs": [
        {
          "output_type": "stream",
          "name": "stdout",
          "text": [
            "Variable: DISTANCE             Importance: 0.55\n",
            "Variable: Elevation            Importance: 0.21\n",
            "Variable: AppliedRat           Importance: 0.12\n",
            "Variable: Heading              Importance: 0.11\n"
          ]
        }
      ]
    },
    {
      "cell_type": "code",
      "metadata": {
        "colab": {
          "base_uri": "https://localhost:8080/",
          "height": 387
        },
        "id": "m5viLmaPMjPz",
        "outputId": "6e037331-2da4-4a57-d53e-6c082cffb9d1"
      },
      "source": [
        "# Import matplotlib for plotting and use magic command for Jupyter Notebooks\n",
        "import matplotlib.pyplot as plt\n",
        "%matplotlib inline\n",
        "# Set the style\n",
        "plt.style.use('fivethirtyeight')\n",
        "# list of x locations for plotting\n",
        "x_values = list(range(len(importances)))\n",
        "# Make a bar chart\n",
        "plt.bar(x_values, importances, orientation = 'vertical')\n",
        "# Tick labels for x axis\n",
        "plt.xticks(x_values, feature_list, rotation='vertical')\n",
        "# Axis labels and title\n",
        "plt.ylabel('Importance'); plt.xlabel('Variable'); plt.title('Variable Importances');"
      ],
      "execution_count": 14,
      "outputs": [
        {
          "output_type": "display_data",
          "data": {
            "image/png": "[encoded data removed]",
            "text/plain": [
              "<Figure size 432x288 with 1 Axes>"
            ]
          },
          "metadata": {}
        }
      ]
    }
  ]
}