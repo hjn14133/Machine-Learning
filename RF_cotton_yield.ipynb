{
  "nbformat": 4,
  "nbformat_minor": 0,
  "metadata": {
    "colab": {
      "name": "RF_cotton_yield.ipynb",
      "provenance": [],
      "collapsed_sections": [],
      "authorship_tag": "ABX9TyO90A7YhOWOlk7TVIG1SjKG",
      "include_colab_link": true
    },
    "kernelspec": {
      "name": "python3",
      "display_name": "Python 3"
    },
    "language_info": {
      "name": "python"
    },
    "accelerator": "GPU"
  },
  "cells": [
    {
      "cell_type": "markdown",
      "metadata": {
        "id": "view-in-github",
        "colab_type": "text"
      },
      "source": [
        "<a href=\"https://colab.research.google.com/github/hjn14133/Machine-Learning/blob/main/RF_cotton_yield.ipynb\" target=\"_parent\"><img src=\"https://colab.research.google.com/assets/colab-badge.svg\" alt=\"Open In Colab\"/></a>"
      ]
    },
    {
      "cell_type": "code",
      "metadata": {
        "id": "UYZmW5N3JVEe",
        "colab": {
          "base_uri": "https://localhost:8080/",
          "height": 394
        },
        "outputId": "638b7412-3ea6-435f-e07f-d3072645530a"
      },
      "source": [
        "# Pandas is used for data manipulation\n",
        "import pandas as pd\n",
        "# Read in data and display first 5 rows\n",
        "df = pd.read_csv('FT_join_JH_cleaned.csv')\n",
        "df.head(5)"
      ],
      "execution_count": null,
      "outputs": [
        {
          "output_type": "execute_result",
          "data": {
            "text/html": [
              "<div>\n",
              "<style scoped>\n",
              "    .dataframe tbody tr th:only-of-type {\n",
              "        vertical-align: middle;\n",
              "    }\n",
              "\n",
              "    .dataframe tbody tr th {\n",
              "        vertical-align: top;\n",
              "    }\n",
              "\n",
              "    .dataframe thead th {\n",
              "        text-align: right;\n",
              "    }\n",
              "</style>\n",
              "<table border=\"1\" class=\"dataframe\">\n",
              "  <thead>\n",
              "    <tr style=\"text-align: right;\">\n",
              "      <th></th>\n",
              "      <th>OID_</th>\n",
              "      <th>FID_1</th>\n",
              "      <th>DISTANCE</th>\n",
              "      <th>SWATHWIDTH</th>\n",
              "      <th>VRYIELDBAL</th>\n",
              "      <th>SECTIONID</th>\n",
              "      <th>Crop</th>\n",
              "      <th>Time</th>\n",
              "      <th>Heading</th>\n",
              "      <th>Variety</th>\n",
              "      <th>Elevation</th>\n",
              "      <th>IsoTime</th>\n",
              "      <th>Machine</th>\n",
              "      <th>FID_2</th>\n",
              "      <th>Time_1</th>\n",
              "      <th>Crop_1</th>\n",
              "      <th>AppliedRat</th>\n",
              "      <th>SWATHWID_1</th>\n",
              "      <th>DISTANCE_1</th>\n",
              "      <th>Heading_1</th>\n",
              "      <th>SECTIONI_1</th>\n",
              "      <th>ControlRat</th>\n",
              "      <th>TargetRate</th>\n",
              "      <th>Variety_1</th>\n",
              "      <th>Elevatio_1</th>\n",
              "      <th>IsoTime_1</th>\n",
              "      <th>Machine_1</th>\n",
              "      <th>Distance_2</th>\n",
              "      <th>FID_12</th>\n",
              "      <th>Module__</th>\n",
              "      <th>Lf</th>\n",
              "      <th>Mic</th>\n",
              "      <th>Str</th>\n",
              "      <th>Rd</th>\n",
              "      <th>b</th>\n",
              "      <th>Tr</th>\n",
              "      <th>Unif</th>\n",
              "      <th>Loan_Rat</th>\n",
              "      <th>Loan_Value</th>\n",
              "    </tr>\n",
              "  </thead>\n",
              "  <tbody>\n",
              "    <tr>\n",
              "      <th>0</th>\n",
              "      <td>NaN</td>\n",
              "      <td>2326</td>\n",
              "      <td>7.726433</td>\n",
              "      <td>17.998688</td>\n",
              "      <td>5.976549</td>\n",
              "      <td>0</td>\n",
              "      <td>175</td>\n",
              "      <td>11/23/2020 5:24:47 PM</td>\n",
              "      <td>179.614345</td>\n",
              "      <td>dp 1646 b2xf</td>\n",
              "      <td>163.744028</td>\n",
              "      <td>2020-11-23T17:24:47.745Z</td>\n",
              "      <td>1</td>\n",
              "      <td>2522</td>\n",
              "      <td>6/4/2020 3:34:49 PM</td>\n",
              "      <td>175</td>\n",
              "      <td>24022.13972</td>\n",
              "      <td>2.999781</td>\n",
              "      <td>6.984466</td>\n",
              "      <td>180.188720</td>\n",
              "      <td>407</td>\n",
              "      <td>24000.17422</td>\n",
              "      <td>23997.85858</td>\n",
              "      <td>dp 1646 b2xf</td>\n",
              "      <td>141.316374</td>\n",
              "      <td>2020-06-04T15:34:49.551Z</td>\n",
              "      <td>1</td>\n",
              "      <td>0.000008</td>\n",
              "      <td>2326</td>\n",
              "      <td>5</td>\n",
              "      <td>3.0</td>\n",
              "      <td>3.95</td>\n",
              "      <td>30.28</td>\n",
              "      <td>80.03</td>\n",
              "      <td>7.60</td>\n",
              "      <td>2.50</td>\n",
              "      <td>80.40</td>\n",
              "      <td>56.34</td>\n",
              "      <td>272.24</td>\n",
              "    </tr>\n",
              "    <tr>\n",
              "      <th>1</th>\n",
              "      <td>NaN</td>\n",
              "      <td>2893</td>\n",
              "      <td>7.857666</td>\n",
              "      <td>17.998688</td>\n",
              "      <td>5.961102</td>\n",
              "      <td>0</td>\n",
              "      <td>175</td>\n",
              "      <td>11/23/2020 5:34:33 PM</td>\n",
              "      <td>358.808094</td>\n",
              "      <td>dp 1646 b2xf</td>\n",
              "      <td>165.843765</td>\n",
              "      <td>2020-11-23T17:34:33.738Z</td>\n",
              "      <td>1</td>\n",
              "      <td>5081</td>\n",
              "      <td>6/4/2020 4:01:05 PM</td>\n",
              "      <td>175</td>\n",
              "      <td>26818.51751</td>\n",
              "      <td>2.999781</td>\n",
              "      <td>7.115700</td>\n",
              "      <td>0.331250</td>\n",
              "      <td>408</td>\n",
              "      <td>27200.02360</td>\n",
              "      <td>27198.92201</td>\n",
              "      <td>dp 1646 b2xf</td>\n",
              "      <td>143.104432</td>\n",
              "      <td>2020-06-04T16:01:05.511Z</td>\n",
              "      <td>1</td>\n",
              "      <td>0.000005</td>\n",
              "      <td>2893</td>\n",
              "      <td>6</td>\n",
              "      <td>3.0</td>\n",
              "      <td>3.90</td>\n",
              "      <td>31.60</td>\n",
              "      <td>78.43</td>\n",
              "      <td>8.05</td>\n",
              "      <td>3.00</td>\n",
              "      <td>80.53</td>\n",
              "      <td>56.38</td>\n",
              "      <td>262.97</td>\n",
              "    </tr>\n",
              "    <tr>\n",
              "      <th>2</th>\n",
              "      <td>NaN</td>\n",
              "      <td>2900</td>\n",
              "      <td>7.923283</td>\n",
              "      <td>17.998688</td>\n",
              "      <td>5.918805</td>\n",
              "      <td>0</td>\n",
              "      <td>175</td>\n",
              "      <td>11/23/2020 5:34:40 PM</td>\n",
              "      <td>359.703094</td>\n",
              "      <td>dp 1646 b2xf</td>\n",
              "      <td>164.951377</td>\n",
              "      <td>2020-11-23T17:34:40.735Z</td>\n",
              "      <td>1</td>\n",
              "      <td>5097</td>\n",
              "      <td>6/4/2020 4:01:13 PM</td>\n",
              "      <td>175</td>\n",
              "      <td>25814.89712</td>\n",
              "      <td>2.999781</td>\n",
              "      <td>7.115700</td>\n",
              "      <td>0.201250</td>\n",
              "      <td>408</td>\n",
              "      <td>27200.02360</td>\n",
              "      <td>27198.92201</td>\n",
              "      <td>dp 1646 b2xf</td>\n",
              "      <td>142.274379</td>\n",
              "      <td>2020-06-04T16:01:13.508Z</td>\n",
              "      <td>1</td>\n",
              "      <td>0.000002</td>\n",
              "      <td>2900</td>\n",
              "      <td>6</td>\n",
              "      <td>3.0</td>\n",
              "      <td>3.90</td>\n",
              "      <td>31.60</td>\n",
              "      <td>78.43</td>\n",
              "      <td>8.05</td>\n",
              "      <td>3.00</td>\n",
              "      <td>80.53</td>\n",
              "      <td>56.38</td>\n",
              "      <td>262.97</td>\n",
              "    </tr>\n",
              "    <tr>\n",
              "      <th>3</th>\n",
              "      <td>NaN</td>\n",
              "      <td>12062</td>\n",
              "      <td>0.919535</td>\n",
              "      <td>17.998688</td>\n",
              "      <td>5.909818</td>\n",
              "      <td>0</td>\n",
              "      <td>175</td>\n",
              "      <td>11/23/2020 9:12:42 PM</td>\n",
              "      <td>357.597782</td>\n",
              "      <td>dp 1646 b2xf</td>\n",
              "      <td>162.887088</td>\n",
              "      <td>2020-11-23T21:12:42.804Z</td>\n",
              "      <td>1</td>\n",
              "      <td>14283</td>\n",
              "      <td>6/4/2020 7:09:20 PM</td>\n",
              "      <td>175</td>\n",
              "      <td>18987.85033</td>\n",
              "      <td>2.999781</td>\n",
              "      <td>4.657080</td>\n",
              "      <td>0.417187</td>\n",
              "      <td>408</td>\n",
              "      <td>0.00000</td>\n",
              "      <td>34997.21434</td>\n",
              "      <td>dg3799 b3xf</td>\n",
              "      <td>140.200760</td>\n",
              "      <td>2020-06-04T19:09:20.569Z</td>\n",
              "      <td>1</td>\n",
              "      <td>0.000005</td>\n",
              "      <td>12062</td>\n",
              "      <td>24</td>\n",
              "      <td>3.0</td>\n",
              "      <td>4.28</td>\n",
              "      <td>30.83</td>\n",
              "      <td>78.90</td>\n",
              "      <td>7.80</td>\n",
              "      <td>3.25</td>\n",
              "      <td>80.28</td>\n",
              "      <td>55.90</td>\n",
              "      <td>276.38</td>\n",
              "    </tr>\n",
              "    <tr>\n",
              "      <th>4</th>\n",
              "      <td>NaN</td>\n",
              "      <td>2330</td>\n",
              "      <td>7.759241</td>\n",
              "      <td>17.998688</td>\n",
              "      <td>5.848390</td>\n",
              "      <td>0</td>\n",
              "      <td>175</td>\n",
              "      <td>11/23/2020 5:24:51 PM</td>\n",
              "      <td>179.574344</td>\n",
              "      <td>dp 1646 b2xf</td>\n",
              "      <td>164.042584</td>\n",
              "      <td>2020-11-23T17:24:51.747Z</td>\n",
              "      <td>1</td>\n",
              "      <td>2532</td>\n",
              "      <td>6/4/2020 3:34:54 PM</td>\n",
              "      <td>175</td>\n",
              "      <td>23467.72039</td>\n",
              "      <td>2.999781</td>\n",
              "      <td>7.082892</td>\n",
              "      <td>180.068720</td>\n",
              "      <td>407</td>\n",
              "      <td>24000.17422</td>\n",
              "      <td>23997.85858</td>\n",
              "      <td>dp 1646 b2xf</td>\n",
              "      <td>141.778972</td>\n",
              "      <td>2020-06-04T15:34:54.557Z</td>\n",
              "      <td>1</td>\n",
              "      <td>0.000006</td>\n",
              "      <td>2330</td>\n",
              "      <td>5</td>\n",
              "      <td>3.0</td>\n",
              "      <td>3.95</td>\n",
              "      <td>30.28</td>\n",
              "      <td>80.03</td>\n",
              "      <td>7.60</td>\n",
              "      <td>2.50</td>\n",
              "      <td>80.40</td>\n",
              "      <td>56.34</td>\n",
              "      <td>272.24</td>\n",
              "    </tr>\n",
              "  </tbody>\n",
              "</table>\n",
              "</div>"
            ],
            "text/plain": [
              "   OID_  FID_1  DISTANCE  SWATHWIDTH  ...    Tr   Unif  Loan_Rat Loan_Value\n",
              "0   NaN   2326  7.726433   17.998688  ...  2.50  80.40     56.34     272.24\n",
              "1   NaN   2893  7.857666   17.998688  ...  3.00  80.53     56.38     262.97\n",
              "2   NaN   2900  7.923283   17.998688  ...  3.00  80.53     56.38     262.97\n",
              "3   NaN  12062  0.919535   17.998688  ...  3.25  80.28     55.90     276.38\n",
              "4   NaN   2330  7.759241   17.998688  ...  2.50  80.40     56.34     272.24\n",
              "\n",
              "[5 rows x 39 columns]"
            ]
          },
          "metadata": {},
          "execution_count": 1
        }
      ]
    },
    {
      "cell_type": "code",
      "metadata": {
        "id": "TDaoL9SsKgbJ",
        "colab": {
          "base_uri": "https://localhost:8080/"
        },
        "outputId": "dc688c09-9693-4a48-cc9f-71d29d847a67"
      },
      "source": [
        "# Load data set\n",
        "X = df[['DISTANCE', 'Heading','Elevation', 'AppliedRat']]\n",
        "y1 = df['VRYIELDBAL']\n",
        "y2 = df['Loan_Value']\n",
        "\n",
        "print('The shape of our features is:', X.shape)"
      ],
      "execution_count": null,
      "outputs": [
        {
          "output_type": "stream",
          "name": "stdout",
          "text": [
            "The shape of our features is: (12695, 4)\n"
          ]
        }
      ]
    },
    {
      "cell_type": "code",
      "metadata": {
        "id": "uY4wiWLELIGy",
        "colab": {
          "base_uri": "https://localhost:8080/",
          "height": 297
        },
        "outputId": "068caa7e-47f4-4482-f824-def9e64972e3"
      },
      "source": [
        "# Descriptive statistics for each column\n",
        "X.describe()"
      ],
      "execution_count": null,
      "outputs": [
        {
          "output_type": "execute_result",
          "data": {
            "text/html": [
              "<div>\n",
              "<style scoped>\n",
              "    .dataframe tbody tr th:only-of-type {\n",
              "        vertical-align: middle;\n",
              "    }\n",
              "\n",
              "    .dataframe tbody tr th {\n",
              "        vertical-align: top;\n",
              "    }\n",
              "\n",
              "    .dataframe thead th {\n",
              "        text-align: right;\n",
              "    }\n",
              "</style>\n",
              "<table border=\"1\" class=\"dataframe\">\n",
              "  <thead>\n",
              "    <tr style=\"text-align: right;\">\n",
              "      <th></th>\n",
              "      <th>DISTANCE</th>\n",
              "      <th>Heading</th>\n",
              "      <th>Elevation</th>\n",
              "      <th>AppliedRat</th>\n",
              "    </tr>\n",
              "  </thead>\n",
              "  <tbody>\n",
              "    <tr>\n",
              "      <th>count</th>\n",
              "      <td>12695.000000</td>\n",
              "      <td>12695.000000</td>\n",
              "      <td>12695.000000</td>\n",
              "      <td>12695.000000</td>\n",
              "    </tr>\n",
              "    <tr>\n",
              "      <th>mean</th>\n",
              "      <td>7.771627</td>\n",
              "      <td>142.518911</td>\n",
              "      <td>165.487678</td>\n",
              "      <td>26262.416660</td>\n",
              "    </tr>\n",
              "    <tr>\n",
              "      <th>std</th>\n",
              "      <td>0.497228</td>\n",
              "      <td>121.577647</td>\n",
              "      <td>1.831247</td>\n",
              "      <td>4487.031551</td>\n",
              "    </tr>\n",
              "    <tr>\n",
              "      <th>min</th>\n",
              "      <td>0.066516</td>\n",
              "      <td>-0.004375</td>\n",
              "      <td>160.791272</td>\n",
              "      <td>0.000000</td>\n",
              "    </tr>\n",
              "    <tr>\n",
              "      <th>25%</th>\n",
              "      <td>7.776091</td>\n",
              "      <td>0.823281</td>\n",
              "      <td>164.157093</td>\n",
              "      <td>22795.942230</td>\n",
              "    </tr>\n",
              "    <tr>\n",
              "      <th>50%</th>\n",
              "      <td>7.824858</td>\n",
              "      <td>179.987782</td>\n",
              "      <td>165.552706</td>\n",
              "      <td>25596.366870</td>\n",
              "    </tr>\n",
              "    <tr>\n",
              "      <th>75%</th>\n",
              "      <td>7.857666</td>\n",
              "      <td>180.724828</td>\n",
              "      <td>166.855123</td>\n",
              "      <td>30788.483660</td>\n",
              "    </tr>\n",
              "    <tr>\n",
              "      <th>max</th>\n",
              "      <td>15.533150</td>\n",
              "      <td>359.996219</td>\n",
              "      <td>169.586704</td>\n",
              "      <td>76489.633240</td>\n",
              "    </tr>\n",
              "  </tbody>\n",
              "</table>\n",
              "</div>"
            ],
            "text/plain": [
              "           DISTANCE       Heading     Elevation    AppliedRat\n",
              "count  12695.000000  12695.000000  12695.000000  12695.000000\n",
              "mean       7.771627    142.518911    165.487678  26262.416660\n",
              "std        0.497228    121.577647      1.831247   4487.031551\n",
              "min        0.066516     -0.004375    160.791272      0.000000\n",
              "25%        7.776091      0.823281    164.157093  22795.942230\n",
              "50%        7.824858    179.987782    165.552706  25596.366870\n",
              "75%        7.857666    180.724828    166.855123  30788.483660\n",
              "max       15.533150    359.996219    169.586704  76489.633240"
            ]
          },
          "metadata": {},
          "execution_count": 3
        }
      ]
    },
    {
      "cell_type": "code",
      "metadata": {
        "id": "a0xqSnPHLTTL"
      },
      "source": [
        "# Using Skicit-learn to split data into training and testing sets\n",
        "from sklearn.model_selection import train_test_split\n",
        "# Split the data into training and testing sets\n",
        "train_x, test_x, train_y1, test_y1 = train_test_split(X, y1, test_size = 0.25,\n",
        "                                                      random_state = 42)"
      ],
      "execution_count": null,
      "outputs": []
    },
    {
      "cell_type": "code",
      "metadata": {
        "id": "-nvELUbxLoq0"
      },
      "source": [
        "# Import the model we are using\n",
        "from sklearn.ensemble import RandomForestRegressor\n",
        "# Instantiate model with 1000 decision trees\n",
        "rf = RandomForestRegressor(n_estimators = 1000, random_state = 42)\n",
        "# Train the model on training data\n",
        "rf.fit(train_x, train_y1);"
      ],
      "execution_count": null,
      "outputs": []
    },
    {
      "cell_type": "code",
      "metadata": {
        "id": "RRVETkNnLzPc",
        "colab": {
          "base_uri": "https://localhost:8080/"
        },
        "outputId": "f25e5459-40ba-43e3-9ec5-606b63fd2a27"
      },
      "source": [
        "import numpy as np\n",
        "# Use the forest's predict method on the test data\n",
        "predictions = rf.predict(test_x)\n",
        "# Calculate the absolute errors\n",
        "errors = abs(predictions - test_y1)\n",
        "# Print out the mean absolute error (mae)\n",
        "print('Mean Absolute Error:', round(np.mean(errors), 2), '.')"
      ],
      "execution_count": null,
      "outputs": [
        {
          "output_type": "stream",
          "name": "stdout",
          "text": [
            "Mean Absolute Error: 0.37 .\n"
          ]
        }
      ]
    },
    {
      "cell_type": "code",
      "metadata": {
        "id": "isouLtOZMATw",
        "colab": {
          "base_uri": "https://localhost:8080/"
        },
        "outputId": "946d0956-0692-4764-b203-c60387a6bd57"
      },
      "source": [
        "# Calculate mean absolute percentage error (MAPE)\n",
        "mape = 100 * (errors / test_y1)\n",
        "# Calculate and display accuracy\n",
        "accuracy = 100 - np.mean(mape)\n",
        "print('Accuracy:', round(accuracy, 2), '%.')"
      ],
      "execution_count": null,
      "outputs": [
        {
          "output_type": "stream",
          "name": "stdout",
          "text": [
            "Accuracy: 71.3 %.\n"
          ]
        }
      ]
    },
    {
      "cell_type": "code",
      "metadata": {
        "id": "-N3VztgPMHCS",
        "colab": {
          "base_uri": "https://localhost:8080/"
        },
        "outputId": "38a33df7-a2c0-4532-db90-4823ebf4a15e"
      },
      "source": [
        "# Get numerical feature importances\n",
        "importances = list(rf.feature_importances_)\n",
        "feature_list = list(X.columns)\n",
        "# List of tuples with variable and importance\n",
        "feature_importances = [(feature, round(importance, 2)) for feature, importance in zip(feature_list, importances)]\n",
        "# Sort the feature importances by most important first\n",
        "feature_importances = sorted(feature_importances, key = lambda x: x[1], reverse = True)\n",
        "# Print out the feature and importances \n",
        "[print('Variable: {:20} Importance: {}'.format(*pair)) for pair in feature_importances];"
      ],
      "execution_count": null,
      "outputs": [
        {
          "output_type": "stream",
          "name": "stdout",
          "text": [
            "Variable: DISTANCE             Importance: 0.55\n",
            "Variable: Elevation            Importance: 0.21\n",
            "Variable: AppliedRat           Importance: 0.12\n",
            "Variable: Heading              Importance: 0.11\n"
          ]
        }
      ]
    },
    {
      "cell_type": "code",
      "metadata": {
        "id": "m5viLmaPMjPz",
        "colab": {
          "base_uri": "https://localhost:8080/",
          "height": 387
        },
        "outputId": "b110ccb0-1254-4e4f-cacd-df69b5d3fe2d"
      },
      "source": [
        "# Import matplotlib for plotting and use magic command for Jupyter Notebooks\n",
        "import matplotlib.pyplot as plt\n",
        "%matplotlib inline\n",
        "# Set the style\n",
        "plt.style.use('fivethirtyeight')\n",
        "# list of x locations for plotting\n",
        "x_values = list(range(len(importances)))\n",
        "# Make a bar chart\n",
        "plt.bar(x_values, importances, orientation = 'vertical')\n",
        "# Tick labels for x axis\n",
        "plt.xticks(x_values, feature_list, rotation='vertical')\n",
        "# Axis labels and title\n",
        "plt.ylabel('Importance'); plt.xlabel('Variable'); plt.title('Variable Importances');"
      ],
      "execution_count": null,
      "outputs": [
        {
          "output_type": "display_data",
          "data": {
            "image/png": "[encoded data removed]",
            "text/plain": [
              "<Figure size 432x288 with 1 Axes>"
            ]
          },
          "metadata": {}
        }
      ]
    },
    {
      "cell_type": "code",
      "metadata": {
        "id": "pYKDS2k8NyLW",
        "colab": {
          "base_uri": "https://localhost:8080/",
          "height": 669
        },
        "outputId": "3154a5f1-4d52-46e5-95e9-00329581150d"
      },
      "source": [
        "# Plot actual data and predictions \n",
        "\n",
        "plt.figure(figsize=(10,10))\n",
        "plt.scatter(predictions, (test_y1-predictions), c='crimson')\n",
        "\n",
        "#plt.plot([p1, p2], [p1, p2], 'b-')\n",
        "plt.title('Cotton Yield Random Forest Prediction vs Residuals', fontsize=15)\n",
        "plt.xlabel('Cotton Yield Random Forest Prediction', fontsize=15)\n",
        "plt.ylabel('Residues', fontsize=15)\n",
        "plt.show()"
      ],
      "execution_count": null,
      "outputs": [
        {
          "output_type": "display_data",
          "data": {
            "image/png": "[encoded data removed]",
            "text/plain": [
              "<Figure size 720x720 with 1 Axes>"
            ]
          },
          "metadata": {}
        }
      ]
    },
    {
      "cell_type": "code",
      "metadata": {
        "id": "0uaSXGg3SxyQ",
        "colab": {
          "base_uri": "https://localhost:8080/"
        },
        "outputId": "8e1f95a2-821c-41a0-e52d-7533a091eda5"
      },
      "source": [
        "from sklearn.ensemble import RandomForestRegressor\n",
        "from pprint import pprint\n",
        "# Look at parameters used by our current forest\n",
        "print('Parameters currently in use:\\n')\n",
        "pprint(rf.get_params())"
      ],
      "execution_count": null,
      "outputs": [
        {
          "output_type": "stream",
          "name": "stdout",
          "text": [
            "Parameters currently in use:\n",
            "\n",
            "{'bootstrap': True,\n",
            " 'ccp_alpha': 0.0,\n",
            " 'criterion': 'mse',\n",
            " 'max_depth': None,\n",
            " 'max_features': 'auto',\n",
            " 'max_leaf_nodes': None,\n",
            " 'max_samples': None,\n",
            " 'min_impurity_decrease': 0.0,\n",
            " 'min_impurity_split': None,\n",
            " 'min_samples_leaf': 1,\n",
            " 'min_samples_split': 2,\n",
            " 'min_weight_fraction_leaf': 0.0,\n",
            " 'n_estimators': 1000,\n",
            " 'n_jobs': None,\n",
            " 'oob_score': False,\n",
            " 'random_state': 42,\n",
            " 'verbose': 0,\n",
            " 'warm_start': False}\n"
          ]
        }
      ]
    },
    {
      "cell_type": "code",
      "metadata": {
        "id": "M75TLxTES4jp",
        "colab": {
          "base_uri": "https://localhost:8080/"
        },
        "outputId": "59323971-0d6e-481d-9c4c-f03c17aa9ea2"
      },
      "source": [
        "from sklearn.model_selection import RandomizedSearchCV\n",
        "# Number of trees in random forest\n",
        "n_estimators = [int(x) for x in np.linspace(start = 200, stop = 2000, num = 10)]\n",
        "# Number of features to consider at every split\n",
        "max_features = ['auto', 'sqrt']\n",
        "# Maximum number of levels in tree\n",
        "max_depth = [int(x) for x in np.linspace(10, 110, num = 11)]\n",
        "max_depth.append(None)\n",
        "# Minimum number of samples required to split a node\n",
        "min_samples_split = [2, 5, 10]\n",
        "# Minimum number of samples required at each leaf node\n",
        "min_samples_leaf = [1, 2, 4]\n",
        "# Method of selecting samples for training each tree\n",
        "bootstrap = [True, False]\n",
        "# Create the random grid\n",
        "random_grid = {'n_estimators': n_estimators,\n",
        "               'max_features': max_features,\n",
        "               'max_depth': max_depth,\n",
        "               'min_samples_split': min_samples_split,\n",
        "               'min_samples_leaf': min_samples_leaf,\n",
        "               'bootstrap': bootstrap}\n",
        "pprint(random_grid)"
      ],
      "execution_count": 14,
      "outputs": [
        {
          "output_type": "stream",
          "name": "stdout",
          "text": [
            "{'bootstrap': [True, False],\n",
            " 'max_depth': [10, 20, 30, 40, 50, 60, 70, 80, 90, 100, 110, None],\n",
            " 'max_features': ['auto', 'sqrt'],\n",
            " 'min_samples_leaf': [1, 2, 4],\n",
            " 'min_samples_split': [2, 5, 10],\n",
            " 'n_estimators': [200, 400, 600, 800, 1000, 1200, 1400, 1600, 1800, 2000]}\n"
          ]
        }
      ]
    },
    {
      "cell_type": "code",
      "metadata": {
        "id": "CZ9FvcR6TAFJ",
        "colab": {
          "base_uri": "https://localhost:8080/"
        },
        "outputId": "b9bf1f32-5aa1-479d-c98c-add1fc1da2c2"
      },
      "source": [
        "# Use the random grid to search for best hyperparameters\n",
        "# First create the base model to tune\n",
        "# TOOK 1h 10mins to tune the model \n",
        "rf = RandomForestRegressor()\n",
        "# Random search of parameters, using 3 fold cross validation, \n",
        "# search across 100 different combinations, and use all available cores\n",
        "rf_random = RandomizedSearchCV(estimator = rf, param_distributions = random_grid, \n",
        "                               n_iter = 100, cv = 3, verbose=0, random_state=42, \n",
        "                               n_jobs = None)\n",
        "# Fit the random search model\n",
        "rf_random.fit(train_x, train_y1)"
      ],
      "execution_count": 15,
      "outputs": [
        {
          "output_type": "execute_result",
          "data": {
            "text/plain": [
              "RandomizedSearchCV(cv=3, error_score=nan,\n",
              "                   estimator=RandomForestRegressor(bootstrap=True,\n",
              "                                                   ccp_alpha=0.0,\n",
              "                                                   criterion='mse',\n",
              "                                                   max_depth=None,\n",
              "                                                   max_features='auto',\n",
              "                                                   max_leaf_nodes=None,\n",
              "                                                   max_samples=None,\n",
              "                                                   min_impurity_decrease=0.0,\n",
              "                                                   min_impurity_split=None,\n",
              "                                                   min_samples_leaf=1,\n",
              "                                                   min_samples_split=2,\n",
              "                                                   min_weight_fraction_leaf=0.0,\n",
              "                                                   n_estimators=100,\n",
              "                                                   n_jobs=None, oob_score=Fals...\n",
              "                   param_distributions={'bootstrap': [True, False],\n",
              "                                        'max_depth': [10, 20, 30, 40, 50, 60,\n",
              "                                                      70, 80, 90, 100, 110,\n",
              "                                                      None],\n",
              "                                        'max_features': ['auto', 'sqrt'],\n",
              "                                        'min_samples_leaf': [1, 2, 4],\n",
              "                                        'min_samples_split': [2, 5, 10],\n",
              "                                        'n_estimators': [200, 400, 600, 800,\n",
              "                                                         1000, 1200, 1400, 1600,\n",
              "                                                         1800, 2000]},\n",
              "                   pre_dispatch='2*n_jobs', random_state=42, refit=True,\n",
              "                   return_train_score=False, scoring=None, verbose=0)"
            ]
          },
          "metadata": {},
          "execution_count": 15
        }
      ]
    },
    {
      "cell_type": "code",
      "metadata": {
        "id": "bvFPNHtyTNn9",
        "colab": {
          "base_uri": "https://localhost:8080/"
        },
        "outputId": "6d4f8039-d291-481e-f051-c45a868c5433"
      },
      "source": [
        "rf_random.best_params_"
      ],
      "execution_count": 16,
      "outputs": [
        {
          "output_type": "execute_result",
          "data": {
            "text/plain": [
              "{'bootstrap': True,\n",
              " 'max_depth': 70,\n",
              " 'max_features': 'auto',\n",
              " 'min_samples_leaf': 2,\n",
              " 'min_samples_split': 2,\n",
              " 'n_estimators': 1400}"
            ]
          },
          "metadata": {},
          "execution_count": 16
        }
      ]
    },
    {
      "cell_type": "code",
      "metadata": {
        "colab": {
          "base_uri": "https://localhost:8080/"
        },
        "id": "FN0_4oNVCAxD",
        "outputId": "4f4d689b-3562-4066-bca6-9a017c8cb362"
      },
      "source": [
        "def evaluate(model, test_features, test_labels):\n",
        "    predictions = model.predict(test_features)\n",
        "    errors = abs(predictions - test_labels)\n",
        "    mape = 100 * np.mean(errors / test_labels)\n",
        "    accuracy = 100 - mape\n",
        "    print('Model Performance')\n",
        "    print('Average Error: {:0.4f}.'.format(np.mean(errors)))\n",
        "    print('Accuracy = {:0.2f}%.'.format(accuracy))\n",
        "    \n",
        "    return accuracy\n",
        "base_model = RandomForestRegressor(n_estimators = 1000, random_state = 42)\n",
        "base_model.fit(train_x, train_y1)\n",
        "base_accuracy = evaluate(base_model, test_x, test_y1)"
      ],
      "execution_count": 17,
      "outputs": [
        {
          "output_type": "stream",
          "name": "stdout",
          "text": [
            "Model Performance\n",
            "Average Error: 0.3743.\n",
            "Accuracy = 71.30%.\n"
          ]
        }
      ]
    },
    {
      "cell_type": "code",
      "metadata": {
        "colab": {
          "base_uri": "https://localhost:8080/"
        },
        "id": "LW5mGdNDCELG",
        "outputId": "fec570e2-78b4-46e1-cb50-12c15c62d641"
      },
      "source": [
        "best_random = rf_random.best_estimator_\n",
        "random_accuracy = evaluate(best_random, test_x, test_y1)"
      ],
      "execution_count": 18,
      "outputs": [
        {
          "output_type": "stream",
          "name": "stdout",
          "text": [
            "Model Performance\n",
            "Average Error: 0.3743.\n",
            "Accuracy = 71.11%.\n"
          ]
        }
      ]
    },
    {
      "cell_type": "code",
      "metadata": {
        "colab": {
          "base_uri": "https://localhost:8080/"
        },
        "id": "iUkGSj06CGHJ",
        "outputId": "51891d3e-a2e6-44c6-eac7-2ebfab1304fd"
      },
      "source": [
        "print('Improvement of {:0.2f}%.'.format( 100 * (random_accuracy - base_accuracy) / base_accuracy))"
      ],
      "execution_count": 19,
      "outputs": [
        {
          "output_type": "stream",
          "name": "stdout",
          "text": [
            "Improvement of -0.28%.\n"
          ]
        }
      ]
    },
    {
      "cell_type": "code",
      "metadata": {
        "id": "9bD5RsKJCePj"
      },
      "source": [
        "from sklearn.model_selection import GridSearchCV\n",
        "# Create the parameter grid based on the results of random search \n",
        "param_grid = {\n",
        "    'bootstrap': [True],\n",
        "    'max_depth': [80, 90, 100, 110, None],\n",
        "    'max_features': ['sqrt','log2', 'auto', None],\n",
        "    'min_samples_leaf': [1,2, 3],\n",
        "    'min_samples_split': [1, 2, 3],\n",
        "    'n_estimators': [1000, 1500, 2000]\n",
        "}\n",
        "# Create a based model\n",
        "rf = RandomForestRegressor()\n",
        "# Instantiate the grid search model\n",
        "grid_search = GridSearchCV(estimator = rf, param_grid = param_grid, \n",
        "                          cv = 3, n_jobs = -1, verbose = 2)"
      ],
      "execution_count": 23,
      "outputs": []
    },
    {
      "cell_type": "code",
      "metadata": {
        "colab": {
          "base_uri": "https://localhost:8080/"
        },
        "id": "ZgaMso5ICrji",
        "outputId": "fa82b9b0-8b3b-45d8-839c-cc1af55576d6"
      },
      "source": [
        "# Fit the grid search to the data\n",
        "grid_search.fit(train_x, train_y1)\n",
        "grid_search.best_params_"
      ],
      "execution_count": null,
      "outputs": [
        {
          "metadata": {
            "tags": null
          },
          "name": "stdout",
          "output_type": "stream",
          "text": [
            "Fitting 3 folds for each of 540 candidates, totalling 1620 fits\n"
          ]
        },
        {
          "metadata": {
            "tags": null
          },
          "name": "stderr",
          "output_type": "stream",
          "text": [
            "[Parallel(n_jobs=-1)]: Using backend LokyBackend with 2 concurrent workers.\n",
            "/usr/local/lib/python3.7/dist-packages/joblib/externals/loky/process_executor.py:691: UserWarning: A worker stopped while some jobs were given to the executor. This can be caused by a too short worker timeout or by a memory leak.\n",
            "  \"timeout or by a memory leak.\", UserWarning\n",
            "[Parallel(n_jobs=-1)]: Done  37 tasks      | elapsed:  4.9min\n",
            "[Parallel(n_jobs=-1)]: Done 158 tasks      | elapsed: 22.6min\n",
            "[Parallel(n_jobs=-1)]: Done 361 tasks      | elapsed: 64.8min\n"
          ]
        }
      ]
    }
  ]
}